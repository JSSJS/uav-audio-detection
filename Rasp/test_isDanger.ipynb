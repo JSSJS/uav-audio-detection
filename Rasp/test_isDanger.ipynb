{
 "cells": [
  {
   "cell_type": "code",
   "execution_count": 1,
   "metadata": {},
   "outputs": [
    {
     "name": "stdout",
     "output_type": "stream",
     "text": [
      "INFO:tensorflow:Restoring parameters from ../models/RNN/my_RNN_model_test\n"
     ]
    }
   ],
   "source": [
    "from tfModelRNN import *"
   ]
  },
  {
   "cell_type": "code",
   "execution_count": 2,
   "metadata": {},
   "outputs": [
    {
     "name": "stdout",
     "output_type": "stream",
     "text": [
      "(81920,)\n",
      "small end: (16, 9)\n"
     ]
    }
   ],
   "source": [
    "raw = Audio.getStream(sample_rate = 44100, chunk_size = 8192,chunk_num = 10, isWrite=True)\n",
    "#raw,sr = librosa.load('../data/drone170719-002.wav', sr=22050)\n",
    "dataX = extractFeature(raw)\n",
    "\n",
    "#print(X_hot.shape)\n",
    "y_pred = sess.run(tf.argmax(Y_pred,1), feed_dict={X:dataX, BatchSize: len(dataX)})"
   ]
  },
  {
   "cell_type": "code",
   "execution_count": 3,
   "metadata": {},
   "outputs": [
    {
     "data": {
      "text/plain": [
       "[<matplotlib.lines.Line2D at 0x1f7c2df0978>]"
      ]
     },
     "execution_count": 3,
     "metadata": {},
     "output_type": "execute_result"
    },
    {
     "data": {
      "image/png": "[encoded data removed]",
      "text/plain": [
       "<Figure size 1080x648 with 1 Axes>"
      ]
     },
     "metadata": {},
     "output_type": "display_data"
    }
   ],
   "source": [
    "import matplotlib.pyplot as plt\n",
    "%matplotlib inline\n",
    "\n",
    "fig = plt.figure(figsize=(15,9))\n",
    "ax = fig.add_subplot(1,1,1)\n",
    "ax.plot(np.linspace(0,len(y_pred), len(y_pred)),y_pred)"
   ]
  },
  {
   "cell_type": "markdown",
   "metadata": {},
   "source": [
    "## sudo pip3 install librosa==0.4.2\n",
    "## pip3 install numpy\n",
    "## pip3 install tensorflow"
   ]
  },
  {
   "cell_type": "code",
   "execution_count": 1,
   "metadata": {},
   "outputs": [
    {
     "name": "stdout",
     "output_type": "stream",
     "text": [
      "INFO:tensorflow:Restoring parameters from ../models/RNN/my_RNN_model_test\n",
      "(8192,)\n",
      "small end: (16, 9)\n",
      "[0]\n",
      "\t 0\n",
      "(8192,)\n",
      "small end: (16, 9)\n",
      "[0]\n",
      "\t 0\n",
      "(8192,)\n",
      "small end: (16, 9)\n",
      "[0]\n",
      "\t 0\n",
      "(8192,)\n",
      "small end: (16, 9)\n",
      "[0]\n",
      "\t 0\n",
      "(8192,)\n",
      "small end: (16, 9)\n",
      "[0]\n",
      "\t 0\n",
      "(8192,)\n",
      "small end: (16, 9)\n",
      "[0]\n",
      "\t 0\n",
      "(8192,)\n",
      "small end: (16, 9)\n",
      "[0]\n",
      "\t 0\n",
      "(8192,)\n",
      "small end: (16, 9)\n",
      "[0]\n",
      "\t 0\n",
      "(8192,)\n",
      "small end: (16, 9)\n",
      "[0]\n",
      "\t 0\n",
      "(8192,)\n",
      "small end: (16, 9)\n",
      "[0]\n",
      "\t 0\n",
      "(8192,)\n",
      "small end: (16, 9)\n",
      "[0]\n",
      "\t 0\n",
      "(8192,)\n",
      "small end: (16, 9)\n",
      "[0]\n",
      "\t 0\n",
      "(8192,)\n",
      "small end: (16, 9)\n",
      "[0]\n",
      "\t 0\n",
      "(8192,)\n",
      "small end: (16, 9)\n",
      "[0]\n",
      "\t 0\n",
      "(8192,)\n",
      "small end: (16, 9)\n",
      "[0]\n",
      "\t 0\n",
      "(8192,)\n",
      "small end: (16, 9)\n",
      "[0]\n",
      "\t 0\n",
      "(8192,)\n",
      "small end: (16, 9)\n",
      "[0]\n",
      "\t 0\n",
      "(8192,)\n",
      "small end: (16, 9)\n",
      "[0]\n",
      "\t 0\n",
      "(8192,)\n",
      "small end: (16, 9)\n",
      "[0]\n",
      "\t 0\n",
      "(8192,)\n",
      "small end: (16, 9)\n",
      "[0]\n",
      "\t 0\n",
      "(8192,)\n",
      "small end: (16, 9)\n",
      "[0]\n",
      "\t 0\n",
      "(8192,)\n",
      "small end: (16, 9)\n",
      "[0]\n",
      "\t 0\n",
      "(8192,)\n",
      "small end: (16, 9)\n",
      "[0]\n",
      "\t 0\n",
      "(8192,)\n",
      "small end: (16, 9)\n",
      "[0]\n",
      "\t 0\n",
      "(8192,)\n",
      "small end: (16, 9)\n",
      "[0]\n",
      "\t 0\n"
     ]
    },
    {
     "ename": "KeyboardInterrupt",
     "evalue": "",
     "output_type": "error",
     "traceback": [
      "\u001b[1;31m---------------------------------------------------------------------------\u001b[0m",
      "\u001b[1;31mKeyboardInterrupt\u001b[0m                         Traceback (most recent call last)",
      "\u001b[1;32m<ipython-input-1-4d676787959e>\u001b[0m in \u001b[0;36m<module>\u001b[1;34m()\u001b[0m\n\u001b[0;32m      5\u001b[0m \u001b[1;31m# 2: load\u001b[0m\u001b[1;33m\u001b[0m\u001b[1;33m\u001b[0m\u001b[0m\n\u001b[0;32m      6\u001b[0m \u001b[1;32mwhile\u001b[0m\u001b[1;33m(\u001b[0m\u001b[1;32mTrue\u001b[0m\u001b[1;33m)\u001b[0m\u001b[1;33m:\u001b[0m\u001b[1;33m\u001b[0m\u001b[0m\n\u001b[1;32m----> 7\u001b[1;33m     \u001b[0my_pred\u001b[0m \u001b[1;33m=\u001b[0m \u001b[0mgetDetectionResult\u001b[0m\u001b[1;33m(\u001b[0m\u001b[1;33m)\u001b[0m\u001b[1;33m\u001b[0m\u001b[0m\n\u001b[0m\u001b[0;32m      8\u001b[0m     \u001b[0mprint\u001b[0m\u001b[1;33m(\u001b[0m\u001b[1;34m'\\t'\u001b[0m\u001b[1;33m,\u001b[0m\u001b[0my_pred\u001b[0m\u001b[1;33m)\u001b[0m\u001b[1;33m\u001b[0m\u001b[0m\n",
      "\u001b[1;32m~\\Documents\\uav-audio-detection\\Rasp\\tfModelRNN.py\u001b[0m in \u001b[0;36mgetDetectionResult\u001b[1;34m()\u001b[0m\n\u001b[0;32m     87\u001b[0m \u001b[1;33m\u001b[0m\u001b[0m\n\u001b[0;32m     88\u001b[0m \u001b[1;32mdef\u001b[0m \u001b[0mgetDetectionResult\u001b[0m\u001b[1;33m(\u001b[0m\u001b[1;33m)\u001b[0m\u001b[1;33m:\u001b[0m\u001b[1;33m\u001b[0m\u001b[0m\n\u001b[1;32m---> 89\u001b[1;33m     \u001b[0mraw\u001b[0m \u001b[1;33m=\u001b[0m \u001b[0mAudio\u001b[0m\u001b[1;33m.\u001b[0m\u001b[0mgetStream\u001b[0m\u001b[1;33m(\u001b[0m\u001b[0msample_rate\u001b[0m \u001b[1;33m=\u001b[0m \u001b[1;36m44100\u001b[0m\u001b[1;33m,\u001b[0m \u001b[0mchunk_size\u001b[0m \u001b[1;33m=\u001b[0m \u001b[1;36m8192\u001b[0m\u001b[1;33m,\u001b[0m\u001b[0mchunk_num\u001b[0m \u001b[1;33m=\u001b[0m \u001b[1;36m1\u001b[0m\u001b[1;33m,\u001b[0m \u001b[0misWrite\u001b[0m\u001b[1;33m=\u001b[0m\u001b[1;32mTrue\u001b[0m\u001b[1;33m)\u001b[0m\u001b[1;33m\u001b[0m\u001b[0m\n\u001b[0m\u001b[0;32m     90\u001b[0m     \u001b[0mdataX\u001b[0m \u001b[1;33m=\u001b[0m \u001b[0mextractFeature\u001b[0m\u001b[1;33m(\u001b[0m\u001b[0mraw\u001b[0m\u001b[1;33m)\u001b[0m\u001b[1;33m\u001b[0m\u001b[0m\n\u001b[0;32m     91\u001b[0m     \u001b[0my_pred\u001b[0m \u001b[1;33m=\u001b[0m \u001b[0msess\u001b[0m\u001b[1;33m.\u001b[0m\u001b[0mrun\u001b[0m\u001b[1;33m(\u001b[0m\u001b[0mtf\u001b[0m\u001b[1;33m.\u001b[0m\u001b[0margmax\u001b[0m\u001b[1;33m(\u001b[0m\u001b[0mY_pred\u001b[0m\u001b[1;33m,\u001b[0m\u001b[1;36m1\u001b[0m\u001b[1;33m)\u001b[0m\u001b[1;33m,\u001b[0m \u001b[0mfeed_dict\u001b[0m\u001b[1;33m=\u001b[0m\u001b[1;33m{\u001b[0m\u001b[0mX\u001b[0m\u001b[1;33m:\u001b[0m\u001b[0mdataX\u001b[0m\u001b[1;33m,\u001b[0m \u001b[0mBatchSize\u001b[0m\u001b[1;33m:\u001b[0m \u001b[0mlen\u001b[0m\u001b[1;33m(\u001b[0m\u001b[0mdataX\u001b[0m\u001b[1;33m)\u001b[0m\u001b[1;33m,\u001b[0m \u001b[0mkeep_prob\u001b[0m\u001b[1;33m:\u001b[0m\u001b[1;36m1.0\u001b[0m \u001b[1;33m}\u001b[0m\u001b[1;33m)\u001b[0m\u001b[1;33m\u001b[0m\u001b[0m\n",
      "\u001b[1;32m~\\Documents\\uav-audio-detection\\Rasp\\myAudio.py\u001b[0m in \u001b[0;36mgetStream\u001b[1;34m(sample_rate, chunk_size, chunk_num, isWrite)\u001b[0m\n\u001b[0;32m     32\u001b[0m         \u001b[0mt1\u001b[0m \u001b[1;33m=\u001b[0m \u001b[0mtime\u001b[0m\u001b[1;33m.\u001b[0m\u001b[0mtime\u001b[0m\u001b[1;33m(\u001b[0m\u001b[1;33m)\u001b[0m\u001b[1;33m\u001b[0m\u001b[0m\n\u001b[0;32m     33\u001b[0m         \u001b[1;32mfor\u001b[0m \u001b[0mi\u001b[0m \u001b[1;32min\u001b[0m \u001b[0mrange\u001b[0m\u001b[1;33m(\u001b[0m\u001b[0mCHUNK_NUM\u001b[0m\u001b[1;33m)\u001b[0m\u001b[1;33m:\u001b[0m\u001b[1;33m\u001b[0m\u001b[0m\n\u001b[1;32m---> 34\u001b[1;33m             \u001b[0mframe\u001b[0m\u001b[1;33m.\u001b[0m\u001b[0mappend\u001b[0m\u001b[1;33m(\u001b[0m\u001b[0mstream\u001b[0m\u001b[1;33m.\u001b[0m\u001b[0mread\u001b[0m\u001b[1;33m(\u001b[0m\u001b[0mCHUNK_SIZE\u001b[0m\u001b[1;33m,\u001b[0m\u001b[0mexception_on_overflow\u001b[0m \u001b[1;33m=\u001b[0m \u001b[1;32mFalse\u001b[0m\u001b[1;33m)\u001b[0m\u001b[1;33m)\u001b[0m\u001b[1;33m\u001b[0m\u001b[0m\n\u001b[0m\u001b[0;32m     35\u001b[0m \u001b[1;33m\u001b[0m\u001b[0m\n\u001b[0;32m     36\u001b[0m         \u001b[0mframe\u001b[0m \u001b[1;33m=\u001b[0m \u001b[1;34mb''\u001b[0m\u001b[1;33m.\u001b[0m\u001b[0mjoin\u001b[0m\u001b[1;33m(\u001b[0m\u001b[0mframe\u001b[0m\u001b[1;33m)\u001b[0m\u001b[1;33m\u001b[0m\u001b[0m\n",
      "\u001b[1;32mc:\\users\\jh\\anaconda3\\envs\\tensorflow\\lib\\site-packages\\pyaudio.py\u001b[0m in \u001b[0;36mread\u001b[1;34m(self, num_frames, exception_on_overflow)\u001b[0m\n\u001b[0;32m    606\u001b[0m                           paCanNotReadFromAnOutputOnlyStream)\n\u001b[0;32m    607\u001b[0m \u001b[1;33m\u001b[0m\u001b[0m\n\u001b[1;32m--> 608\u001b[1;33m         \u001b[1;32mreturn\u001b[0m \u001b[0mpa\u001b[0m\u001b[1;33m.\u001b[0m\u001b[0mread_stream\u001b[0m\u001b[1;33m(\u001b[0m\u001b[0mself\u001b[0m\u001b[1;33m.\u001b[0m\u001b[0m_stream\u001b[0m\u001b[1;33m,\u001b[0m \u001b[0mnum_frames\u001b[0m\u001b[1;33m,\u001b[0m \u001b[0mexception_on_overflow\u001b[0m\u001b[1;33m)\u001b[0m\u001b[1;33m\u001b[0m\u001b[0m\n\u001b[0m\u001b[0;32m    609\u001b[0m \u001b[1;33m\u001b[0m\u001b[0m\n\u001b[0;32m    610\u001b[0m     \u001b[1;32mdef\u001b[0m \u001b[0mget_read_available\u001b[0m\u001b[1;33m(\u001b[0m\u001b[0mself\u001b[0m\u001b[1;33m)\u001b[0m\u001b[1;33m:\u001b[0m\u001b[1;33m\u001b[0m\u001b[0m\n",
      "\u001b[1;31mKeyboardInterrupt\u001b[0m: "
     ]
    }
   ],
   "source": [
    "#install librosa \n",
    "from tfModelRNN import *\n",
    "# 0: none\n",
    "# 1: unloaded \n",
    "# 2: load \n",
    "while(True):\n",
    "    y_pred = getDetectionResult()\n",
    "    print('\\t',y_pred)"
   ]
  },
  {
   "cell_type": "markdown",
   "metadata": {},
   "source": [
    "\n",
    "Thanks @MatthewBerryman, you got me over the hump! On the newest Raspian release (stretch) I was successful with the following after several hours of frustration of trying to get librosa installed on Raspian jessie (which my RPi3 came with). Having said this, the following procedure may also work with jessie.\n",
    "\n",
    "First, update your system's package list and upgrade all your installed packages to their latest versions with the command:\n",
    "\n",
    "## sudo apt-get update\n",
    "## sudo apt-get dist-upgrade\n",
    "Install Python science stack:\n",
    "\n",
    "## sudo pip3 install numpy --upgrade \n",
    "## sudo apt-get install python3-pandas\n",
    "(Also seems to install matplotlib, scipy)\n",
    "\n",
    "sudo apt-get install python3-sklearn\n",
    "Then, install the low-level virtual machine, LLVM (per @MatthewBerryman, I used llvm 3.8 and llvmlite 0.15.0, and not the newest combination where I couldn't find the packages.) After installing llvm-3.8, a symbolic link needs to be defined before installing llvmlite.\n",
    "\n",
    "## sudo apt-get install llvm-3.8\n",
    "## sudo ln -s /usr/bin/llvm-config-3.8 /usr/bin/llvm-config\n",
    "## sudo pip3 install llvmlite==0.15.0\n",
    "## sudo pip3 install numba==0.32.0\n",
    "Numba is 0.32.0 because if it's the newest (0.36), it will not import because of an llvm mismatch, and if it's a lower version, the librosa install will upgrade it to the newest version.\n",
    "\n",
    "Finally, install librosa:\n",
    "\n",
    "## sudo pip3 install librosa==0.4.2\n",
    "However, when trying to import librosa, it still throws and error, namely\n",
    "\n",
    "ImportError: libf77blas.so.3: cannot open shared object file: No such file or directory\n",
    "Googling this error indicated this would fix it:\n",
    "\n",
    "## sudo apt-get install libatlas-base-dev"
   ]
  },
  {
   "cell_type": "code",
   "execution_count": null,
   "metadata": {},
   "outputs": [],
   "source": []
  }
 ],
 "metadata": {
  "kernelspec": {
   "display_name": "Python 3",
   "language": "python",
   "name": "python3"
  }
 },
 "nbformat": 4,
 "nbformat_minor": 2
}
