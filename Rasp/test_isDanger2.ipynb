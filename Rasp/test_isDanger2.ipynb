{
 "cells": [
  {
   "cell_type": "code",
   "execution_count": 14,
   "metadata": {},
   "outputs": [],
   "source": [
    "import numpy as np\n",
    "import librosa\n",
    "import tensorflow as tf\n",
    "import glob\n",
    "\n",
    "from myAudio import Audio\n",
    "\n",
    "\n",
    "CHUNK_SIZE = 8192\n",
    "SR = 44100\n",
    "\n",
    "\n",
    "##########################\n",
    "'''\n",
    "batch_size = 2048\n",
    "num_classes = 16            #분류할 사전의 크기 \n",
    "\n",
    "learning_rate = 0.01    \n",
    "\n",
    "output_dim = 3\n",
    "layers = 3\n",
    "\n",
    "N_MFCC = 16\n",
    "sequence_length = 80 #layer\n",
    "n_unique_labels = 3\n",
    "'''\n",
    "#################\n",
    "n_mels = 40\n",
    "n_frame = 500\n",
    "window_size=1024\n",
    "hop_size=512\n",
    "num_classes = 40            #분류할 사전의 크기  \n",
    "learning_rate = 0.01    \n",
    "output_dim = 3\n",
    "layers = 3\n",
    "\n",
    "N_MFCC = 16\n",
    "batch_size = 2048\n",
    "sequence_length = 50 #layer\n",
    "n_unique_labels = 3\n",
    "###############\n",
    "def makeHot(dataX, dataY, sequence_length):\n",
    "    X_hot_list= []\n",
    "    Y_hot_tmp = dataY[sequence_length-1:]\n",
    "\n",
    "    for i in range(0, dataX.shape[0] - sequence_length+1):\n",
    "        _x = dataX[i:i + sequence_length]\n",
    "        #if i<10:\n",
    "            #print(_x, \"->\", Y_hot_tmp[i])\n",
    "        X_hot_list.append(_x)\n",
    "\n",
    "    X_hot = np.array(X_hot_list[:])\n",
    "    Y_hot= Y_hot_tmp.reshape((len(Y_hot_tmp),n_unique_labels))\n",
    "    return X_hot[:], Y_hot[:]\n",
    "def extractFeature(raw):\n",
    "    dataX= mfcc4(raw,-1)\n",
    "    #X_hot = makeHot(dataX,sequence_length = sequence_length)\n",
    "    X_hot = dataX\n",
    "    return X_hot[:]\n",
    "\n",
    "def mfcc(raw, chunk_size=8192, sr=44100, n_mfcc=N_MFCC):\n",
    "    mfcc = np.empty((sequence_length, 0))\n",
    "    for i in range(0, len(raw), chunk_size):\n",
    "        mfcc_slice = librosa.feature.mfcc(raw[i:i+chunk_size], sr=sr, n_mfcc=n_mfcc)\n",
    "        mfcc = np.hstack((mfcc, mfcc_slice))\n",
    "    print(mfcc.shape)\n",
    "    return mfcc\n",
    "def mfcc2(raw, chunk_size=8192, sr=SR, n_mfcc=N_MFCC):\n",
    "    raw_mel = librosa.feature.melspectrogram(y=raw, sr=sr)\n",
    "    s = librosa.power_to_db(raw_mel)\n",
    "    mfcc = librosa.feature.mfcc(S=s, sr=sr, n_mfcc=n_mfcc)\n",
    "    print(mfcc.shape)\n",
    "    return mfcc"
   ]
  },
  {
   "cell_type": "code",
   "execution_count": 3,
   "metadata": {},
   "outputs": [],
   "source": [
    "###########################################   Model   #########################################\n",
    "X = tf.placeholder(tf.float32, [None, sequence_length,num_classes], name=\"X\")\n",
    "Y = tf.placeholder(tf.float32, [None, output_dim], name=\"Y\")\n",
    "\n",
    "keep_prob = tf.placeholder(tf.float32)\n",
    "\n",
    "cell = tf.contrib.rnn.BasicLSTMCell(num_units=num_classes, state_is_tuple=True)\n",
    "#cell = tf.contrib.rnn.DropoutWrapper(cell, output_keep_prob=keep_prob)\n",
    "cell = tf.contrib.rnn.MultiRNNCell([cell]*2, state_is_tuple= True)\n",
    "\n",
    "BatchSize = tf.placeholder(tf.int32, [], name='BatchSize')\n",
    "initial_state = cell.zero_state(BatchSize, tf.float32)\n",
    "outputs, _states = tf.nn.dynamic_rnn(cell, X,initial_state=initial_state,dtype=tf.float32)\n",
    "\n",
    "dense1 = tf.layers.dense(inputs=outputs[:,-1], units=sequence_length*output_dim, activation=tf.nn.relu)\n",
    "\n",
    "dense2 = tf.layers.dense(inputs=dense1, units=sequence_length*output_dim, activation=tf.nn.relu)\n",
    "dropout2 = tf.nn.dropout(dense1, keep_prob=keep_prob)\n",
    "\n",
    "dense3 = tf.layers.dense(inputs=dense2, units=output_dim, activation=tf.nn.relu)\n",
    "\n",
    "Y_pred= tf.layers.dense(inputs=dense3, units=output_dim)\n",
    "cost = tf.reduce_mean(tf.nn.softmax_cross_entropy_with_logits_v2(logits=Y_pred, labels=Y))\n",
    "lr = tf.placeholder(tf.float32,shape=(), name='learning_rate')\n",
    "train = tf.train.AdamOptimizer(lr).minimize(cost)\n",
    "\n",
    "\n",
    "##################################################################################################\n"
   ]
  },
  {
   "cell_type": "code",
   "execution_count": 4,
   "metadata": {},
   "outputs": [],
   "source": [
    "def load(files, sr=44100):\n",
    "    [raw, sr] = librosa.load(files[0], sr=sr)\n",
    "    for f in files[1:]:\n",
    "        [array, sr] = librosa.load(f, sr=sr)\n",
    "        raw = np.hstack((raw, array))\n",
    "    print(raw.shape)\n",
    "    return raw"
   ]
  },
  {
   "cell_type": "code",
   "execution_count": 5,
   "metadata": {
    "scrolled": false
   },
   "outputs": [
    {
     "name": "stdout",
     "output_type": "stream",
     "text": [
      "1 개\t ../data/test_20sec/Unloaded\\test_unloaded.wav\n",
      "1 개\t ../data/test_20sec/Loaded\\test_loaded.wav\n",
      "3 개\t ../data/test_20sec/Background\\test_background.wav\n",
      "(1762047,)\n",
      "(3530248,)\n",
      "(11364138,)\n"
     ]
    }
   ],
   "source": [
    "import glob\n",
    "uav_path = '../data/test_20sec/Unloaded/*.*'\n",
    "loaded_path = '../data/test_20sec/Loaded/*.*'\n",
    "none_path = '../data/test_20sec/Background/*.*'\n",
    "\n",
    "uav_files = glob.glob(uav_path)\n",
    "loaded_files = glob.glob(loaded_path)\n",
    "none_files = glob.glob(none_path)\n",
    "print(len(uav_files),'개\\t', uav_files[0])\n",
    "print(len(uav_files),'개\\t', loaded_files[0])\n",
    "print(len(none_files), '개\\t',none_files[0])\n",
    "uav_raw = load(uav_files)\n",
    "loaded_raw = load(loaded_files)\n",
    "none_raw = load(none_files)\n"
   ]
  },
  {
   "cell_type": "code",
   "execution_count": 6,
   "metadata": {},
   "outputs": [],
   "source": [
    "#mfcc_none = mfcc(none_raw)\n",
    "#mfcc_uav = mfcc(uav_raw)\n",
    "#mfcc_loaded = mfcc(loaded_raw)\n",
    "\n",
    "#mfcc_none = mfcc2(none_raw)\n",
    "#mfcc_uav = mfcc2(uav_raw)\n",
    "#mfcc_load = mfcc2(loaded_raw)\n",
    "\n",
    "#y_none =np.zeros(mfcc_none.shape[1], dtype=int)\n",
    "#y_uav = np.ones(mfcc_uav.shape[1], dtype=int)\n",
    "#y_loaded = np.ones(mfcc_load.shape[1], dtype=int)*2\n",
    "\n",
    "none_spec = librosa.feature.melspectrogram(y=none_raw, sr=SR,n_fft=window_size, hop_length=hop_size, power=2.0, n_mels=40)\n",
    "uav_spec = librosa.feature.melspectrogram(y=uav_raw, sr=SR,n_fft=window_size, hop_length=hop_size, power=2.0, n_mels=40)\n",
    "load_spec = librosa.feature.melspectrogram(y=loaded_raw, sr=SR,n_fft=window_size, hop_length=hop_size, power=2.0, n_mels=40)\n",
    "\n",
    "y_none =np.zeros(none_spec.shape[1], dtype=int)\n",
    "y_uav = np.ones(uav_spec.shape[1], dtype=int)\n",
    "y_loaded = np.ones(load_spec.shape[1], dtype=int)*2"
   ]
  },
  {
   "cell_type": "code",
   "execution_count": 7,
   "metadata": {},
   "outputs": [
    {
     "name": "stdout",
     "output_type": "stream",
     "text": [
      "(32534, 40) (32534,)\n"
     ]
    }
   ],
   "source": [
    "#X_mfcc = np.hstack((none_spec, uav_spec))\n",
    "#X_mfcc = np.hstack((X_mfcc, load_spec))\n",
    "#X_mfcc = X_mfcc.T\n",
    "\n",
    "X_mfcc = np.hstack((none_spec, uav_spec))\n",
    "X_mfcc = np.hstack((X_mfcc, load_spec))\n",
    "X_mfcc = X_mfcc.T\n",
    "\n",
    "y = np.hstack((y_none,  y_uav))\n",
    "y = np.hstack((y,y_loaded))\n",
    "\n",
    "#X = np.concatenate((mfcc_loaded, mfcc_uav, mfcc_none), axis=0)\n",
    "#y = np.hstack((y_loaded, y_uav, y_none))\n",
    "print(X_mfcc.shape, y.shape)\n"
   ]
  },
  {
   "cell_type": "code",
   "execution_count": 8,
   "metadata": {},
   "outputs": [
    {
     "name": "stdout",
     "output_type": "stream",
     "text": [
      "(32534, 3)\n"
     ]
    }
   ],
   "source": [
    "n_unique_labels = 3\n",
    "n_labels = y.shape[0]\n",
    "y_encoded = np.zeros((n_labels, n_unique_labels))\n",
    "y_encoded[np.arange(n_labels), y] = 1\n",
    "print(y_encoded.shape)\n",
    "#print(y_encoded[0], y_encoded[40000],y_encoded[100000])"
   ]
  },
  {
   "cell_type": "code",
   "execution_count": 9,
   "metadata": {},
   "outputs": [
    {
     "name": "stdout",
     "output_type": "stream",
     "text": [
      "(32534, 40) (32534, 3)\n",
      "(32485, 50, 40) (32485, 3)\n"
     ]
    }
   ],
   "source": [
    "dataX = X_mfcc\n",
    "dataY = y_encoded\n",
    "#print(y_encoded)\n",
    "print(dataX.shape, dataY.shape)\n",
    "\n",
    "#X_hot = np.array(dataX[:])\n",
    "#Y_hot = np.array(dataY[:])\n",
    "X_hot, Y_hot = makeHot( dataX, dataY, sequence_length)\n",
    "print(X_hot.shape, Y_hot.shape)\n"
   ]
  },
  {
   "cell_type": "code",
   "execution_count": 15,
   "metadata": {},
   "outputs": [
    {
     "name": "stdout",
     "output_type": "stream",
     "text": [
      "2048 40\n",
      "0.01 50\n",
      "3 3\n"
     ]
    }
   ],
   "source": [
    "print(batch_size, num_classes)\n",
    "print(learning_rate, sequence_length)\n",
    "print(output_dim, layers)"
   ]
  },
  {
   "cell_type": "code",
   "execution_count": 16,
   "metadata": {
    "scrolled": false
   },
   "outputs": [
    {
     "name": "stdout",
     "output_type": "stream",
     "text": [
      "INFO:tensorflow:Restoring parameters from ../models/RNN/my_RNN_model_test_RNN\n",
      "(32485,) (32485,)\n",
      "F-Score: 0.846\n",
      "Accuracy:  0.8460828074495921\n",
      "             precision    recall  f1-score   support\n",
      "\n",
      "          0       0.83      0.99      0.90     22147\n",
      "          1       0.89      0.30      0.45      3442\n",
      "          2       0.94      0.65      0.77      6896\n",
      "\n",
      "avg / total       0.86      0.85      0.83     32485\n",
      "\n",
      "[[21935   128    84]\n",
      " [ 2208  1042   192]\n",
      " [ 2388     0  4508]]\n"
     ]
    },
    {
     "data": {
      "text/plain": [
       "[<matplotlib.lines.Line2D at 0x24485bdee80>]"
      ]
     },
     "execution_count": 16,
     "metadata": {},
     "output_type": "execute_result"
    },
    {
     "data": {
      "image/png": "[encoded data removed]",
      "text/plain": [
       "<Figure size 1080x648 with 1 Axes>"
      ]
     },
     "metadata": {},
     "output_type": "display_data"
    },
    {
     "data": {
      "image/png": "[encoded data removed]",
      "text/plain": [
       "<Figure size 1080x648 with 1 Axes>"
      ]
     },
     "metadata": {},
     "output_type": "display_data"
    }
   ],
   "source": [
    "sess = tf.Session()\n",
    "saver = tf.train.Saver()\n",
    "model_path = '../models/RNN/my_RNN_model_test_RNN'\n",
    "saver.restore(sess, model_path)\n",
    "\n",
    "y_pred = sess.run(tf.argmax(Y_pred,1), feed_dict={\n",
    "    X: X_hot, BatchSize:len(X_hot), keep_prob:1.0})\n",
    "y_true = sess.run(tf.argmax(Y_hot,1))\n",
    "print(y_pred.shape, y_true.shape)\n",
    "\n",
    "from sklearn.metrics import precision_recall_fscore_support\n",
    "from sklearn.metrics import accuracy_score\n",
    "from sklearn.metrics import classification_report\n",
    "from sklearn.metrics import confusion_matrix\n",
    "\n",
    "\n",
    "p,r,f,s = precision_recall_fscore_support(y_true, y_pred, average='micro')\n",
    "print(\"F-Score:\", round(f,3))\n",
    "print(\"Accuracy: \", accuracy_score(y_true, y_pred))\n",
    "\n",
    "print(classification_report(y_true, y_pred))\n",
    "print(confusion_matrix(y_true, y_pred))\n",
    "\n",
    "import matplotlib.pyplot as plt\n",
    "%matplotlib inline\n",
    "fig = plt.figure(figsize=(15,9))\n",
    "ax = fig.add_subplot(1,1,1)\n",
    "ax.plot(np.linspace(0,len(y_pred), len(y_pred)),y_true)\n",
    "\n",
    "fig = plt.figure(figsize=(15,9))\n",
    "ax = fig.add_subplot(1,1,1)\n",
    "ax.plot(np.linspace(0,len(y_pred), len(y_pred)),y_pred)"
   ]
  },
  {
   "cell_type": "code",
   "execution_count": null,
   "metadata": {},
   "outputs": [],
   "source": []
  }
 ],
 "metadata": {
  "kernelspec": {
   "display_name": "Python 3",
   "language": "python",
   "name": "python3"
  },
  "language_info": {
   "codemirror_mode": {
    "name": "ipython",
    "version": 3
   },
   "file_extension": ".py",
   "mimetype": "text/x-python",
   "name": "python",
   "nbconvert_exporter": "python",
   "pygments_lexer": "ipython3",
   "version": "3.5.4"
  }
 },
 "nbformat": 4,
 "nbformat_minor": 2
}
