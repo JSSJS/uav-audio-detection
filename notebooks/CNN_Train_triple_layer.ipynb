{
 "cells": [
  {
   "cell_type": "code",
   "execution_count": 1,
   "metadata": {
    "scrolled": true
   },
   "outputs": [],
   "source": [
    "import matplotlib.pyplot as plt\n",
    "%matplotlib inline\n",
    "import IPython.display\n",
    "import librosa.display\n",
    "import numpy as np\n",
    "import librosa\n",
    "import tensorflow as tf\n",
    "import glob"
   ]
  },
  {
   "cell_type": "code",
   "execution_count": 2,
   "metadata": {},
   "outputs": [],
   "source": [
    "#uav_path = 'C:/Users/Jaesung/Desktop/코딩/Python실습/K-SW-PJT/RW_AUDIO_DATA_2018_Update/RW_AUDIO_DATA_2018_Update/JUNE_01_PHANTOMS/*.wav'\n",
    "#none_path = 'C:/Users/Jaesung/Desktop/코딩/Python실습/K-SW-PJT/RW_AUDIO_DATA_2018_Update/RW_AUDIO_DATA_2018_Update/JUNE_02_BACKGROUND/background_0*.wav'\n",
    "\n",
    "uav_path = '../../../new/Unloaded/*.wav'\n",
    "loaded_path = '../../../new/Loaded/*.wav'\n",
    "none_path = '../../../new/Background/*.wav'\n",
    "\n",
    "uav_files = glob.glob(uav_path)\n",
    "loaded_files = glob.glob(loaded_path)\n",
    "none_files = glob.glob(none_path)"
   ]
  },
  {
   "cell_type": "code",
   "execution_count": 3,
   "metadata": {},
   "outputs": [],
   "source": [
    "CHUNK_SIZE = 8192\n",
    "SR = 44100\n",
    "N_MFCC = 16"
   ]
  },
  {
   "cell_type": "code",
   "execution_count": 4,
   "metadata": {},
   "outputs": [],
   "source": [
    "def load(files, sr=44100):\n",
    "    [raw, sr] = librosa.load(files[0], sr=sr)\n",
    "    for f in files[1:]:\n",
    "        [array, sr] = librosa.load(f, sr=sr)\n",
    "        raw = np.hstack((raw, array))\n",
    "    print(raw.shape)\n",
    "    return raw"
   ]
  },
  {
   "cell_type": "code",
   "execution_count": 5,
   "metadata": {},
   "outputs": [
    {
     "name": "stdout",
     "output_type": "stream",
     "text": [
      "(33611763,)\n",
      "(16057370,)\n",
      "(80501215,)\n"
     ]
    }
   ],
   "source": [
    "uav_raw = load(uav_files)\n",
    "loaded_raw = load(loaded_files)\n",
    "none_raw = load(none_files)"
   ]
  },
  {
   "cell_type": "markdown",
   "metadata": {},
   "source": [
    "# Data Processing"
   ]
  },
  {
   "cell_type": "code",
   "execution_count": 6,
   "metadata": {},
   "outputs": [],
   "source": [
    "def mfcc4(raw, label, chunk_size=8192, window_size=4096, sr=44100, n_mfcc=16, n_frame=16):\n",
    "    mfcc = np.empty((0, n_mfcc, n_frame))\n",
    "    y = []\n",
    "    print(raw.shape)\n",
    "    for i in range(0, len(raw), chunk_size//2):\n",
    "        mfcc_slice = librosa.feature.mfcc(raw[i:i+chunk_size], sr=sr, n_mfcc=n_mfcc) #n_mfcc,17\n",
    "        if mfcc_slice.shape[1] < 17:\n",
    "            print(\"small end:\", mfcc_slice.shape)\n",
    "            continue\n",
    "        mfcc_slice = mfcc_slice[:,:-1]\n",
    "        mfcc_slice = mfcc_slice.reshape((1, mfcc_slice.shape[0], mfcc_slice.shape[1]))\n",
    "        mfcc = np.vstack((mfcc, mfcc_slice))\n",
    "        y.append(label)\n",
    "    y = np.array(y)\n",
    "    return mfcc, y"
   ]
  },
  {
   "cell_type": "code",
   "execution_count": 7,
   "metadata": {},
   "outputs": [
    {
     "name": "stdout",
     "output_type": "stream",
     "text": [
      "(16057370,)\n",
      "small end: (16, 11)\n",
      "small end: (16, 3)\n",
      "(33611763,)\n",
      "small end: (16, 16)\n",
      "small end: (16, 8)\n",
      "(80501215,)\n",
      "small end: (16, 13)\n",
      "small end: (16, 5)\n",
      "(8204, 16, 16) (8204,)\n",
      "(3919, 16, 16) (3919,)\n",
      "(19652, 16, 16) (19652,)\n"
     ]
    }
   ],
   "source": [
    "mfcc_loaded, y_loaded = mfcc4(loaded_raw, 2)\n",
    "mfcc_uav, y_uav = mfcc4(uav_raw, 1)\n",
    "mfcc_none, y_none = mfcc4(none_raw, 0)\n",
    "\n",
    "print(mfcc_uav.shape, y_uav.shape)\n",
    "print(mfcc_loaded.shape, y_loaded.shape)\n",
    "print(mfcc_none.shape, y_none.shape)"
   ]
  },
  {
   "cell_type": "code",
   "execution_count": 8,
   "metadata": {},
   "outputs": [
    {
     "name": "stdout",
     "output_type": "stream",
     "text": [
      "(31775, 16, 16) (31775,)\n"
     ]
    }
   ],
   "source": [
    "X = np.concatenate((mfcc_loaded, mfcc_uav, mfcc_none), axis=0)\n",
    "y = np.hstack((y_loaded, y_uav, y_none))\n",
    "print(X.shape, y.shape)"
   ]
  },
  {
   "cell_type": "code",
   "execution_count": 9,
   "metadata": {},
   "outputs": [
    {
     "name": "stdout",
     "output_type": "stream",
     "text": [
      "(31775, 3)\n"
     ]
    }
   ],
   "source": [
    "n_labels = y.shape[0]\n",
    "n_unique_labels = 3\n",
    "y_encoded = np.zeros((n_labels, n_unique_labels))\n",
    "y_encoded[np.arange(n_labels), y] = 1\n",
    "print(y_encoded.shape)"
   ]
  },
  {
   "cell_type": "code",
   "execution_count": 10,
   "metadata": {},
   "outputs": [],
   "source": [
    "from sklearn import model_selection\n",
    "X_train, X_test, y_train, y_test = model_selection.train_test_split(X, y_encoded, test_size=0.2, random_state=42)"
   ]
  },
  {
   "cell_type": "code",
   "execution_count": 11,
   "metadata": {},
   "outputs": [],
   "source": [
    "X_train, X_val, y_train, y_val = model_selection.train_test_split(X_train, y_train, test_size=0.2, random_state=42)"
   ]
  },
  {
   "cell_type": "code",
   "execution_count": 12,
   "metadata": {},
   "outputs": [
    {
     "name": "stdout",
     "output_type": "stream",
     "text": [
      "(20336, 16, 16) (6355, 16, 16)\n",
      "(5084, 16, 16) (5084, 3)\n",
      "(20336, 3) (6355, 3)\n"
     ]
    }
   ],
   "source": [
    "print(X_train.shape, X_test.shape)\n",
    "print(X_val.shape, y_val.shape)\n",
    "print(y_train.shape, y_test.shape)"
   ]
  },
  {
   "cell_type": "code",
   "execution_count": 13,
   "metadata": {},
   "outputs": [],
   "source": [
    "### path selection between jaesung & gunhoo ###\n",
    "#np.save('C:/Users/Jaesung/Desktop/코딩/Python실습/K-SW-PJT/RW_AUDIO_DATA_2018_Update/RW_AUDIO_DATA_2018_Update/Xy/X_train_chunk_3d', X_train)\n",
    "#np.save('C:/Users/Jaesung/Desktop/코딩/Python실습/K-SW-PJT/RW_AUDIO_DATA_2018_Update/RW_AUDIO_DATA_2018_Update/Xy/X_test_chunk_3d', X_test)\n",
    "#np.save('C:/Users/Jaesung/Desktop/코딩/Python실습/K-SW-PJT/RW_AUDIO_DATA_2018_Update/RW_AUDIO_DATA_2018_Update/Xy/y_train_chunk_3d', y_train)\n",
    "#np.save('C:/Users/Jaesung/Desktop/코딩/Python실습/K-SW-PJT/RW_AUDIO_DATA_2018_Update/RW_AUDIO_DATA_2018_Update/Xy/y_test_chunk_3d', y_test)\n",
    "np.save('../../../RW_AUDIO_DATA_2018_Update/Xy/X_train_chunk_3d', X_train)\n",
    "np.save('../../../RW_AUDIO_DATA_2018_Update/Xy/X_test_chunk_3d', X_test)\n",
    "np.save('../../../RW_AUDIO_DATA_2018_Update/Xy/X_val_chunk_3d', X_val)\n",
    "np.save('../../../RW_AUDIO_DATA_2018_Update/Xy/y_val_chunk_3d', y_val)\n",
    "np.save('../../../RW_AUDIO_DATA_2018_Update/Xy/y_train_chunk_3d', y_train)\n",
    "np.save('../../../RW_AUDIO_DATA_2018_Update/Xy/y_test_chunk_3d', y_test)"
   ]
  },
  {
   "cell_type": "code",
   "execution_count": 14,
   "metadata": {},
   "outputs": [],
   "source": [
    "### path selection between jaesung & gunhoo ###\n",
    "#X_train = np.load('C:/Users/Jaesung/Desktop/코딩/Python실습/K-SW-PJT/RW_AUDIO_DATA_2018_Update/RW_AUDIO_DATA_2018_Update/Xy/X_train_chunk_3d.npy')\n",
    "#X_test = np.load('C:/Users/Jaesung/Desktop/코딩/Python실습/K-SW-PJT/RW_AUDIO_DATA_2018_Update/RW_AUDIO_DATA_2018_Update/Xy/X_test_chunk_3d.npy')\n",
    "#y_train = np.load('C:/Users/Jaesung/Desktop/코딩/Python실습/K-SW-PJT/RW_AUDIO_DATA_2018_Update/RW_AUDIO_DATA_2018_Update/Xy/y_train_chunk_3d.npy')\n",
    "#y_test = np.load('C:/Users/Jaesung/Desktop/코딩/Python실습/K-SW-PJT/RW_AUDIO_DATA_2018_Update/RW_AUDIO_DATA_2018_Update/Xy/y_test_chunk_3d.npy')\n",
    "X_train = np.load('../../../RW_AUDIO_DATA_2018_Update/Xy/X_train_chunk_3d.npy')\n",
    "X_test = np.load('../../../RW_AUDIO_DATA_2018_Update/Xy/X_test_chunk_3d.npy')\n",
    "X_val = np.load('../../../RW_AUDIO_DATA_2018_Update/Xy/X_val_chunk_3d.npy')\n",
    "y_val = np.load('../../../RW_AUDIO_DATA_2018_Update/Xy/y_val_chunk_3d.npy')\n",
    "y_train = np.load('../../../RW_AUDIO_DATA_2018_Update/Xy/y_train_chunk_3d.npy')\n",
    "y_test = np.load('../../../RW_AUDIO_DATA_2018_Update/Xy/y_test_chunk_3d.npy')"
   ]
  },
  {
   "cell_type": "markdown",
   "metadata": {},
   "source": [
    "# Experiment 3 - 3 convolutional layer /w no dropout"
   ]
  },
  {
   "cell_type": "markdown",
   "metadata": {},
   "source": [
    "##Experiment 3-2\n",
    "- learning rate 0.005\n",
    "- pooling stride 1x1\n",
    "- #filter 1\n",
    "- best result among every other settings\n",
    "- cost kept fluctuated during training. (0.8 -> 1.3) -- why is that?"
   ]
  },
  {
   "cell_type": "code",
   "execution_count": 15,
   "metadata": {},
   "outputs": [],
   "source": [
    "tf.reset_default_graph()"
   ]
  },
  {
   "cell_type": "code",
   "execution_count": 16,
   "metadata": {},
   "outputs": [],
   "source": [
    "n_mfcc = 16\n",
    "n_frame = 16\n",
    "n_classes = 3\n",
    "n_channels = 1\n",
    "\n",
    "kernel_size = 3\n",
    "stride = 1\n",
    "pad = \"SAME\"\n",
    "\n",
    "learning_rate = 0.0002  # 0.005\n",
    "#0.0002 \n",
    "training_epochs = 100"
   ]
  },
  {
   "cell_type": "markdown",
   "metadata": {},
   "source": [
    "# Layer 1 "
   ]
  },
  {
   "cell_type": "code",
   "execution_count": 17,
   "metadata": {},
   "outputs": [],
   "source": [
    "X = tf.placeholder(tf.float32, shape=[None,n_mfcc*n_frame*n_channels])\n",
    "X = tf.reshape(X, [-1, n_mfcc, n_frame, n_channels])\n",
    "Y = tf.placeholder(tf.float32, shape=[None,n_classes])\n",
    "\n",
    "# 1st layer\n",
    "conv1 = tf.layers.conv2d(inputs=X, filters=1, kernel_size=[3, 3],\n",
    "                         padding=\"SAME\", activation=tf.nn.relu)\n",
    "pool1 = tf.layers.max_pooling2d(inputs=conv1, pool_size=[2, 2],\n",
    "                                padding=\"SAME\", strides=1)\n",
    "# 2nd layer\n",
    "conv2 = tf.layers.conv2d(inputs=pool1, filters=1, kernel_size=[3, 3],\n",
    "                         padding=\"SAME\", activation=tf.nn.relu)\n",
    "pool2 = tf.layers.max_pooling2d(inputs=conv2, pool_size=[2, 2],\n",
    "                                padding=\"SAME\", strides=1)\n",
    "# 3rd layer\n",
    "conv3 = tf.layers.conv2d(inputs=pool2, filters=1, kernel_size=[3, 3],\n",
    "                         padding=\"SAME\", activation=tf.nn.relu)\n",
    "pool3 = tf.layers.max_pooling2d(inputs=conv3, pool_size=[2, 2],\n",
    "                                padding=\"SAME\", strides=1)\n",
    "#dropout1 = tf.layers.dropout(inputs=pool1, rate=0.7, training=True)\n",
    "\n",
    "flat = tf.reshape(pool3, [-1, 16*16*1])"
   ]
  },
  {
   "cell_type": "code",
   "execution_count": 18,
   "metadata": {},
   "outputs": [],
   "source": [
    "dense2 = tf.layers.dense(inputs=flat, units=625, activation=tf.nn.relu)\n",
    "#dropout2 = tf.layers.dropout(inputs=dense2, rate=0.5, training=True)\n",
    "logits = tf.layers.dense(inputs=dense2, units=3)\n",
    "\n",
    "cost = tf.reduce_mean(tf.nn.softmax_cross_entropy_with_logits_v2(logits=logits, labels=Y))\n",
    "optimizer = tf.train.AdamOptimizer(learning_rate=learning_rate).minimize(cost)\n",
    "\n",
    "Y_pred = tf.contrib.layers.fully_connected(logits,n_classes,activation_fn = None)"
   ]
  },
  {
   "cell_type": "code",
   "execution_count": 19,
   "metadata": {},
   "outputs": [],
   "source": [
    "sess = tf.Session()\n",
    "sess.run(tf.global_variables_initializer())"
   ]
  },
  {
   "cell_type": "code",
   "execution_count": 20,
   "metadata": {},
   "outputs": [],
   "source": [
    "X_train2 = X_train.reshape(X_train.shape[0], X_train.shape[1], X_train.shape[2], 1)\n",
    "X_test2 = X_test.reshape(X_test.shape[0], X_test.shape[1], X_test.shape[2], 1)\n",
    "X_val2 = X_val.reshape(X_val.shape[0], X_val.shape[1], X_val.shape[2], 1)"
   ]
  },
  {
   "cell_type": "code",
   "execution_count": 21,
   "metadata": {},
   "outputs": [],
   "source": [
    "#model_path = 'C:/Users/Jaesung/Desktop/코딩/Python실습/K-SW-PJT/GIt/uav-audio-detection/models/CNN/my_test_model_cnn'\n",
    "model_path = '../models/CNN/my_test_model_cnn'\n",
    "saver = tf.train.Saver()"
   ]
  },
  {
   "cell_type": "code",
   "execution_count": 22,
   "metadata": {},
   "outputs": [],
   "source": [
    "from sklearn.metrics import precision_recall_fscore_support\n",
    "from sklearn.metrics import accuracy_score\n",
    "from sklearn.metrics import classification_report\n",
    "from sklearn.metrics import confusion_matrix\n",
    "\n",
    "import itertools as it"
   ]
  },
  {
   "cell_type": "code",
   "execution_count": 23,
   "metadata": {
    "scrolled": false
   },
   "outputs": [
    {
     "name": "stdout",
     "output_type": "stream",
     "text": [
      "5084 Epoch: 0001 cost =  0.681365328 val =  0.728560\n",
      "5084 Epoch: 0002 cost =  0.576608777 val =  0.748820\n",
      "5084 Epoch: 0003 cost =  0.530836426 val =  0.761802\n",
      "5084 Epoch: 0004 cost =  0.496112200 val =  0.763572\n",
      "5084 Epoch: 0005 cost =  0.467777732 val =  0.768686\n",
      "5084 Epoch: 0006 cost =  0.445129633 val =  0.772817\n",
      "5084 Epoch: 0007 cost =  0.425832930 val =  0.776554\n",
      "5084 Epoch: 0008 cost =  0.409105103 val =  0.779504\n",
      "5084 Epoch: 0009 cost =  0.394733003 val =  0.778914\n",
      "5084 Epoch: 0010 cost =  0.381912089 val =  0.783438\n",
      "5084 Epoch: 0011 cost =  0.370536683 val =  0.786979\n",
      "5084 Epoch: 0012 cost =  0.360374013 val =  0.792486\n",
      "5084 Epoch: 0013 cost =  0.350399904 val =  0.792290\n",
      "5084 Epoch: 0014 cost =  0.341469203 val =  0.795437\n",
      "5084 Epoch: 0015 cost =  0.332791634 val =  0.796617\n",
      "5084 Epoch: 0016 cost =  0.324385837 val =  0.796420\n",
      "5084 Epoch: 0017 cost =  0.316091774 val =  0.797600\n",
      "5084 Epoch: 0018 cost =  0.308341789 val =  0.799764\n",
      "5084 Epoch: 0019 cost =  0.300745439 val =  0.800747\n",
      "5084 Epoch: 0020 cost =  0.293377138 val =  0.799764\n",
      "5084 Epoch: 0021 cost =  0.286517097 val =  0.802911\n",
      "5084 Epoch: 0022 cost =  0.279466190 val =  0.801731\n",
      "5084 Epoch: 0023 cost =  0.272679158 val =  0.800551\n",
      "5084 Epoch: 0024 cost =  0.265925295 val =  0.798780\n",
      "5084 Epoch: 0025 cost =  0.259778323 val =  0.798190\n",
      "5084 Epoch: 0026 cost =  0.253020363 val =  0.799371\n",
      "5084 Epoch: 0027 cost =  0.246934025 val =  0.796814\n",
      "5084 Epoch: 0028 cost =  0.240924974 val =  0.796420\n",
      "5084 Epoch: 0029 cost =  0.235165388 val =  0.795830\n",
      "5084 Epoch: 0030 cost =  0.229596443 val =  0.796420\n",
      "5084 Epoch: 0031 cost =  0.223868775 val =  0.796027\n",
      "5084 Epoch: 0032 cost =  0.218039296 val =  0.798780\n",
      "5084 Epoch: 0033 cost =  0.212810825 val =  0.796814\n",
      "5084 Epoch: 0034 cost =  0.207295237 val =  0.797404\n",
      "5084 Epoch: 0035 cost =  0.202424182 val =  0.797207\n",
      "5084 Epoch: 0036 cost =  0.197293613 val =  0.797600\n",
      "5084 Epoch: 0037 cost =  0.191992442 val =  0.795830\n",
      "5084 Epoch: 0038 cost =  0.187731849 val =  0.795437\n",
      "5084 Epoch: 0039 cost =  0.182874568 val =  0.794650\n",
      "5084 Epoch: 0040 cost =  0.177959689 val =  0.793863\n",
      "5084 Epoch: 0041 cost =  0.173379524 val =  0.793470\n",
      "5084 Epoch: 0042 cost =  0.168694509 val =  0.796420\n",
      "5084 Epoch: 0043 cost =  0.164875745 val =  0.793666\n",
      "5084 Epoch: 0044 cost =  0.160988359 val =  0.793666\n",
      "5084 Epoch: 0045 cost =  0.157690477 val =  0.789142\n",
      "5084 Epoch: 0046 cost =  0.153225092 val =  0.788749\n",
      "5084 Epoch: 0047 cost =  0.149984768 val =  0.788159\n",
      "5084 Epoch: 0048 cost =  0.147027738 val =  0.784815\n",
      "5084 Epoch: 0049 cost =  0.143703727 val =  0.781865\n",
      "5084 Epoch: 0050 cost =  0.140630831 val =  0.782258\n",
      "5084 Epoch: 0051 cost =  0.137566281 val =  0.779111\n",
      "5084 Epoch: 0052 cost =  0.137029835 val =  0.782848\n",
      "5084 Epoch: 0053 cost =  0.132951788 val =  0.778914\n",
      "5084 Epoch: 0054 cost =  0.131390874 val =  0.779898\n",
      "5084 Epoch: 0055 cost =  0.128979313 val =  0.781865\n",
      "5084 Epoch: 0056 cost =  0.127566436 val =  0.778127\n",
      "5084 Epoch: 0057 cost =  0.126983763 val =  0.785995\n",
      "5084 Epoch: 0058 cost =  0.141082192 val =  0.780881\n",
      "5084 Epoch: 0059 cost =  0.132806413 val =  0.793863\n",
      "5084 Epoch: 0060 cost =  0.131435310 val =  0.795633\n",
      "5084 Epoch: 0061 cost =  0.130710117 val =  0.796420\n",
      "5084 Epoch: 0062 cost =  0.130243515 val =  0.801141\n",
      "5084 Epoch: 0063 cost =  0.126535236 val =  0.800354\n",
      "5084 Epoch: 0064 cost =  0.126659804 val =  0.795633\n",
      "5084 Epoch: 0065 cost =  0.122933990 val =  0.799567\n",
      "5084 Epoch: 0066 cost =  0.120955607 val =  0.794650\n",
      "5084 Epoch: 0067 cost =  0.120124464 val =  0.789339\n",
      "5084 Epoch: 0068 cost =  0.118304754 val =  0.791896\n",
      "5084 Epoch: 0069 cost =  0.114660625 val =  0.792486\n",
      "5084 Epoch: 0070 cost =  0.122157475 val =  0.798387\n",
      "5084 Epoch: 0071 cost =  0.114407125 val =  0.790913\n",
      "5084 Epoch: 0072 cost =  0.107322308 val =  0.801141\n",
      "5084 Epoch: 0073 cost =  0.102797614 val =  0.806845\n",
      "5084 Epoch: 0074 cost =  0.097495575 val =  0.803108\n",
      "5084 Epoch: 0075 cost =  0.093769061 val =  0.802518\n",
      "5084 Epoch: 0076 cost =  0.091981629 val =  0.804681\n",
      "5084 Epoch: 0077 cost =  0.088366299 val =  0.800944\n",
      "5084 Epoch: 0078 cost =  0.086613686 val =  0.805075\n",
      "5084 Epoch: 0079 cost =  0.084172615 val =  0.801141\n",
      "5084 Epoch: 0080 cost =  0.082253030 val =  0.805468\n",
      "5084 Epoch: 0081 cost =  0.085370741 val =  0.799567\n",
      "5084 Epoch: 0082 cost =  0.106493216 val =  0.801338\n",
      "5084 Epoch: 0083 cost =  0.095496730 val =  0.806058\n",
      "5084 Epoch: 0084 cost =  0.083362451 val =  0.807435\n",
      "5084 Epoch: 0085 cost =  0.080176412 val =  0.804091\n",
      "5084 Epoch: 0086 cost =  0.079113233 val =  0.804485\n",
      "5084 Epoch: 0087 cost =  0.075363304 val =  0.806255\n",
      "5084 Epoch: 0088 cost =  0.074770109 val =  0.806648\n",
      "5084 Epoch: 0089 cost =  0.072505029 val =  0.805468\n",
      "5084 Epoch: 0090 cost =  0.072576558 val =  0.816876\n",
      "5084 Epoch: 0091 cost =  0.109215143 val =  0.785405\n",
      "5084 Epoch: 0092 cost =  0.083636428 val =  0.807435\n",
      "5084 Epoch: 0093 cost =  0.074962990 val =  0.811369\n",
      "5084 Epoch: 0094 cost =  0.072801600 val =  0.807632\n",
      "5084 Epoch: 0095 cost =  0.071119383 val =  0.809992\n",
      "5084 Epoch: 0096 cost =  0.071048644 val =  0.812549\n",
      "5084 Epoch: 0097 cost =  0.070043941 val =  0.809009\n",
      "5084 Epoch: 0098 cost =  0.069862003 val =  0.810976\n",
      "5084 Epoch: 0099 cost =  0.067813153 val =  0.809795\n",
      "5084 Epoch: 0100 cost =  0.081237092 val =  0.793863\n"
     ]
    },
    {
     "data": {
      "text/plain": [
       "'../models/CNN/my_test_model_cnn'"
      ]
     },
     "execution_count": 23,
     "metadata": {},
     "output_type": "execute_result"
    }
   ],
   "source": [
    "###########################\n",
    "batch_size = 64\n",
    "cost_history = np.empty(shape=[1], dtype=float)\n",
    "\n",
    "for epoch in range(training_epochs):\n",
    "    avg_cost = 0\n",
    "    val_avg_cost =0\n",
    "    total_batch = int(y_train.shape[0] / batch_size)\n",
    "    for i in range(0, y_train.shape[0], batch_size):\n",
    "        feed_dict={X:X_train2[i:i+batch_size,:,:,:], Y:y_train[i:i+batch_size,:]}   # keep_prob 삭제  \n",
    "        c, _ = sess.run([cost, optimizer], feed_dict=feed_dict)\n",
    "        cost_history = np.append(cost_history,cost)\n",
    "        avg_cost += c/total_batch \n",
    "    \n",
    "    y_pred = sess.run(logits, feed_dict={X:X_val2})\n",
    "    y_pred = sess.run(tf.argmax(y_pred,1))\n",
    "    y_true = y_val\n",
    "        \n",
    "    y_true = sess.run(tf.argmax(y_true,1))\n",
    "    print(len(y_pred),end=' ')\n",
    "    print('Epoch:', '%04d' % (epoch+1), 'cost = ', '{:.9f}'.format(avg_cost), 'val = ','%f' %(accuracy_score(y_true, y_pred)) )\n",
    "saver.save(sess, model_path)"
   ]
  },
  {
   "cell_type": "code",
   "execution_count": 24,
   "metadata": {},
   "outputs": [],
   "source": [
    "y_pred = sess.run(tf.argmax(logits,1),feed_dict={X: X_test2}) # keep_prob 삭제  \n",
    "y_true = sess.run(tf.argmax(y_test,1))"
   ]
  },
  {
   "cell_type": "code",
   "execution_count": 25,
   "metadata": {},
   "outputs": [
    {
     "name": "stdout",
     "output_type": "stream",
     "text": [
      "F-Score: 0.811\n",
      "Accuracy:  0.8105428796223446\n",
      "             precision    recall  f1-score   support\n",
      "\n",
      "          0       0.92      0.84      0.88      3908\n",
      "          1       0.73      0.79      0.76      1677\n",
      "          2       0.56      0.69      0.62       770\n",
      "\n",
      "avg / total       0.83      0.81      0.82      6355\n",
      "\n",
      "[[3287  359  262]\n",
      " [ 182 1330  165]\n",
      " [ 108  128  534]]\n"
     ]
    }
   ],
   "source": [
    "from sklearn.metrics import precision_recall_fscore_support\n",
    "p,r,f,s = precision_recall_fscore_support(y_true, y_pred, average='micro')\n",
    "print(\"F-Score:\", round(f,3))\n",
    "from sklearn.metrics import accuracy_score\n",
    "print(\"Accuracy: \", accuracy_score(y_true, y_pred))\n",
    "\n",
    "from sklearn.metrics import classification_report\n",
    "print(classification_report(y_true, y_pred))\n",
    "from sklearn.metrics import confusion_matrix\n",
    "print(confusion_matrix(y_true, y_pred))"
   ]
  },
  {
   "cell_type": "code",
   "execution_count": null,
   "metadata": {},
   "outputs": [],
   "source": [
    "# 86.8프로when 9&4"
   ]
  }
 ],
 "metadata": {
  "kernelspec": {
   "display_name": "Python 3",
   "language": "python",
   "name": "python3"
  },
  "language_info": {
   "codemirror_mode": {
    "name": "ipython",
    "version": 3
   },
   "file_extension": ".py",
   "mimetype": "text/x-python",
   "name": "python",
   "nbconvert_exporter": "python",
   "pygments_lexer": "ipython3",
   "version": "3.6.6"
  }
 },
 "nbformat": 4,
 "nbformat_minor": 2
}
