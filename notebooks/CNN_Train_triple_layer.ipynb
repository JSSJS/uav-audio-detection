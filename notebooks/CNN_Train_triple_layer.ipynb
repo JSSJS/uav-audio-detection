{
 "cells": [
  {
   "cell_type": "code",
   "execution_count": 1,
   "metadata": {
    "scrolled": true
   },
   "outputs": [],
   "source": [
    "import matplotlib.pyplot as plt\n",
    "%matplotlib inline\n",
    "import IPython.display\n",
    "import librosa.display\n",
    "import numpy as np\n",
    "import librosa\n",
    "import tensorflow as tf\n",
    "import glob"
   ]
  },
  {
   "cell_type": "code",
   "execution_count": 2,
   "metadata": {},
   "outputs": [],
   "source": [
    "#uav_path = 'C:/Users/Jaesung/Desktop/코딩/Python실습/K-SW-PJT/RW_AUDIO_DATA_2018_Update/RW_AUDIO_DATA_2018_Update/JUNE_01_PHANTOMS/*.wav'\n",
    "#none_path = 'C:/Users/Jaesung/Desktop/코딩/Python실습/K-SW-PJT/RW_AUDIO_DATA_2018_Update/RW_AUDIO_DATA_2018_Update/JUNE_02_BACKGROUND/background_0*.wav'\n",
    "\n",
    "uav_path = '../../../unloaded/*.wav'\n",
    "loaded_path = '../../../loaded/*.wav'\n",
    "none_path = '../../../background/*.wav'\n",
    "\n",
    "uav_files = glob.glob(uav_path)\n",
    "loaded_files = glob.glob(loaded_path)\n",
    "none_files = glob.glob(none_path)"
   ]
  },
  {
   "cell_type": "code",
   "execution_count": 3,
   "metadata": {},
   "outputs": [],
   "source": [
    "CHUNK_SIZE = 8192\n",
    "SR = 22050\n",
    "N_MFCC = 16"
   ]
  },
  {
   "cell_type": "code",
   "execution_count": 4,
   "metadata": {},
   "outputs": [],
   "source": [
    "def load(files, sr=22050):\n",
    "    [raw, sr] = librosa.load(files[0], sr=sr)\n",
    "    for f in files[1:]:\n",
    "        [array, sr] = librosa.load(f, sr=sr)\n",
    "        raw = np.hstack((raw, array))\n",
    "    print(raw.shape)\n",
    "    return raw"
   ]
  },
  {
   "cell_type": "code",
   "execution_count": 5,
   "metadata": {},
   "outputs": [
    {
     "name": "stdout",
     "output_type": "stream",
     "text": [
      "(21554792,)\n",
      "(8911343,)\n",
      "(16900096,)\n"
     ]
    }
   ],
   "source": [
    "uav_raw = load(uav_files)\n",
    "loaded_raw = load(loaded_files)\n",
    "none_raw = load(none_files)"
   ]
  },
  {
   "cell_type": "markdown",
   "metadata": {},
   "source": [
    "# Data Processing"
   ]
  },
  {
   "cell_type": "code",
   "execution_count": 6,
   "metadata": {},
   "outputs": [],
   "source": [
    "def mfcc4(raw, label, chunk_size=8192, window_size=4096, sr=22050, n_mfcc=16, n_frame=16):\n",
    "    mfcc = np.empty((0, n_mfcc, n_frame))\n",
    "    y = []\n",
    "    print(raw.shape)\n",
    "    for i in range(0, len(raw), chunk_size//2):\n",
    "        mfcc_slice = librosa.feature.mfcc(raw[i:i+chunk_size], sr=sr, n_mfcc=n_mfcc) #n_mfcc,17\n",
    "        if mfcc_slice.shape[1] < 17:\n",
    "            print(\"small end:\", mfcc_slice.shape)\n",
    "            continue\n",
    "        mfcc_slice = mfcc_slice[:,:-1]\n",
    "        mfcc_slice = mfcc_slice.reshape((1, mfcc_slice.shape[0], mfcc_slice.shape[1]))\n",
    "        mfcc = np.vstack((mfcc, mfcc_slice))\n",
    "        y.append(label)\n",
    "    y = np.array(y)\n",
    "    return mfcc, y"
   ]
  },
  {
   "cell_type": "code",
   "execution_count": 7,
   "metadata": {},
   "outputs": [
    {
     "name": "stdout",
     "output_type": "stream",
     "text": [
      "(8911343,)\n",
      "small end: (16, 13)\n",
      "small end: (16, 5)\n",
      "(21554792,)\n",
      "small end: (16, 12)\n",
      "small end: (16, 4)\n",
      "(16900096,)\n",
      "small end: (16, 9)\n",
      "(5261, 16, 16) (5261,)\n",
      "(2174, 16, 16) (2174,)\n",
      "(4125, 16, 16) (4125,)\n"
     ]
    }
   ],
   "source": [
    "mfcc_loaded, y_loaded = mfcc4(loaded_raw, 2)\n",
    "mfcc_uav, y_uav = mfcc4(uav_raw, 1)\n",
    "mfcc_none, y_none = mfcc4(none_raw, 0)\n",
    "\n",
    "print(mfcc_uav.shape, y_uav.shape)\n",
    "print(mfcc_loaded.shape, y_loaded.shape)\n",
    "print(mfcc_none.shape, y_none.shape)"
   ]
  },
  {
   "cell_type": "code",
   "execution_count": 8,
   "metadata": {},
   "outputs": [
    {
     "name": "stdout",
     "output_type": "stream",
     "text": [
      "(11560, 16, 16) (11560,)\n"
     ]
    }
   ],
   "source": [
    "X = np.concatenate((mfcc_loaded, mfcc_uav, mfcc_none), axis=0)\n",
    "y = np.hstack((y_loaded, y_uav, y_none))\n",
    "print(X.shape, y.shape)"
   ]
  },
  {
   "cell_type": "code",
   "execution_count": 9,
   "metadata": {},
   "outputs": [
    {
     "name": "stdout",
     "output_type": "stream",
     "text": [
      "(11560, 3)\n"
     ]
    }
   ],
   "source": [
    "n_labels = y.shape[0]\n",
    "n_unique_labels = 3\n",
    "y_encoded = np.zeros((n_labels, n_unique_labels))\n",
    "y_encoded[np.arange(n_labels), y] = 1\n",
    "print(y_encoded.shape)"
   ]
  },
  {
   "cell_type": "code",
   "execution_count": 10,
   "metadata": {},
   "outputs": [],
   "source": [
    "from sklearn import model_selection\n",
    "X_train, X_test, y_train, y_test = model_selection.train_test_split(X, y_encoded, test_size=0.2, random_state=42)"
   ]
  },
  {
   "cell_type": "code",
   "execution_count": 11,
   "metadata": {},
   "outputs": [],
   "source": [
    "X_train, X_val, y_train, y_val = model_selection.train_test_split(X_train, y_train, test_size=0.2, random_state=42)"
   ]
  },
  {
   "cell_type": "code",
   "execution_count": 12,
   "metadata": {},
   "outputs": [
    {
     "name": "stdout",
     "output_type": "stream",
     "text": [
      "(7398, 16, 16) (2312, 16, 16)\n",
      "(1850, 16, 16) (1850, 3)\n",
      "(7398, 3) (2312, 3)\n"
     ]
    }
   ],
   "source": [
    "print(X_train.shape, X_test.shape)\n",
    "print(X_val.shape, y_val.shape)\n",
    "print(y_train.shape, y_test.shape)"
   ]
  },
  {
   "cell_type": "code",
   "execution_count": 13,
   "metadata": {},
   "outputs": [],
   "source": [
    "### path selection between jaesung & gunhoo ###\n",
    "#np.save('C:/Users/Jaesung/Desktop/코딩/Python실습/K-SW-PJT/RW_AUDIO_DATA_2018_Update/RW_AUDIO_DATA_2018_Update/Xy/X_train_chunk_3d', X_train)\n",
    "#np.save('C:/Users/Jaesung/Desktop/코딩/Python실습/K-SW-PJT/RW_AUDIO_DATA_2018_Update/RW_AUDIO_DATA_2018_Update/Xy/X_test_chunk_3d', X_test)\n",
    "#np.save('C:/Users/Jaesung/Desktop/코딩/Python실습/K-SW-PJT/RW_AUDIO_DATA_2018_Update/RW_AUDIO_DATA_2018_Update/Xy/y_train_chunk_3d', y_train)\n",
    "#np.save('C:/Users/Jaesung/Desktop/코딩/Python실습/K-SW-PJT/RW_AUDIO_DATA_2018_Update/RW_AUDIO_DATA_2018_Update/Xy/y_test_chunk_3d', y_test)\n",
    "np.save('../../../RW_AUDIO_DATA_2018_Update/Xy/X_train_chunk_3d', X_train)\n",
    "np.save('../../../RW_AUDIO_DATA_2018_Update/Xy/X_test_chunk_3d', X_test)\n",
    "np.save('../../../RW_AUDIO_DATA_2018_Update/Xy/X_val_chunk_3d', X_val)\n",
    "np.save('../../../RW_AUDIO_DATA_2018_Update/Xy/y_val_chunk_3d', y_val)\n",
    "np.save('../../../RW_AUDIO_DATA_2018_Update/Xy/y_train_chunk_3d', y_train)\n",
    "np.save('../../../RW_AUDIO_DATA_2018_Update/Xy/y_test_chunk_3d', y_test)"
   ]
  },
  {
   "cell_type": "code",
   "execution_count": 14,
   "metadata": {},
   "outputs": [],
   "source": [
    "### path selection between jaesung & gunhoo ###\n",
    "#X_train = np.load('C:/Users/Jaesung/Desktop/코딩/Python실습/K-SW-PJT/RW_AUDIO_DATA_2018_Update/RW_AUDIO_DATA_2018_Update/Xy/X_train_chunk_3d.npy')\n",
    "#X_test = np.load('C:/Users/Jaesung/Desktop/코딩/Python실습/K-SW-PJT/RW_AUDIO_DATA_2018_Update/RW_AUDIO_DATA_2018_Update/Xy/X_test_chunk_3d.npy')\n",
    "#y_train = np.load('C:/Users/Jaesung/Desktop/코딩/Python실습/K-SW-PJT/RW_AUDIO_DATA_2018_Update/RW_AUDIO_DATA_2018_Update/Xy/y_train_chunk_3d.npy')\n",
    "#y_test = np.load('C:/Users/Jaesung/Desktop/코딩/Python실습/K-SW-PJT/RW_AUDIO_DATA_2018_Update/RW_AUDIO_DATA_2018_Update/Xy/y_test_chunk_3d.npy')\n",
    "X_train = np.load('../../../RW_AUDIO_DATA_2018_Update/Xy/X_train_chunk_3d.npy')\n",
    "X_test = np.load('../../../RW_AUDIO_DATA_2018_Update/Xy/X_test_chunk_3d.npy')\n",
    "X_val = np.load('../../../RW_AUDIO_DATA_2018_Update/Xy/X_val_chunk_3d.npy')\n",
    "y_val = np.load('../../../RW_AUDIO_DATA_2018_Update/Xy/y_val_chunk_3d.npy')\n",
    "y_train = np.load('../../../RW_AUDIO_DATA_2018_Update/Xy/y_train_chunk_3d.npy')\n",
    "y_test = np.load('../../../RW_AUDIO_DATA_2018_Update/Xy/y_test_chunk_3d.npy')"
   ]
  },
  {
   "cell_type": "markdown",
   "metadata": {},
   "source": [
    "# Experiment 3 - 3 convolutional layer /w no dropout"
   ]
  },
  {
   "cell_type": "markdown",
   "metadata": {},
   "source": [
    "##Experiment 3-2\n",
    "- learning rate 0.005\n",
    "- pooling stride 1x1\n",
    "- #filter 1\n",
    "- best result among every other settings\n",
    "- cost kept fluctuated during training. (0.8 -> 1.3) -- why is that?"
   ]
  },
  {
   "cell_type": "code",
   "execution_count": 15,
   "metadata": {},
   "outputs": [],
   "source": [
    "tf.reset_default_graph()"
   ]
  },
  {
   "cell_type": "code",
   "execution_count": 16,
   "metadata": {},
   "outputs": [],
   "source": [
    "n_mfcc = 16\n",
    "n_frame = 16\n",
    "n_classes = 3\n",
    "n_channels = 1\n",
    "\n",
    "kernel_size = 3\n",
    "stride = 1\n",
    "pad = \"SAME\"\n",
    "\n",
    "learning_rate = 0.0002  # 0.005\n",
    "#0.0002 \n",
    "training_epochs = 150"
   ]
  },
  {
   "cell_type": "markdown",
   "metadata": {},
   "source": [
    "# Layer 1 "
   ]
  },
  {
   "cell_type": "code",
   "execution_count": 17,
   "metadata": {},
   "outputs": [],
   "source": [
    "X = tf.placeholder(tf.float32, shape=[None,n_mfcc*n_frame*n_channels])\n",
    "X = tf.reshape(X, [-1, n_mfcc, n_frame, n_channels])\n",
    "Y = tf.placeholder(tf.float32, shape=[None,n_classes])\n",
    "\n",
    "# 1st layer\n",
    "conv1 = tf.layers.conv2d(inputs=X, filters=1, kernel_size=[3, 3],\n",
    "                         padding=\"SAME\", activation=tf.nn.relu)\n",
    "pool1 = tf.layers.max_pooling2d(inputs=conv1, pool_size=[2, 2],\n",
    "                                padding=\"SAME\", strides=1)\n",
    "# 2nd layer\n",
    "conv2 = tf.layers.conv2d(inputs=pool1, filters=1, kernel_size=[3, 3],\n",
    "                         padding=\"SAME\", activation=tf.nn.relu)\n",
    "pool2 = tf.layers.max_pooling2d(inputs=conv2, pool_size=[2, 2],\n",
    "                                padding=\"SAME\", strides=1)\n",
    "# 3rd layer\n",
    "conv3 = tf.layers.conv2d(inputs=pool2, filters=1, kernel_size=[3, 3],\n",
    "                         padding=\"SAME\", activation=tf.nn.relu)\n",
    "pool3 = tf.layers.max_pooling2d(inputs=conv3, pool_size=[2, 2],\n",
    "                                padding=\"SAME\", strides=1)\n",
    "#dropout1 = tf.layers.dropout(inputs=pool1, rate=0.7, training=True)\n",
    "\n",
    "flat = tf.reshape(pool3, [-1, 16*16*1])"
   ]
  },
  {
   "cell_type": "code",
   "execution_count": 18,
   "metadata": {},
   "outputs": [],
   "source": [
    "dense2 = tf.layers.dense(inputs=flat, units=625, activation=tf.nn.relu)\n",
    "#dropout2 = tf.layers.dropout(inputs=dense2, rate=0.5, training=True)\n",
    "logits = tf.layers.dense(inputs=dense2, units=3)\n",
    "\n",
    "cost = tf.reduce_mean(tf.nn.softmax_cross_entropy_with_logits_v2(logits=logits, labels=Y))\n",
    "optimizer = tf.train.AdamOptimizer(learning_rate=learning_rate).minimize(cost)\n",
    "\n",
    "Y_pred = tf.contrib.layers.fully_connected(logits,n_classes,activation_fn = None)"
   ]
  },
  {
   "cell_type": "code",
   "execution_count": 19,
   "metadata": {},
   "outputs": [],
   "source": [
    "sess = tf.Session()\n",
    "sess.run(tf.global_variables_initializer())"
   ]
  },
  {
   "cell_type": "code",
   "execution_count": 20,
   "metadata": {},
   "outputs": [],
   "source": [
    "X_train2 = X_train.reshape(X_train.shape[0], X_train.shape[1], X_train.shape[2], 1)\n",
    "X_test2 = X_test.reshape(X_test.shape[0], X_test.shape[1], X_test.shape[2], 1)\n",
    "X_val2 = X_val.reshape(X_val.shape[0], X_val.shape[1], X_val.shape[2], 1)"
   ]
  },
  {
   "cell_type": "code",
   "execution_count": 21,
   "metadata": {},
   "outputs": [],
   "source": [
    "#model_path = 'C:/Users/Jaesung/Desktop/코딩/Python실습/K-SW-PJT/GIt/uav-audio-detection/models/CNN/my_test_model_cnn'\n",
    "model_path = '../models/CNN/my_test_model_cnn'\n",
    "saver = tf.train.Saver()"
   ]
  },
  {
   "cell_type": "code",
   "execution_count": 22,
   "metadata": {},
   "outputs": [],
   "source": [
    "from sklearn.metrics import precision_recall_fscore_support\n",
    "from sklearn.metrics import accuracy_score\n",
    "from sklearn.metrics import classification_report\n",
    "from sklearn.metrics import confusion_matrix\n",
    "\n",
    "import itertools as it"
   ]
  },
  {
   "cell_type": "code",
   "execution_count": 23,
   "metadata": {
    "scrolled": false
   },
   "outputs": [
    {
     "name": "stdout",
     "output_type": "stream",
     "text": [
      "1850 Epoch: 0001 cost =  0.573314243 val =  0.858378\n",
      "1850 Epoch: 0002 cost =  0.352586896 val =  0.893514\n",
      "1850 Epoch: 0003 cost =  0.303749208 val =  0.901622\n",
      "1850 Epoch: 0004 cost =  0.273660494 val =  0.905946\n",
      "1850 Epoch: 0005 cost =  0.251564257 val =  0.908649\n",
      "1850 Epoch: 0006 cost =  0.234457506 val =  0.912432\n",
      "1850 Epoch: 0007 cost =  0.219327176 val =  0.913514\n",
      "1850 Epoch: 0008 cost =  0.205385699 val =  0.916757\n",
      "1850 Epoch: 0009 cost =  0.192593796 val =  0.917297\n",
      "1850 Epoch: 0010 cost =  0.180210815 val =  0.920000\n",
      "1850 Epoch: 0011 cost =  0.169250548 val =  0.921081\n",
      "1850 Epoch: 0012 cost =  0.159123068 val =  0.923784\n",
      "1850 Epoch: 0013 cost =  0.149529797 val =  0.923243\n",
      "1850 Epoch: 0014 cost =  0.140706252 val =  0.923784\n",
      "1850 Epoch: 0015 cost =  0.132294688 val =  0.925405\n",
      "1850 Epoch: 0016 cost =  0.124490165 val =  0.927027\n",
      "1850 Epoch: 0017 cost =  0.116879278 val =  0.925946\n",
      "1850 Epoch: 0018 cost =  0.109576936 val =  0.925405\n",
      "1850 Epoch: 0019 cost =  0.103059981 val =  0.925405\n",
      "1850 Epoch: 0020 cost =  0.096892369 val =  0.925405\n",
      "1850 Epoch: 0021 cost =  0.090975344 val =  0.926486\n",
      "1850 Epoch: 0022 cost =  0.085715791 val =  0.927027\n",
      "1850 Epoch: 0023 cost =  0.080004486 val =  0.927027\n",
      "1850 Epoch: 0024 cost =  0.075244506 val =  0.927027\n",
      "1850 Epoch: 0025 cost =  0.070602172 val =  0.925946\n",
      "1850 Epoch: 0026 cost =  0.066357557 val =  0.927568\n",
      "1850 Epoch: 0027 cost =  0.062110359 val =  0.929189\n",
      "1850 Epoch: 0028 cost =  0.058857823 val =  0.929730\n",
      "1850 Epoch: 0029 cost =  0.055775022 val =  0.927568\n",
      "1850 Epoch: 0030 cost =  0.053666070 val =  0.927027\n",
      "1850 Epoch: 0031 cost =  0.052238496 val =  0.927027\n",
      "1850 Epoch: 0032 cost =  0.051379447 val =  0.926486\n",
      "1850 Epoch: 0033 cost =  0.052958092 val =  0.924865\n",
      "1850 Epoch: 0034 cost =  0.057495507 val =  0.922703\n",
      "1850 Epoch: 0035 cost =  0.062140734 val =  0.921081\n",
      "1850 Epoch: 0036 cost =  0.064747130 val =  0.928649\n",
      "1850 Epoch: 0037 cost =  0.061637643 val =  0.918919\n",
      "1850 Epoch: 0038 cost =  0.058614662 val =  0.901622\n",
      "1850 Epoch: 0039 cost =  0.050689428 val =  0.905405\n",
      "1850 Epoch: 0040 cost =  0.040682858 val =  0.914595\n",
      "1850 Epoch: 0041 cost =  0.033048032 val =  0.919459\n",
      "1850 Epoch: 0042 cost =  0.028265585 val =  0.920541\n",
      "1850 Epoch: 0043 cost =  0.024729366 val =  0.922703\n",
      "1850 Epoch: 0044 cost =  0.021716390 val =  0.922162\n",
      "1850 Epoch: 0045 cost =  0.019267144 val =  0.921081\n",
      "1850 Epoch: 0046 cost =  0.017028141 val =  0.921081\n",
      "1850 Epoch: 0047 cost =  0.015214389 val =  0.919459\n",
      "1850 Epoch: 0048 cost =  0.013663800 val =  0.920000\n",
      "1850 Epoch: 0049 cost =  0.012360029 val =  0.921622\n",
      "1850 Epoch: 0050 cost =  0.011248871 val =  0.920541\n",
      "1850 Epoch: 0051 cost =  0.010296542 val =  0.921081\n",
      "1850 Epoch: 0052 cost =  0.009464203 val =  0.921081\n",
      "1850 Epoch: 0053 cost =  0.008773193 val =  0.922703\n",
      "1850 Epoch: 0054 cost =  0.008162152 val =  0.922703\n",
      "1850 Epoch: 0055 cost =  0.007593293 val =  0.921081\n",
      "1850 Epoch: 0056 cost =  0.007094178 val =  0.922162\n",
      "1850 Epoch: 0057 cost =  0.006610591 val =  0.923243\n",
      "1850 Epoch: 0058 cost =  0.006259238 val =  0.923243\n",
      "1850 Epoch: 0059 cost =  0.005883432 val =  0.921622\n",
      "1850 Epoch: 0060 cost =  0.005624994 val =  0.922703\n",
      "1850 Epoch: 0061 cost =  0.005399390 val =  0.921622\n",
      "1850 Epoch: 0062 cost =  0.005243689 val =  0.921622\n",
      "1850 Epoch: 0063 cost =  0.005123284 val =  0.920541\n",
      "1850 Epoch: 0064 cost =  0.004910434 val =  0.921622\n",
      "1850 Epoch: 0065 cost =  0.005246914 val =  0.918919\n",
      "1850 Epoch: 0066 cost =  0.005241705 val =  0.916757\n",
      "1850 Epoch: 0067 cost =  0.005432212 val =  0.917297\n",
      "1850 Epoch: 0068 cost =  0.005645334 val =  0.915676\n",
      "1850 Epoch: 0069 cost =  0.009219946 val =  0.926486\n",
      "1850 Epoch: 0070 cost =  0.024303889 val =  0.914595\n",
      "1850 Epoch: 0071 cost =  0.010257620 val =  0.907027\n",
      "1850 Epoch: 0072 cost =  0.016569448 val =  0.915676\n",
      "1850 Epoch: 0073 cost =  0.009438579 val =  0.922703\n",
      "1850 Epoch: 0074 cost =  0.008396233 val =  0.927027\n",
      "1850 Epoch: 0075 cost =  0.003733800 val =  0.926486\n",
      "1850 Epoch: 0076 cost =  0.001668930 val =  0.927568\n",
      "1850 Epoch: 0077 cost =  0.001168811 val =  0.926486\n",
      "1850 Epoch: 0078 cost =  0.001034616 val =  0.926486\n",
      "1850 Epoch: 0079 cost =  0.000939902 val =  0.926486\n",
      "1850 Epoch: 0080 cost =  0.000864366 val =  0.926486\n",
      "1850 Epoch: 0081 cost =  0.000800598 val =  0.926486\n",
      "1850 Epoch: 0082 cost =  0.000745026 val =  0.925946\n",
      "1850 Epoch: 0083 cost =  0.000695477 val =  0.925405\n",
      "1850 Epoch: 0084 cost =  0.000651920 val =  0.925405\n",
      "1850 Epoch: 0085 cost =  0.000611304 val =  0.925405\n",
      "1850 Epoch: 0086 cost =  0.000574821 val =  0.925946\n",
      "1850 Epoch: 0087 cost =  0.000540902 val =  0.925946\n",
      "1850 Epoch: 0088 cost =  0.000510081 val =  0.926486\n",
      "1850 Epoch: 0089 cost =  0.000481624 val =  0.926486\n",
      "1850 Epoch: 0090 cost =  0.000454679 val =  0.925946\n",
      "1850 Epoch: 0091 cost =  0.000429304 val =  0.925946\n",
      "1850 Epoch: 0092 cost =  0.000405387 val =  0.925405\n",
      "1850 Epoch: 0093 cost =  0.000383463 val =  0.925405\n",
      "1850 Epoch: 0094 cost =  0.000362295 val =  0.925405\n",
      "1850 Epoch: 0095 cost =  0.000342404 val =  0.925405\n",
      "1850 Epoch: 0096 cost =  0.000323676 val =  0.925405\n",
      "1850 Epoch: 0097 cost =  0.000305563 val =  0.925405\n",
      "1850 Epoch: 0098 cost =  0.000288527 val =  0.924865\n",
      "1850 Epoch: 0099 cost =  0.000272770 val =  0.925405\n",
      "1850 Epoch: 0100 cost =  0.000257347 val =  0.925405\n",
      "1850 Epoch: 0101 cost =  0.000242689 val =  0.925946\n",
      "1850 Epoch: 0102 cost =  0.000229259 val =  0.925946\n",
      "1850 Epoch: 0103 cost =  0.000216392 val =  0.925946\n",
      "1850 Epoch: 0104 cost =  0.000204125 val =  0.925946\n",
      "1850 Epoch: 0105 cost =  0.000192402 val =  0.925946\n",
      "1850 Epoch: 0106 cost =  0.000181326 val =  0.925405\n",
      "1850 Epoch: 0107 cost =  0.000171158 val =  0.925405\n",
      "1850 Epoch: 0108 cost =  0.000161006 val =  0.925405\n",
      "1850 Epoch: 0109 cost =  0.000151492 val =  0.924865\n",
      "1850 Epoch: 0110 cost =  0.000142552 val =  0.924865\n",
      "1850 Epoch: 0111 cost =  0.000134238 val =  0.925405\n",
      "1850 Epoch: 0112 cost =  0.000126284 val =  0.923784\n",
      "1850 Epoch: 0113 cost =  0.000118496 val =  0.924324\n",
      "1850 Epoch: 0114 cost =  0.000111440 val =  0.924865\n",
      "1850 Epoch: 0115 cost =  0.000104710 val =  0.925405\n",
      "1850 Epoch: 0116 cost =  0.000098615 val =  0.925946\n",
      "1850 Epoch: 0117 cost =  0.000092523 val =  0.925405\n",
      "1850 Epoch: 0118 cost =  0.000087138 val =  0.925946\n",
      "1850 Epoch: 0119 cost =  0.000081773 val =  0.926486\n",
      "1850 Epoch: 0120 cost =  0.000076754 val =  0.926486\n",
      "1850 Epoch: 0121 cost =  0.000072162 val =  0.925405\n",
      "1850 Epoch: 0122 cost =  0.000067655 val =  0.925405\n",
      "1850 Epoch: 0123 cost =  0.000063470 val =  0.925405\n",
      "1850 Epoch: 0124 cost =  0.000059573 val =  0.925405\n",
      "1850 Epoch: 0125 cost =  0.000055810 val =  0.925946\n",
      "1850 Epoch: 0126 cost =  0.000052334 val =  0.925405\n",
      "1850 Epoch: 0127 cost =  0.000049083 val =  0.925946\n",
      "1850 Epoch: 0128 cost =  0.000046009 val =  0.925946\n",
      "1850 Epoch: 0129 cost =  0.000043109 val =  0.925405\n",
      "1850 Epoch: 0130 cost =  0.000040381 val =  0.924865\n",
      "1850 Epoch: 0131 cost =  0.000037798 val =  0.925405\n",
      "1850 Epoch: 0132 cost =  0.000035469 val =  0.925405\n",
      "1850 Epoch: 0133 cost =  0.000033237 val =  0.924865\n",
      "1850 Epoch: 0134 cost =  0.000031153 val =  0.924865\n",
      "1850 Epoch: 0135 cost =  0.000029220 val =  0.925405\n",
      "1850 Epoch: 0136 cost =  0.000027363 val =  0.924865\n",
      "1850 Epoch: 0137 cost =  0.000025622 val =  0.925946\n",
      "1850 Epoch: 0138 cost =  0.000023975 val =  0.925405\n",
      "1850 Epoch: 0139 cost =  0.000022463 val =  0.925946\n",
      "1850 Epoch: 0140 cost =  0.000021036 val =  0.925405\n",
      "1850 Epoch: 0141 cost =  0.000019706 val =  0.926486\n",
      "1850 Epoch: 0142 cost =  0.000018430 val =  0.925405\n",
      "1850 Epoch: 0143 cost =  0.000017267 val =  0.925946\n",
      "1850 Epoch: 0144 cost =  0.000016170 val =  0.925946\n",
      "1850 Epoch: 0145 cost =  0.000015129 val =  0.926486\n",
      "1850 Epoch: 0146 cost =  0.000014175 val =  0.926486\n",
      "1850 Epoch: 0147 cost =  0.000013264 val =  0.926486\n",
      "1850 Epoch: 0148 cost =  0.000012406 val =  0.926486\n",
      "1850 Epoch: 0149 cost =  0.000011598 val =  0.925946\n",
      "1850 Epoch: 0150 cost =  0.000010864 val =  0.925946\n"
     ]
    },
    {
     "data": {
      "text/plain": [
       "'../models/CNN/my_test_model_cnn'"
      ]
     },
     "execution_count": 23,
     "metadata": {},
     "output_type": "execute_result"
    }
   ],
   "source": [
    "###########################\n",
    "batch_size = 64\n",
    "cost_history = np.empty(shape=[1], dtype=float)\n",
    "\n",
    "for epoch in range(training_epochs):\n",
    "    avg_cost = 0\n",
    "    val_avg_cost =0\n",
    "    total_batch = int(y_train.shape[0] / batch_size)\n",
    "    for i in range(0, y_train.shape[0], batch_size):\n",
    "        feed_dict={X:X_train2[i:i+batch_size,:,:,:], Y:y_train[i:i+batch_size,:]}   # keep_prob 삭제  \n",
    "        c, _ = sess.run([cost, optimizer], feed_dict=feed_dict)\n",
    "        cost_history = np.append(cost_history,cost)\n",
    "        avg_cost += c/total_batch \n",
    "    \n",
    "    y_pred = sess.run(logits, feed_dict={X:X_val2})\n",
    "    y_pred = sess.run(tf.argmax(y_pred,1))\n",
    "    y_true = y_val\n",
    "        \n",
    "    y_true = sess.run(tf.argmax(y_true,1))\n",
    "    print(len(y_pred),end=' ')\n",
    "    print('Epoch:', '%04d' % (epoch+1), 'cost = ', '{:.9f}'.format(avg_cost), 'val = ','%f' %(accuracy_score(y_true, y_pred)) )\n",
    "saver.save(sess, model_path)"
   ]
  },
  {
   "cell_type": "code",
   "execution_count": 24,
   "metadata": {},
   "outputs": [],
   "source": [
    "y_pred = sess.run(tf.argmax(logits,1),feed_dict={X: X_test2}) # keep_prob 삭제  \n",
    "y_true = sess.run(tf.argmax(y_test,1))"
   ]
  },
  {
   "cell_type": "code",
   "execution_count": 25,
   "metadata": {},
   "outputs": [
    {
     "name": "stdout",
     "output_type": "stream",
     "text": [
      "F-Score: 0.911\n",
      "Accuracy:  0.9108996539792388\n",
      "             precision    recall  f1-score   support\n",
      "\n",
      "          0       0.98      0.98      0.98       824\n",
      "          1       0.91      0.90      0.90      1039\n",
      "          2       0.78      0.82      0.80       449\n",
      "\n",
      "avg / total       0.91      0.91      0.91      2312\n",
      "\n",
      "[[809   9   6]\n",
      " [ 12 931  96]\n",
      " [  1  82 366]]\n"
     ]
    }
   ],
   "source": [
    "from sklearn.metrics import precision_recall_fscore_support\n",
    "p,r,f,s = precision_recall_fscore_support(y_true, y_pred, average='micro')\n",
    "print(\"F-Score:\", round(f,3))\n",
    "from sklearn.metrics import accuracy_score\n",
    "print(\"Accuracy: \", accuracy_score(y_true, y_pred))\n",
    "\n",
    "from sklearn.metrics import classification_report\n",
    "print(classification_report(y_true, y_pred))\n",
    "from sklearn.metrics import confusion_matrix\n",
    "print(confusion_matrix(y_true, y_pred))"
   ]
  },
  {
   "cell_type": "code",
   "execution_count": null,
   "metadata": {},
   "outputs": [],
   "source": []
  }
 ],
 "metadata": {
  "kernelspec": {
   "display_name": "Python 3",
   "language": "python",
   "name": "python3"
  },
  "language_info": {
   "codemirror_mode": {
    "name": "ipython",
    "version": 3
   },
   "file_extension": ".py",
   "mimetype": "text/x-python",
   "name": "python",
   "nbconvert_exporter": "python",
   "pygments_lexer": "ipython3",
   "version": "3.6.6"
  }
 },
 "nbformat": 4,
 "nbformat_minor": 2
}
