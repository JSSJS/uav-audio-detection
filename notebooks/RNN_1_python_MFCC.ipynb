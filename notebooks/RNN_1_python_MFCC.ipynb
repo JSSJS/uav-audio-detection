{
 "cells": [
  {
   "cell_type": "code",
   "execution_count": 1,
   "metadata": {},
   "outputs": [
    {
     "data": {
      "text/html": [
       "<script>requirejs.config({paths: { 'plotly': ['https://cdn.plot.ly/plotly-latest.min']},});if(!window.Plotly) {{require(['plotly'],function(plotly) {window.Plotly=plotly;});}}</script>"
      ],
      "text/vnd.plotly.v1+html": [
       "<script>requirejs.config({paths: { 'plotly': ['https://cdn.plot.ly/plotly-latest.min']},});if(!window.Plotly) {{require(['plotly'],function(plotly) {window.Plotly=plotly;});}}</script>"
      ]
     },
     "metadata": {},
     "output_type": "display_data"
    }
   ],
   "source": [
    "import os\n",
    "from os.path import isdir, join\n",
    "from pathlib import Path\n",
    "import pandas as pd\n",
    "\n",
    "import tensorflow as tf\n",
    "# Math\n",
    "import numpy as np\n",
    "from scipy.fftpack import fft\n",
    "from scipy import signal\n",
    "from scipy.io import wavfile\n",
    "import librosa\n",
    "\n",
    "from sklearn.decomposition import PCA\n",
    "\n",
    "# Visualization\n",
    "import matplotlib.pyplot as plt\n",
    "import seaborn as sns\n",
    "import IPython.display as ipd\n",
    "import librosa.display\n",
    "\n",
    "import plotly.offline as py\n",
    "py.init_notebook_mode(connected=True)\n",
    "import plotly.graph_objs as go\n",
    "import plotly.tools as tls\n",
    "import pandas as pd\n",
    "\n",
    "%matplotlib inline"
   ]
  },
  {
   "cell_type": "code",
   "execution_count": 2,
   "metadata": {},
   "outputs": [],
   "source": [
    "import glob\n",
    "uav_path = '../data/22050/loaded/*.*'\n",
    "loaded_path = '../data/22050/unloaded/*.*'\n",
    "none_path = '../data/22050/none/*.*'\n",
    "\n",
    "uav_files = glob.glob(uav_path)\n",
    "loaded_files = glob.glob(loaded_path)\n",
    "none_files = glob.glob(none_path)"
   ]
  },
  {
   "cell_type": "code",
   "execution_count": 3,
   "metadata": {
    "scrolled": true
   },
   "outputs": [
    {
     "name": "stdout",
     "output_type": "stream",
     "text": [
      "10 개\t ../data/22050/loaded\\LGgram_P2_loaded bck and forth.wav\n",
      "10 개\t ../data/22050/unloaded\\LGgram_P2_unloaded back forth.wav\n",
      "25 개\t ../data/22050/none\\background_06_02_01.WAV\n"
     ]
    }
   ],
   "source": [
    "print(len(uav_files),'개\\t', uav_files[0])\n",
    "print(len(uav_files),'개\\t', loaded_files[0])\n",
    "print(len(none_files), '개\\t',none_files[0])"
   ]
  },
  {
   "cell_type": "markdown",
   "metadata": {},
   "source": [
    "# Load Data\n",
    "\n",
    "The reason of why SR is 44100 is that the sample rate of above files is 44.1kbps\n",
    "\n",
    "a wav file sample has 884736. if sample is divided by sample rate, the value is time\n",
    "the time is fixed by 20.06"
   ]
  },
  {
   "cell_type": "code",
   "execution_count": 4,
   "metadata": {},
   "outputs": [],
   "source": [
    "def load(files, sr=22050):\n",
    "    [raw, sr] = librosa.load(files[0], sr=sr)\n",
    "    for f in files[1:]:\n",
    "        [array, sr] = librosa.load(f, sr=sr)\n",
    "        raw = np.hstack((raw, array))\n",
    "    print(raw.shape)\n",
    "    return raw"
   ]
  },
  {
   "cell_type": "code",
   "execution_count": 5,
   "metadata": {},
   "outputs": [
    {
     "name": "stdout",
     "output_type": "stream",
     "text": [
      "(14077547,)\n",
      "(23781589,)\n",
      "(10960896,)\n"
     ]
    }
   ],
   "source": [
    "uav_raw = load(uav_files)\n",
    "loaded_raw = load(loaded_files)\n",
    "none_raw = load(none_files)"
   ]
  },
  {
   "cell_type": "markdown",
   "metadata": {},
   "source": [
    "# Feature extraction \n",
    "## steps\n",
    "#### 1. Resampling \n",
    "#### 2. *VAD*( Voice Activity Detection)\n",
    "#### 3. Maybe padding with 0 to make signals be equal length\n",
    "#### 4. Log spectrogram (or *MFCC*, or *PLP*)\n",
    "#### 5. Features normalization with *mean* and *std*\n",
    "#### 6. Stacking of a given number of frames to get temporal information\n",
    "\n"
   ]
  },
  {
   "cell_type": "markdown",
   "metadata": {},
   "source": [
    "## 1. Resampling\n",
    "\n",
    "if you see the graph, there are few at high frequency. this is mean that data is big but it's no useless. so To small the data, do Resampling. In general, use 0~8000Hz "
   ]
  },
  {
   "cell_type": "markdown",
   "metadata": {},
   "source": [
    "## 2. VAD\n",
    "\n",
    "Sometimes, Files have silence. It is not necessary. So, We need to find sound of Drone except silence.\n",
    "\n",
    "But, Not yet implemented"
   ]
  },
  {
   "cell_type": "markdown",
   "metadata": {},
   "source": [
    "## 3. padding with 0 to make signals be equal length\n",
    "\n",
    "If we have a lot of sound files, we need to pad some datas. But These files's time is longger than 1 second. So It dosn't need to pad"
   ]
  },
  {
   "cell_type": "markdown",
   "metadata": {},
   "source": [
    "## 4. Log spectrogram (or MFCC, or PLP)\n",
    "\n",
    "The upper picture is resampled data. \n",
    "The lower picture is original data.\n",
    "\n",
    "In MFCC Feature, There is no big difference. "
   ]
  },
  {
   "cell_type": "code",
   "execution_count": 6,
   "metadata": {},
   "outputs": [],
   "source": [
    "from scipy.stats import skew\n",
    "#returns mfcc features with mean and standard deviation along time\n",
    "def mfcc4(raw, label, chunk_size=8192, window_size=4096, sr=22050, n_mfcc=16, n_frame=16):\n",
    "    mfcc = np.empty((0, n_mfcc* n_frame))\n",
    "    y = []\n",
    "    print(raw.shape)\n",
    "    for i in range(0, len(raw), chunk_size//2):\n",
    "        mfcc_slice = librosa.feature.mfcc(raw[i:i+chunk_size], sr=sr, n_mfcc=n_mfcc) #n_mfcc,17\n",
    "        if mfcc_slice.shape[1] < 17:\n",
    "            print(\"small end:\", mfcc_slice.shape)\n",
    "            continue\n",
    "        mfcc_slice = mfcc_slice[:,:-1]\n",
    "        #print(mfcc_slice.shape)\n",
    "        mfcc_slice = mfcc_slice.reshape((1, mfcc_slice.shape[0]* mfcc_slice.shape[1]))\n",
    "        #print(mfcc_slice.shape)\n",
    "        mfcc = np.vstack((mfcc, mfcc_slice))\n",
    "        y.append(label)\n",
    "    y = np.array(y)\n",
    "    return mfcc, y\n",
    "\n",
    "def log_specgram(audio, sample_rate, window_size=20,\n",
    "                 step_size=10, eps=1e-10):\n",
    "    nperseg = int(round(window_size * sample_rate / 1e3))\n",
    "    noverlap = int(round(step_size * sample_rate / 1e3))\n",
    "    freqs, times, spec = signal.spectrogram(audio,\n",
    "                                    fs=sample_rate,\n",
    "                                    window='hann',\n",
    "                                    nperseg=nperseg,\n",
    "                                    noverlap=noverlap,\n",
    "                                    detrend=False)\n",
    "    return freqs, times, np.log(spec.T.astype(np.float32) + eps)\n",
    "def mfcc(raw, chunk_size=8192, sr=22050, n_mfcc=13):\n",
    "    mfcc = np.empty((13, 0))\n",
    "    for i in range(0, len(raw), chunk_size):\n",
    "        mfcc_slice = librosa.feature.mfcc(raw[i:i+chunk_size], sr=sr, n_mfcc=n_mfcc)\n",
    "        mfcc = np.hstack((mfcc, mfcc_slice))\n",
    "    return mfcc"
   ]
  },
  {
   "cell_type": "code",
   "execution_count": 38,
   "metadata": {},
   "outputs": [
    {
     "name": "stdout",
     "output_type": "stream",
     "text": [
      "13 13 13\n"
     ]
    }
   ],
   "source": [
    "'''\n",
    "mfcc_uav, y_uav = mfcc4(uav_raw, 1)\n",
    "print(mfcc_uav.shape, y_uav.shape)\n",
    "mfcc_none, y_none = mfcc4(none_raw, 0)\n",
    "print(mfcc_none.shape, y_none.shape)\n",
    "'''\n",
    "mfcc_uav = mfcc(uav_raw)\n",
    "mfcc_loaded = mfcc(loaded_raw)\n",
    "mfcc_none = mfcc(none_raw)\n",
    "print(len(mfcc_uav),len(mfcc_loaded),len(mfcc_none) )"
   ]
  },
  {
   "cell_type": "markdown",
   "metadata": {},
   "source": [
    "## 5. Features normalization with *mean* and *std*"
   ]
  },
  {
   "cell_type": "markdown",
   "metadata": {},
   "source": [
    "## 6. Stacking of a given number of frames to get temporal information"
   ]
  },
  {
   "cell_type": "code",
   "execution_count": 39,
   "metadata": {},
   "outputs": [
    {
     "name": "stdout",
     "output_type": "stream",
     "text": [
      "(29214,) 2\n",
      "(49352,) 1\n",
      "(22746,) 0\n",
      "(101312, 13) (101312,)\n"
     ]
    }
   ],
   "source": [
    "# or should we give one label to one chunk?\n",
    "y_uav = np.ones(mfcc_uav.shape[1], dtype=int)*2\n",
    "y_loaded = np.ones(mfcc_loaded.shape[1], dtype=int)\n",
    "y_none =np.zeros(mfcc_none.shape[1], dtype=int)\n",
    "\n",
    "print(y_uav.shape, y_uav[0])\n",
    "print(y_loaded.shape, y_loaded[0])\n",
    "print(y_none.shape, y_none[0])\n",
    "\n",
    "X = np.hstack((mfcc_uav, mfcc_loaded))\n",
    "X = np.hstack((X, mfcc_none)).T\n",
    "\n",
    "y = np.hstack((y_uav, y_loaded))\n",
    "y = np.hstack((y, y_none))\n",
    "print(X.shape, y.shape)"
   ]
  },
  {
   "cell_type": "code",
   "execution_count": 40,
   "metadata": {},
   "outputs": [
    {
     "name": "stdout",
     "output_type": "stream",
     "text": [
      "(101312, 3)\n",
      "[0. 0. 1.] [0. 1. 0.] [1. 0. 0.]\n"
     ]
    }
   ],
   "source": [
    "n_labels = y.shape[0]\n",
    "n_unique_labels = 3\n",
    "y_encoded = np.zeros((n_labels, n_unique_labels))\n",
    "y_encoded[np.arange(n_labels), y] = 1\n",
    "print(y_encoded.shape)\n",
    "print(y_encoded[0], y_encoded[40000],y_encoded[100000])"
   ]
  },
  {
   "cell_type": "code",
   "execution_count": 41,
   "metadata": {},
   "outputs": [
    {
     "data": {
      "text/plain": [
       "'\\nmfcc_uav_list = mfcc_uav.tolist()\\nmfcc_uav_list = mfcc_uav_list\\nfig = plt.figure(figsize=(15,9))\\nax = fig.add_subplot(1,1,1)\\nax.plot(np.linspace(0,len(mfcc_uav_list), len(mfcc_uav_list)),mfcc_uav_list)\\n'"
      ]
     },
     "execution_count": 41,
     "metadata": {},
     "output_type": "execute_result"
    }
   ],
   "source": [
    "'''\n",
    "mfcc_uav_list = mfcc_uav.tolist()\n",
    "mfcc_uav_list = mfcc_uav_list\n",
    "fig = plt.figure(figsize=(15,9))\n",
    "ax = fig.add_subplot(1,1,1)\n",
    "ax.plot(np.linspace(0,len(mfcc_uav_list), len(mfcc_uav_list)),mfcc_uav_list)\n",
    "'''"
   ]
  },
  {
   "cell_type": "code",
   "execution_count": 42,
   "metadata": {
    "scrolled": true
   },
   "outputs": [
    {
     "name": "stdout",
     "output_type": "stream",
     "text": [
      "[[0. 0. 1.]\n",
      " [0. 0. 1.]\n",
      " [0. 0. 1.]\n",
      " ...\n",
      " [1. 0. 0.]\n",
      " [1. 0. 0.]\n",
      " [1. 0. 0.]]\n",
      "(101312, 13) (101312, 3)\n"
     ]
    }
   ],
   "source": [
    "dataX = X\n",
    "dataY = y_encoded\n",
    "print(y_encoded)\n",
    "print(dataX.shape, dataY.shape)"
   ]
  },
  {
   "cell_type": "code",
   "execution_count": 43,
   "metadata": {},
   "outputs": [],
   "source": [
    "def makeHot(dataX, dataY, seq_length):\n",
    "    X_hot_list= []\n",
    "    Y_hot_tmp = dataY[seq_length-1:]\n",
    "\n",
    "    for i in range(0, dataX.shape[0] - seq_length+1):\n",
    "        _x = dataX[i:i + seq_length]\n",
    "        #if i<10:\n",
    "            #print(_x, \"->\", Y_hot_tmp[i])\n",
    "        X_hot_list.append(_x)\n",
    "\n",
    "    X_hot = np.array(X_hot_list[:])\n",
    "    Y_hot= Y_hot_tmp.reshape((len(Y_hot_tmp),n_unique_labels))\n",
    "    return X_hot[:], Y_hot[:]"
   ]
  },
  {
   "cell_type": "code",
   "execution_count": 44,
   "metadata": {},
   "outputs": [
    {
     "name": "stdout",
     "output_type": "stream",
     "text": [
      "(101297, 16, 13) (101297, 3)\n"
     ]
    }
   ],
   "source": [
    "seq_length = 16 #layer\n",
    "X_hot, Y_hot = makeHot(dataX, dataY, seq_length)\n",
    "print(X_hot.shape, Y_hot.shape)\n"
   ]
  },
  {
   "cell_type": "code",
   "execution_count": 13,
   "metadata": {},
   "outputs": [],
   "source": [
    "class Data:\n",
    "    def __init__(self,X,Y,BatchSize):\n",
    "        self.X = X\n",
    "        self.Y = Y\n",
    "        self.len = len(Y)\n",
    "        self.bs = BatchSize\n",
    "        self.bs_i = 0\n",
    "    def getBatchData(self):\n",
    "        s = self.bs_i\n",
    "        e = self.bs_i + self.bs\n",
    "        if e> self.len:\n",
    "            e -= self.len\n",
    "            result =  np.vstack((self.X[s:],self.X[:e])), np.vstack((self.Y[s:],self.Y[:e]))\n",
    "        else:\n",
    "            result =  self.X[s:e], self.Y[s:e]\n",
    "            \n",
    "        self.bs_i = e\n",
    "        return result\n",
    "        \n"
   ]
  },
  {
   "cell_type": "code",
   "execution_count": 14,
   "metadata": {},
   "outputs": [
    {
     "name": "stdout",
     "output_type": "stream",
     "text": [
      "[1, 2, 3] [11, 12, 13]\n",
      "[4, 5, 6] [14, 15, 16]\n"
     ]
    }
   ],
   "source": [
    "dataX = [1,2,3,4,5,6,7,8]\n",
    "dataY = [11,12,13,14,15,16,17,18]\n",
    "D = Data(dataX, dataY,3)\n",
    "x, y = D.getBatchData()\n",
    "print(x,y)\n",
    "x, y = D.getBatchData()\n",
    "print(x,y)"
   ]
  },
  {
   "cell_type": "code",
   "execution_count": 15,
   "metadata": {},
   "outputs": [],
   "source": [
    "from sklearn import model_selection\n",
    "X_train, X_test, y_train, y_test = model_selection.train_test_split(X_hot, Y_hot, test_size=0.2, random_state=42)\n",
    "X_train, X_val, y_train, y_val = model_selection.train_test_split(X_train, y_train, test_size=0.2, random_state=42)"
   ]
  },
  {
   "cell_type": "code",
   "execution_count": 16,
   "metadata": {},
   "outputs": [],
   "source": [
    "batch_size = 2048\n",
    "traindata = Data(X_train,y_train,batch_size)\n",
    "testdata = Data(X_test,y_test,batch_size)\n",
    "valdata = Data(X_val,y_val,batch_size)"
   ]
  },
  {
   "cell_type": "code",
   "execution_count": 17,
   "metadata": {},
   "outputs": [
    {
     "name": "stdout",
     "output_type": "stream",
     "text": [
      "(64829, 16, 13) (20260, 16, 13) (16208, 16, 13)\n",
      "(64829, 3) (20260, 3) (16208, 3)\n"
     ]
    }
   ],
   "source": [
    "print(X_train.shape, X_test.shape,X_val.shape)\n",
    "print(y_train.shape, y_test.shape,y_val.shape)"
   ]
  },
  {
   "cell_type": "code",
   "execution_count": 18,
   "metadata": {},
   "outputs": [
    {
     "data": {
      "text/plain": [
       "\"\\nnp.save('../data/Xy/X_train2', X_train)\\nnp.save('../data/Xy/X_test2', X_test)\\nnp.save('../data/Xy/y_train2', y_train)\\nnp.save('../data/Xy/y_test2', y_test)\\n\""
      ]
     },
     "execution_count": 18,
     "metadata": {},
     "output_type": "execute_result"
    }
   ],
   "source": [
    "'''\n",
    "np.save('../data/Xy/X_train2', X_train)\n",
    "np.save('../data/Xy/X_test2', X_test)\n",
    "np.save('../data/Xy/y_train2', y_train)\n",
    "np.save('../data/Xy/y_test2', y_test)\n",
    "'''"
   ]
  },
  {
   "cell_type": "code",
   "execution_count": 19,
   "metadata": {},
   "outputs": [
    {
     "data": {
      "text/plain": [
       "\"\\nX_train = np.load('../data/Xy/X_train2.npy')\\nX_test = np.load('../data/Xy/X_test2.npy')\\ny_train = np.load('../data/Xy/y_train2.npy')\\ny_test = np.load('../data/Xy/y_test2.npy')\\n\""
      ]
     },
     "execution_count": 19,
     "metadata": {},
     "output_type": "execute_result"
    }
   ],
   "source": [
    "'''\n",
    "X_train = np.load('../data/Xy/X_train2.npy')\n",
    "X_test = np.load('../data/Xy/X_test2.npy')\n",
    "y_train = np.load('../data/Xy/y_train2.npy')\n",
    "y_test = np.load('../data/Xy/y_test2.npy')\n",
    "'''"
   ]
  },
  {
   "cell_type": "markdown",
   "metadata": {},
   "source": [
    "# Tensorflow RNN"
   ]
  },
  {
   "cell_type": "markdown",
   "metadata": {},
   "source": [
    "## Train "
   ]
  },
  {
   "cell_type": "code",
   "execution_count": 20,
   "metadata": {},
   "outputs": [],
   "source": [
    "batch_size = batch_size\n",
    "num_classes = 13            #분류할 사전의 크기 \n",
    "\n",
    "learning_rate = 0.01\n",
    "sequence_length = seq_length #9         \n",
    "\n",
    "output_dim = n_unique_labels\n",
    "layers = 3"
   ]
  },
  {
   "cell_type": "code",
   "execution_count": 21,
   "metadata": {},
   "outputs": [],
   "source": [
    "X = tf.placeholder(tf.float32, [None, sequence_length,num_classes], name=\"X\")\n",
    "Y = tf.placeholder(tf.float32, [None, output_dim], name=\"Y\")\n",
    "\n",
    "cell = tf.contrib.rnn.BasicLSTMCell(num_units=num_classes, state_is_tuple=True)\n",
    "cell = tf.contrib.rnn.MultiRNNCell([cell]*layers, state_is_tuple= True)\n",
    "\n",
    "BatchSize = tf.placeholder(tf.int32, [], name='BatchSize')\n",
    "initial_state = cell.zero_state(BatchSize, tf.float32)\n",
    "outputs, _states = tf.nn.dynamic_rnn(cell, X,initial_state=initial_state,dtype=tf.float32)\n",
    "\n",
    "dense1 = tf.contrib.layers.fully_connected(outputs[:,-1], output_dim, activation_fn=None)\n",
    "dense2 = tf.layers.dense(inputs=dense1, units=num_classes, activation=tf.nn.relu)\n",
    "\n",
    "Y_pred= tf.layers.dense(inputs=dense2, units=output_dim)\n",
    "cost = tf.reduce_mean(tf.nn.softmax_cross_entropy_with_logits_v2(logits=Y_pred, labels=Y))\n",
    "lr = tf.placeholder(tf.float32,shape=(), name='learning_rate')\n",
    "train = tf.train.AdamOptimizer(lr).minimize(cost)\n"
   ]
  },
  {
   "cell_type": "code",
   "execution_count": 22,
   "metadata": {
    "scrolled": true
   },
   "outputs": [
    {
     "data": {
      "text/plain": [
       "array([[-4.08943615e+02,  8.11125485e+01,  2.97439905e+01,\n",
       "         2.98731709e+01,  2.21388062e+01,  2.15239298e+01,\n",
       "        -1.16385506e+00,  7.32724234e+00,  6.65048457e+00,\n",
       "        -4.70917724e+00, -3.64254027e+00,  1.85383618e+01,\n",
       "         1.41552965e+01],\n",
       "       [-4.05802690e+02,  8.44014000e+01,  3.15598314e+01,\n",
       "         3.33386075e+01,  2.41251922e+01,  1.99723963e+01,\n",
       "        -5.02714977e+00,  4.50811654e+00,  6.97270972e+00,\n",
       "        -2.45879054e+00, -3.39711464e+00,  2.01409509e+01,\n",
       "         1.33835288e+01],\n",
       "       [-4.04231652e+02,  9.31470673e+01,  3.48659055e+01,\n",
       "         3.61361010e+01,  2.63054795e+01,  1.66744885e+01,\n",
       "        -2.59681790e+00,  6.35726259e+00,  4.74750197e+00,\n",
       "         1.50379115e+00,  1.26957174e+00,  1.70913938e+01,\n",
       "         1.33590452e+01],\n",
       "       [-4.03269312e+02,  9.04612812e+01,  2.78214400e+01,\n",
       "         3.29470720e+01,  2.70760184e+01,  2.40943365e+01,\n",
       "        -2.79806791e+00,  3.41332041e+00,  1.84523688e+00,\n",
       "        -1.62660629e+00,  2.99455432e+00,  1.30127606e+01,\n",
       "         1.32075182e+01],\n",
       "       [-4.09717987e+02,  8.37225796e+01,  2.67268430e+01,\n",
       "         2.77320576e+01,  2.09654523e+01,  2.61534069e+01,\n",
       "        -9.56772944e+00,  2.46137321e+00,  4.04324688e+00,\n",
       "        -2.70435702e+00,  2.72247573e-01,  1.27999524e+01,\n",
       "         1.20555501e+01],\n",
       "       [-4.06774224e+02,  8.79242058e+01,  2.57640580e+01,\n",
       "         2.84799841e+01,  2.66962122e+01,  2.62460131e+01,\n",
       "        -9.07426608e+00,  6.81674559e+00,  6.96271090e+00,\n",
       "         1.00039618e-01,  2.98652982e+00,  1.90769741e+01,\n",
       "         1.49366324e+01],\n",
       "       [-4.06801412e+02,  8.99595374e+01,  3.06934986e+01,\n",
       "         2.82225041e+01,  3.05019409e+01,  2.63710314e+01,\n",
       "        -4.62678346e+00,  1.46159553e+01,  9.73884156e+00,\n",
       "        -3.26797037e-03,  3.55403928e+00,  2.15803534e+01,\n",
       "         1.60604059e+01],\n",
       "       [-4.18694733e+02,  8.67777218e+01,  2.51577703e+01,\n",
       "         2.79653105e+01,  3.00437817e+01,  2.06598185e+01,\n",
       "        -5.87140155e+00,  1.59086724e+01,  1.44252406e+01,\n",
       "        -1.88528461e+00,  4.48715679e+00,  2.48102052e+01,\n",
       "         1.61650170e+01],\n",
       "       [-4.09999808e+02,  8.35411904e+01,  2.53880802e+01,\n",
       "         2.53133767e+01,  2.49501296e+01,  2.25536102e+01,\n",
       "        -8.26785994e+00,  5.56790517e+00,  8.30554495e+00,\n",
       "        -6.78543181e+00,  4.22876706e+00,  1.99510644e+01,\n",
       "         1.76081301e+01],\n",
       "       [-4.11210556e+02,  7.71896015e+01,  2.34988302e+01,\n",
       "         2.30112794e+01,  2.28487657e+01,  2.49495956e+01,\n",
       "        -4.41129460e+00,  3.43805804e+00, -6.12693751e-01,\n",
       "        -7.78142571e+00,  4.18627135e+00,  1.61427420e+01,\n",
       "         2.11938032e+01],\n",
       "       [-4.04741131e+02,  7.51700631e+01,  2.90078923e+01,\n",
       "         2.52558708e+01,  2.10763603e+01,  2.53817315e+01,\n",
       "        -2.98574041e+00,  1.05332335e+01,  2.91616164e+00,\n",
       "        -3.78900600e+00,  6.94571059e+00,  1.91801346e+01,\n",
       "         2.13717444e+01],\n",
       "       [-4.02627389e+02,  7.97846496e+01,  3.56223777e+01,\n",
       "         2.49491252e+01,  2.32914612e+01,  2.46488602e+01,\n",
       "        -9.13335873e-01,  9.89561135e+00,  5.40440900e+00,\n",
       "        -6.63682695e+00,  3.93138632e+00,  2.29787353e+01,\n",
       "         2.09965131e+01],\n",
       "       [-4.06348471e+02,  8.24062328e+01,  3.72544722e+01,\n",
       "         1.99371681e+01,  2.05179059e+01,  2.68211549e+01,\n",
       "         1.68943151e+00,  6.24511892e+00,  2.55875404e+00,\n",
       "        -5.05003364e+00,  8.51210086e+00,  2.52810288e+01,\n",
       "         2.26642637e+01],\n",
       "       [-4.07316578e+02,  8.00374400e+01,  3.02359865e+01,\n",
       "         2.06068815e+01,  2.03543991e+01,  2.77387019e+01,\n",
       "         8.11778276e-01,  6.43834812e+00, -5.45194931e-01,\n",
       "        -7.46199034e+00,  6.98190505e+00,  2.05509980e+01,\n",
       "         1.76751226e+01],\n",
       "       [-4.07745853e+02,  8.88792325e+01,  3.27063268e+01,\n",
       "         2.67363780e+01,  1.71662881e+01,  3.05623952e+01,\n",
       "         7.96932464e-01,  2.87761815e+00, -4.95385082e-01,\n",
       "        -3.62877570e+00,  2.73757447e+00,  1.74335373e+01,\n",
       "         1.85134117e+01],\n",
       "       [-4.10166374e+02,  9.07385203e+01,  2.95408979e+01,\n",
       "         2.82569917e+01,  1.20788142e+01,  2.81439079e+01,\n",
       "        -2.01873442e+00,  6.92321971e-01, -1.78691777e+00,\n",
       "        -2.56140403e+00,  5.66697242e+00,  1.19821424e+01,\n",
       "         1.92924791e+01]])"
      ]
     },
     "execution_count": 22,
     "metadata": {},
     "output_type": "execute_result"
    }
   ],
   "source": [
    "traindata.X[0]"
   ]
  },
  {
   "cell_type": "code",
   "execution_count": 23,
   "metadata": {},
   "outputs": [
    {
     "name": "stdout",
     "output_type": "stream",
     "text": [
      "[[0. 0. 1.]\n",
      " [0. 1. 0.]\n",
      " [1. 0. 0.]\n",
      " ...\n",
      " [0. 0. 1.]\n",
      " [1. 0. 0.]\n",
      " [0. 1. 0.]]\n"
     ]
    }
   ],
   "source": [
    "print(traindata.Y)"
   ]
  },
  {
   "cell_type": "code",
   "execution_count": 24,
   "metadata": {},
   "outputs": [
    {
     "name": "stdout",
     "output_type": "stream",
     "text": [
      "[[0. 0. 1.]\n",
      " [0. 1. 0.]\n",
      " [1. 0. 0.]\n",
      " ...\n",
      " [0. 0. 1.]\n",
      " [0. 1. 0.]\n",
      " [0. 1. 0.]]\n"
     ]
    }
   ],
   "source": [
    "x, y = traindata.getBatchData()\n",
    "print(y)"
   ]
  },
  {
   "cell_type": "code",
   "execution_count": 25,
   "metadata": {
    "scrolled": true
   },
   "outputs": [
    {
     "name": "stdout",
     "output_type": "stream",
     "text": [
      "[step: 0] loss: 1.1247880458831787 \tvalidation: 49.130%\n",
      "[step: 1] loss: 1.0941765308380127 \tvalidation: 48.760%\n",
      "[step: 2] loss: 1.083725094795227 \tvalidation: 48.760%\n",
      "[step: 3] loss: 1.0782722234725952 \tvalidation: 48.760%\n",
      "[step: 4] loss: 1.0708270072937012 \tvalidation: 48.760%\n",
      "[step: 5] loss: 1.0580379962921143 \tvalidation: 48.760%\n",
      "[step: 6] loss: 1.0480388402938843 \tvalidation: 48.760%\n",
      "[step: 7] loss: 1.0295403003692627 \tvalidation: 48.760%\n",
      "[step: 8] loss: 0.9973328113555908 \tvalidation: 48.760%\n",
      "[step: 9] loss: 0.9763534069061279 \tvalidation: 48.760%\n",
      "[step: 10] loss: 0.9621583819389343 \tvalidation: 48.760%\n",
      "[step: 11] loss: 0.9442816376686096 \tvalidation: 48.760%\n",
      "[step: 12] loss: 0.8909072875976562 \tvalidation: 48.760%\n",
      "[step: 13] loss: 0.8380320072174072 \tvalidation: 48.760%\n",
      "[step: 14] loss: 0.7950581312179565 \tvalidation: 48.760%\n",
      "[step: 15] loss: 0.7822162508964539 \tvalidation: 68.040%\n",
      "[step: 16] loss: 0.7514750361442566 \tvalidation: 69.034%\n",
      "[step: 17] loss: 0.7161825895309448 \tvalidation: 68.997%\n",
      "[step: 18] loss: 0.6902737021446228 \tvalidation: 68.349%\n",
      "[step: 19] loss: 0.6399944424629211 \tvalidation: 68.189%\n",
      "[step: 20] loss: 0.6128339171409607 \tvalidation: 68.670%\n",
      "[step: 21] loss: 0.5838614106178284 \tvalidation: 69.731%\n",
      "[step: 22] loss: 0.5587793588638306 \tvalidation: 69.935%\n",
      "[step: 23] loss: 0.5374569892883301 \tvalidation: 70.107%\n",
      "[step: 24] loss: 0.5334869027137756 \tvalidation: 69.706%\n",
      "[step: 25] loss: 0.5150096416473389 \tvalidation: 68.898%\n",
      "[step: 26] loss: 0.5039315223693848 \tvalidation: 69.608%\n",
      "[step: 27] loss: 0.45854508876800537 \tvalidation: 69.941%\n",
      "[step: 28] loss: 0.46090108156204224 \tvalidation: 84.551%\n",
      "[step: 29] loss: 0.48952949047088623 \tvalidation: 90.918%\n",
      "[step: 30] loss: 0.4552881717681885 \tvalidation: 90.844%\n",
      "[step: 31] loss: 0.43975335359573364 \tvalidation: 90.918%\n",
      "[step: 32] loss: 0.4276977479457855 \tvalidation: 90.647%\n",
      "[step: 33] loss: 0.3555549383163452 \tvalidation: 90.597%\n",
      "[step: 34] loss: 0.38440829515457153 \tvalidation: 91.609%\n",
      "[step: 35] loss: 0.3671278953552246 \tvalidation: 91.831%\n",
      "[step: 36] loss: 0.3573804497718811 \tvalidation: 91.850%\n",
      "[step: 37] loss: 0.33796456456184387 \tvalidation: 92.393%\n",
      "[step: 38] loss: 0.30629825592041016 \tvalidation: 91.708%\n",
      "[step: 39] loss: 0.28290748596191406 \tvalidation: 92.022%\n",
      "[step: 40] loss: 0.26824480295181274 \tvalidation: 92.454%\n",
      "[step: 41] loss: 0.26583361625671387 \tvalidation: 92.115%\n",
      "[step: 42] loss: 0.23406365513801575 \tvalidation: 91.763%\n",
      "[step: 43] loss: 0.23982149362564087 \tvalidation: 91.985%\n",
      "[step: 44] loss: 0.2519272267818451 \tvalidation: 92.609%\n",
      "[step: 45] loss: 0.2060387134552002 \tvalidation: 92.522%\n",
      "[step: 46] loss: 0.19922679662704468 \tvalidation: 92.362%\n",
      "[step: 47] loss: 0.2192712277173996 \tvalidation: 92.775%\n",
      "[step: 48] loss: 0.20554707944393158 \tvalidation: 92.757%\n",
      "[step: 49] loss: 0.21181553602218628 \tvalidation: 92.565%\n",
      "[step: 50] loss: 0.20005173981189728 \tvalidation: 92.948%\n",
      "[step: 51] loss: 0.19929206371307373 \tvalidation: 93.244%\n",
      "[step: 52] loss: 0.19013965129852295 \tvalidation: 93.084%\n",
      "[step: 53] loss: 0.1705392450094223 \tvalidation: 92.929%\n",
      "[step: 54] loss: 0.18732041120529175 \tvalidation: 93.244%\n",
      "[step: 55] loss: 0.19074806571006775 \tvalidation: 93.275%\n",
      "[step: 56] loss: 0.1989336609840393 \tvalidation: 92.855%\n",
      "[step: 57] loss: 0.16182544827461243 \tvalidation: 92.473%\n",
      "[step: 58] loss: 0.19776669144630432 \tvalidation: 93.287%\n",
      "[step: 59] loss: 0.16184821724891663 \tvalidation: 93.651%\n",
      "[step: 60] loss: 0.17750728130340576 \tvalidation: 93.367%\n",
      "[step: 61] loss: 0.17294281721115112 \tvalidation: 93.281%\n",
      "[step: 62] loss: 0.1888415515422821 \tvalidation: 93.614%\n",
      "[step: 63] loss: 0.16528674960136414 \tvalidation: 93.947%\n",
      "[step: 64] loss: 0.1613730788230896 \tvalidation: 93.818%\n",
      "[step: 65] loss: 0.1690194308757782 \tvalidation: 93.682%\n",
      "[step: 66] loss: 0.18849226832389832 \tvalidation: 93.738%\n",
      "[step: 67] loss: 0.2012576460838318 \tvalidation: 94.139%\n",
      "[step: 68] loss: 0.1764596849679947 \tvalidation: 93.725%\n",
      "[step: 69] loss: 0.16162355244159698 \tvalidation: 94.058%\n",
      "[step: 70] loss: 0.14687512814998627 \tvalidation: 93.991%\n",
      "[step: 71] loss: 0.15751993656158447 \tvalidation: 93.830%\n",
      "[step: 72] loss: 0.14361493289470673 \tvalidation: 93.818%\n",
      "[step: 73] loss: 0.17154276371002197 \tvalidation: 93.756%\n",
      "[step: 74] loss: 0.1460263878107071 \tvalidation: 93.824%\n",
      "[step: 75] loss: 0.1557115614414215 \tvalidation: 93.806%\n",
      "[step: 76] loss: 0.16561871767044067 \tvalidation: 93.941%\n",
      "[step: 77] loss: 0.1415424346923828 \tvalidation: 93.676%\n",
      "[step: 78] loss: 0.1581207513809204 \tvalidation: 93.657%\n",
      "[step: 79] loss: 0.16284126043319702 \tvalidation: 94.151%\n",
      "[step: 80] loss: 0.16690754890441895 \tvalidation: 94.250%\n",
      "[step: 81] loss: 0.1590510606765747 \tvalidation: 94.231%\n",
      "[step: 82] loss: 0.15291599929332733 \tvalidation: 93.688%\n",
      "[step: 83] loss: 0.16724452376365662 \tvalidation: 94.262%\n",
      "[step: 84] loss: 0.1455174833536148 \tvalidation: 94.416%\n",
      "[step: 85] loss: 0.13998621702194214 \tvalidation: 94.108%\n",
      "[step: 86] loss: 0.1448478102684021 \tvalidation: 94.213%\n",
      "[step: 87] loss: 0.12513886392116547 \tvalidation: 93.935%\n",
      "[step: 88] loss: 0.17287319898605347 \tvalidation: 94.293%\n",
      "[step: 89] loss: 0.13168081641197205 \tvalidation: 94.176%\n",
      "[step: 90] loss: 0.1278667449951172 \tvalidation: 94.318%\n",
      "[step: 91] loss: 0.13431037962436676 \tvalidation: 94.015%\n",
      "[step: 92] loss: 0.15348966419696808 \tvalidation: 94.392%\n",
      "[step: 93] loss: 0.14442841708660126 \tvalidation: 94.336%\n",
      "[step: 94] loss: 0.13907477259635925 \tvalidation: 94.503%\n",
      "[step: 95] loss: 0.11593136191368103 \tvalidation: 94.589%\n",
      "[step: 96] loss: 0.11507445573806763 \tvalidation: 94.435%\n",
      "[step: 97] loss: 0.1535564363002777 \tvalidation: 94.423%\n",
      "[step: 98] loss: 0.14209377765655518 \tvalidation: 94.608%\n",
      "[step: 99] loss: 0.14413776993751526 \tvalidation: 94.595%\n",
      "[step: 100] loss: 0.1455657035112381 \tvalidation: 94.509%\n",
      "[step: 101] loss: 0.12686675786972046 \tvalidation: 94.466%\n",
      "[step: 102] loss: 0.11217360198497772 \tvalidation: 94.287%\n",
      "[step: 103] loss: 0.13474084436893463 \tvalidation: 94.139%\n",
      "[step: 104] loss: 0.1255800873041153 \tvalidation: 94.330%\n",
      "[step: 105] loss: 0.12478642910718918 \tvalidation: 94.712%\n",
      "[step: 106] loss: 0.11648125946521759 \tvalidation: 94.638%\n",
      "[step: 107] loss: 0.12745772302150726 \tvalidation: 94.910%\n",
      "[step: 108] loss: 0.12301407754421234 \tvalidation: 94.799%\n",
      "[step: 109] loss: 0.12125520408153534 \tvalidation: 94.861%\n",
      "[step: 110] loss: 0.13052153587341309 \tvalidation: 94.743%\n",
      "[step: 111] loss: 0.1332494467496872 \tvalidation: 94.712%\n",
      "[step: 112] loss: 0.12493222951889038 \tvalidation: 94.361%\n",
      "[step: 113] loss: 0.14467841386795044 \tvalidation: 94.750%\n",
      "[step: 114] loss: 0.1145690307021141 \tvalidation: 94.589%\n",
      "[step: 115] loss: 0.13301238417625427 \tvalidation: 94.972%\n",
      "[step: 116] loss: 0.11069022119045258 \tvalidation: 94.435%\n",
      "[step: 117] loss: 0.12447268515825272 \tvalidation: 94.614%\n",
      "[step: 118] loss: 0.11393387615680695 \tvalidation: 95.114%\n",
      "[step: 119] loss: 0.11418239772319794 \tvalidation: 94.780%\n",
      "[step: 120] loss: 0.1305563896894455 \tvalidation: 94.824%\n",
      "[step: 121] loss: 0.12178881466388702 \tvalidation: 95.188%\n",
      "[step: 122] loss: 0.10520128160715103 \tvalidation: 94.546%\n",
      "[step: 123] loss: 0.11480385065078735 \tvalidation: 94.552%\n",
      "[step: 124] loss: 0.1080625057220459 \tvalidation: 94.959%\n",
      "[step: 125] loss: 0.12463213503360748 \tvalidation: 95.175%\n",
      "[step: 126] loss: 0.11384071409702301 \tvalidation: 95.077%\n",
      "[step: 127] loss: 0.10257725417613983 \tvalidation: 95.120%\n",
      "[step: 128] loss: 0.0996580719947815 \tvalidation: 95.132%\n",
      "[step: 129] loss: 0.12525111436843872 \tvalidation: 95.175%\n",
      "[step: 130] loss: 0.12363132834434509 \tvalidation: 95.212%\n",
      "[step: 131] loss: 0.11859096586704254 \tvalidation: 95.052%\n",
      "[step: 132] loss: 0.1077328622341156 \tvalidation: 95.138%\n",
      "[step: 133] loss: 0.11371279507875443 \tvalidation: 94.799%\n",
      "[step: 134] loss: 0.10909474641084671 \tvalidation: 94.626%\n",
      "[step: 135] loss: 0.1106625348329544 \tvalidation: 94.928%\n",
      "[step: 136] loss: 0.11233620345592499 \tvalidation: 95.274%\n",
      "[step: 137] loss: 0.09116305410861969 \tvalidation: 95.089%\n",
      "[step: 138] loss: 0.11167225241661072 \tvalidation: 95.262%\n",
      "[step: 139] loss: 0.1112365648150444 \tvalidation: 95.348%\n",
      "[step: 140] loss: 0.10596995055675507 \tvalidation: 95.360%\n",
      "[step: 141] loss: 0.0980779379606247 \tvalidation: 95.366%\n"
     ]
    },
    {
     "name": "stdout",
     "output_type": "stream",
     "text": [
      "[step: 142] loss: 0.1141090840101242 \tvalidation: 95.292%\n",
      "[step: 143] loss: 0.10742875933647156 \tvalidation: 95.348%\n",
      "[step: 144] loss: 0.10741577297449112 \tvalidation: 95.336%\n",
      "[step: 145] loss: 0.1146952211856842 \tvalidation: 95.422%\n",
      "[step: 146] loss: 0.10541568696498871 \tvalidation: 95.206%\n",
      "[step: 147] loss: 0.10076962411403656 \tvalidation: 95.218%\n",
      "[step: 148] loss: 0.10796597599983215 \tvalidation: 95.286%\n",
      "[step: 149] loss: 0.10183185338973999 \tvalidation: 95.354%\n",
      "[step: 150] loss: 0.0976732075214386 \tvalidation: 95.311%\n",
      "[step: 151] loss: 0.11551076173782349 \tvalidation: 95.231%\n",
      "[step: 152] loss: 0.10473208874464035 \tvalidation: 95.138%\n",
      "[step: 153] loss: 0.1103467345237732 \tvalidation: 95.046%\n",
      "[step: 154] loss: 0.10300226509571075 \tvalidation: 94.762%\n",
      "[step: 155] loss: 0.09959594905376434 \tvalidation: 94.805%\n",
      "[step: 156] loss: 0.10263195633888245 \tvalidation: 95.366%\n",
      "[step: 157] loss: 0.11694766581058502 \tvalidation: 95.262%\n",
      "[step: 158] loss: 0.0972190573811531 \tvalidation: 95.083%\n",
      "[step: 159] loss: 0.08631695806980133 \tvalidation: 95.194%\n",
      "[step: 160] loss: 0.10269087553024292 \tvalidation: 95.354%\n",
      "[step: 161] loss: 0.10914385318756104 \tvalidation: 95.274%\n",
      "[step: 162] loss: 0.1214209645986557 \tvalidation: 95.206%\n",
      "[step: 163] loss: 0.11148185282945633 \tvalidation: 94.867%\n",
      "[step: 164] loss: 0.11403021216392517 \tvalidation: 95.002%\n",
      "[step: 165] loss: 0.09344740211963654 \tvalidation: 94.861%\n",
      "[step: 166] loss: 0.10817492008209229 \tvalidation: 94.694%\n",
      "[step: 167] loss: 0.1029796153306961 \tvalidation: 95.157%\n",
      "[step: 168] loss: 0.11261089146137238 \tvalidation: 95.231%\n",
      "[step: 169] loss: 0.09985905140638351 \tvalidation: 95.231%\n",
      "[step: 170] loss: 0.10672362893819809 \tvalidation: 95.305%\n",
      "[step: 171] loss: 0.11048097163438797 \tvalidation: 95.354%\n",
      "[step: 172] loss: 0.11317837238311768 \tvalidation: 95.373%\n",
      "[step: 173] loss: 0.10053425282239914 \tvalidation: 95.317%\n",
      "[step: 174] loss: 0.11002413183450699 \tvalidation: 95.348%\n",
      "[step: 175] loss: 0.09955932199954987 \tvalidation: 95.311%\n",
      "[step: 176] loss: 0.10470911115407944 \tvalidation: 95.255%\n",
      "[step: 177] loss: 0.1045110896229744 \tvalidation: 95.274%\n",
      "[step: 178] loss: 0.10458870232105255 \tvalidation: 95.336%\n",
      "[step: 179] loss: 0.09796687215566635 \tvalidation: 95.268%\n",
      "[step: 180] loss: 0.09664790332317352 \tvalidation: 95.465%\n",
      "[step: 181] loss: 0.10404165834188461 \tvalidation: 95.515%\n",
      "[step: 182] loss: 0.09046103060245514 \tvalidation: 95.311%\n",
      "[step: 183] loss: 0.1113864928483963 \tvalidation: 95.490%\n",
      "[step: 184] loss: 0.10232868790626526 \tvalidation: 95.243%\n",
      "[step: 185] loss: 0.08821052312850952 \tvalidation: 94.953%\n",
      "[step: 186] loss: 0.1047472357749939 \tvalidation: 95.428%\n",
      "[step: 187] loss: 0.09930486977100372 \tvalidation: 95.570%\n",
      "[step: 188] loss: 0.11138859391212463 \tvalidation: 95.589%\n",
      "[step: 189] loss: 0.10657690465450287 \tvalidation: 95.508%\n",
      "[step: 190] loss: 0.08021540939807892 \tvalidation: 95.459%\n",
      "[step: 191] loss: 0.08369293808937073 \tvalidation: 95.465%\n",
      "[step: 192] loss: 0.10145591199398041 \tvalidation: 95.465%\n",
      "[step: 193] loss: 0.10373726487159729 \tvalidation: 95.397%\n",
      "[step: 194] loss: 0.10794314742088318 \tvalidation: 95.274%\n",
      "[step: 195] loss: 0.1001795306801796 \tvalidation: 95.373%\n",
      "[step: 196] loss: 0.10102219134569168 \tvalidation: 95.058%\n",
      "[step: 197] loss: 0.0960904210805893 \tvalidation: 95.052%\n",
      "[step: 198] loss: 0.10058838874101639 \tvalidation: 95.453%\n",
      "[step: 199] loss: 0.09377040714025497 \tvalidation: 95.502%\n",
      "\n"
     ]
    }
   ],
   "source": [
    "from sklearn.metrics import accuracy_score\n",
    "init = tf.global_variables_initializer()\n",
    "cost_history = np.empty(shape=[1],dtype=float)\n",
    "step_loss = 999999.0\n",
    "model_path = '../models/RNN/my_RNN_model'\n",
    "saver = tf.train.Saver()\n",
    "training_epochs = 200\n",
    "# Training step\n",
    "\n",
    "sess = tf.InteractiveSession()\n",
    "sess.run(init)\n",
    "#learning_rate_ = [i*0.001 for i in range(20,10,-1)]\n",
    "#for learning_rate in [0.02, 0.01]:\n",
    "#    feed = {lr:learning_rate, BatchSize: batch_size}\n",
    "for i in range(training_epochs):\n",
    "    x,y = traindata.getBatchData()\n",
    "    feed = {lr:learning_rate, BatchSize: batch_size}\n",
    "    feed[X], feed[Y] = x, y\n",
    "    step_loss_prev = step_loss\n",
    "    _, step_loss = sess.run([train, cost], feed_dict=feed)\n",
    "    cost_history = np.append(cost_history,step_loss)\n",
    "        \n",
    "    y_pred = sess.run(tf.argmax(Y_pred,1),feed_dict={X: valdata.X, BatchSize: len(valdata.Y)})\n",
    "    y_true = sess.run(tf.argmax(valdata.Y,1))\n",
    "    accuracy_val = accuracy_score(y_pred, y_true)\n",
    "    \n",
    "    print(\"[step: {}] loss: {}\".format(i, step_loss), \"\\tvalidation: {:.3f}%\".format(accuracy_val * 100))    \n",
    "    \n",
    "print('')\n",
    "saver.save(sess, model_path)\n",
    "sess.close()"
   ]
  },
  {
   "cell_type": "code",
   "execution_count": 26,
   "metadata": {
    "scrolled": false
   },
   "outputs": [
    {
     "name": "stdout",
     "output_type": "stream",
     "text": [
      "INFO:tensorflow:Restoring parameters from ../models/RNN/my_RNN_model\n",
      "(20260,) (20260,)\n"
     ]
    }
   ],
   "source": [
    "sess = tf.InteractiveSession()\n",
    "saver.restore(sess, model_path)\n",
    "y_pred = sess.run(tf.argmax(Y_pred,1),feed_dict={X: testdata.X, BatchSize: len(testdata.Y)})\n",
    "y_true = sess.run(tf.argmax(testdata.Y,1))\n",
    "print(y_pred.shape, y_true.shape)"
   ]
  },
  {
   "cell_type": "code",
   "execution_count": 27,
   "metadata": {},
   "outputs": [],
   "source": [
    "sess.close()"
   ]
  },
  {
   "cell_type": "code",
   "execution_count": 28,
   "metadata": {
    "scrolled": false
   },
   "outputs": [
    {
     "data": {
      "image/png": "[encoded data removed]",
      "text/plain": [
       "<Figure size 720x576 with 1 Axes>"
      ]
     },
     "metadata": {},
     "output_type": "display_data"
    },
    {
     "name": "stdout",
     "output_type": "stream",
     "text": [
      "F-Score: 0.953\n",
      "Accuracy:  0.9534550839091807\n",
      "             precision    recall  f1-score   support\n",
      "\n",
      "          0       0.99      0.99      0.99      4433\n",
      "          1       0.99      0.92      0.95     10016\n",
      "          2       0.88      0.97      0.93      5811\n",
      "\n",
      "avg / total       0.96      0.95      0.95     20260\n",
      "\n",
      "[[4396    1   36]\n",
      " [  27 9264  725]\n",
      " [  29  125 5657]]\n"
     ]
    }
   ],
   "source": [
    "from sklearn.metrics import precision_recall_fscore_support\n",
    "from sklearn.metrics import accuracy_score\n",
    "from sklearn.metrics import classification_report\n",
    "from sklearn.metrics import confusion_matrix\n",
    "\n",
    "fig = plt.figure(figsize=(10,8))\n",
    "plt.plot(cost_history)\n",
    "plt.ylabel(\"Cost\")\n",
    "plt.xlabel(\"Iterations\") \n",
    "plt.axis([0,len(cost_history),0,np.max(cost_history)])\n",
    "plt.show()\n",
    "\n",
    "\n",
    "p,r,f,s = precision_recall_fscore_support(y_true, y_pred, average='micro')\n",
    "print(\"F-Score:\", round(f,3))\n",
    "print(\"Accuracy: \", accuracy_score(y_true, y_pred))\n",
    "\n",
    "print(classification_report(y_true, y_pred))\n",
    "print(confusion_matrix(y_true, y_pred))"
   ]
  },
  {
   "cell_type": "code",
   "execution_count": 29,
   "metadata": {},
   "outputs": [
    {
     "data": {
      "text/plain": [
       "'\\nmodel_path_f = \\'../models/RNN/\\'\\nfilename = \\'my_RNN_model_S9_40.meta\\'\\n\\n\\nsess = tf.InteractiveSession()\\nsess.run(tf.global_variables_initializer())\\nloader = tf.train.import_meta_graph(model_path_f+filename)\\nloader.restore(sess, tf.train.latest_checkpoint(model_path_f))\\n\\nSR = 22050\\n####\\njustone = True\\n\\nwhile(justone):\\n    justone = False\\n    #print(\"start to record the audio.\")\\n    \\n    frames = []\\n    for i in range(0, int(RATE / CHUNK * RECORD_SECONDS)):\\n        data = stream.read(CHUNK)\\n        frames.append(data)\\n    #print(\"Recording finished.\")\\n    stream.stop_stream()\\n    stream.close()\\n\\n    p.terminate()\\n\\n    wf = wave.open(WAVE_OUTPUT_FILENAME, \\'wb\\')\\n    wf.setnchannels(CHANNELS)\\n    wf.setsampwidth(p.get_sample_size(FORMAT))\\n    wf.setframerate(RATE)\\n    wf.writeframes(b\\'\\'.join(frames))\\n    wf.close()\\n    \\n    ####\\n    filename1 = \\'../data/phantom/JUNE_01_PHANTOMS/wavs/22050/WSU_P2_LOADED_BACK_AND_FORTH.wav\\'\\n    filename2 = \\'../data/phantom/JUNE_02_BACKGROUND/wavs/background/canopy_heavy_wind.wav\\'\\n    \\n    sample, sample_rate = librosa.load(filename1,SR)\\n    print(sample.shape)\\n    \\n    \\n    freqs, times, spectrogram = log_specgram(sample, sample_rate)    \\n    #showFreqTime([[sample, filename1, SR]])  \\n\\n    spectrogram = (spectrogram - mean) / std\\n    \\n    dataX = spectrogram\\n    #print(dataX.shape)\\n    #print(\\'delta shape:\\',dataX.shape)\\n\\n    X_hot_list= []\\n    #print(dataX.shape[0] - seq_length+1)\\n    for i in range(0, dataX.shape[0] - seq_length+1):\\n        _x = dataX[i:i + seq_length]\\n        X_hot_list.append(_x)\\n    X_hot = np.array(X_hot_list[:])\\n    #print(X_hot[0])\\n    #print(\\'\\n\\n\\n\\')\\n    y_pred = sess.run(Y_pred,feed_dict={X: X_hot})\\n    #y_pred[y_pred<0.5] = 0\\n    #y_pred[y_pred>=0.5] = 1\\n    print(y_pred[20:30] )\\n    y_true = np.ones(shape=[y_pred.shape[0]])\\n    y_pred[y_pred<0.5] = 0\\n    y_pred[y_pred>=0.5] = 1\\n    \\n    p,r,f,s = precision_recall_fscore_support(y_true, y_pred, average=\\'micro\\')\\n    print(\"F-Score:\", round(f,3))\\n    print(\"Accuracy: \", accuracy_score(y_true, y_pred))\\n\\n    print(classification_report(y_true, y_pred))\\n    print(confusion_matrix(y_true, y_pred))\\n\\n    \\n    if y_pred[0] == 1:\\n        print(\\'The sound is Drone\\')\\n    else :\\n        print(\\'THe sound isn\\'t Drone\\')\\n    \\n\\nsess.close()\\n'"
      ]
     },
     "execution_count": 29,
     "metadata": {},
     "output_type": "execute_result"
    }
   ],
   "source": [
    "'''\n",
    "model_path_f = '../models/RNN/'\n",
    "filename = 'my_RNN_model_S9_40.meta'\n",
    "\n",
    "\n",
    "sess = tf.InteractiveSession()\n",
    "sess.run(tf.global_variables_initializer())\n",
    "loader = tf.train.import_meta_graph(model_path_f+filename)\n",
    "loader.restore(sess, tf.train.latest_checkpoint(model_path_f))\n",
    "\n",
    "SR = 22050\n",
    "####\n",
    "justone = True\n",
    "\n",
    "while(justone):\n",
    "    justone = False\n",
    "    #print(\"start to record the audio.\")\n",
    "    \n",
    "    frames = []\n",
    "    for i in range(0, int(RATE / CHUNK * RECORD_SECONDS)):\n",
    "        data = stream.read(CHUNK)\n",
    "        frames.append(data)\n",
    "    #print(\"Recording finished.\")\n",
    "    stream.stop_stream()\n",
    "    stream.close()\n",
    "\n",
    "    p.terminate()\n",
    "\n",
    "    wf = wave.open(WAVE_OUTPUT_FILENAME, 'wb')\n",
    "    wf.setnchannels(CHANNELS)\n",
    "    wf.setsampwidth(p.get_sample_size(FORMAT))\n",
    "    wf.setframerate(RATE)\n",
    "    wf.writeframes(b''.join(frames))\n",
    "    wf.close()\n",
    "    \n",
    "    ####\n",
    "    filename1 = '../data/phantom/JUNE_01_PHANTOMS/wavs/22050/WSU_P2_LOADED_BACK_AND_FORTH.wav'\n",
    "    filename2 = '../data/phantom/JUNE_02_BACKGROUND/wavs/background/canopy_heavy_wind.wav'\n",
    "    \n",
    "    sample, sample_rate = librosa.load(filename1,SR)\n",
    "    print(sample.shape)\n",
    "    \n",
    "    \n",
    "    freqs, times, spectrogram = log_specgram(sample, sample_rate)    \n",
    "    #showFreqTime([[sample, filename1, SR]])  \n",
    "\n",
    "    spectrogram = (spectrogram - mean) / std\n",
    "    \n",
    "    dataX = spectrogram\n",
    "    #print(dataX.shape)\n",
    "    #print('delta shape:',dataX.shape)\n",
    "\n",
    "    X_hot_list= []\n",
    "    #print(dataX.shape[0] - seq_length+1)\n",
    "    for i in range(0, dataX.shape[0] - seq_length+1):\n",
    "        _x = dataX[i:i + seq_length]\n",
    "        X_hot_list.append(_x)\n",
    "    X_hot = np.array(X_hot_list[:])\n",
    "    #print(X_hot[0])\n",
    "    #print('\\n\\n\\n')\n",
    "    y_pred = sess.run(Y_pred,feed_dict={X: X_hot})\n",
    "    #y_pred[y_pred<0.5] = 0\n",
    "    #y_pred[y_pred>=0.5] = 1\n",
    "    print(y_pred[20:30] )\n",
    "    y_true = np.ones(shape=[y_pred.shape[0]])\n",
    "    y_pred[y_pred<0.5] = 0\n",
    "    y_pred[y_pred>=0.5] = 1\n",
    "    \n",
    "    p,r,f,s = precision_recall_fscore_support(y_true, y_pred, average='micro')\n",
    "    print(\"F-Score:\", round(f,3))\n",
    "    print(\"Accuracy: \", accuracy_score(y_true, y_pred))\n",
    "\n",
    "    print(classification_report(y_true, y_pred))\n",
    "    print(confusion_matrix(y_true, y_pred))\n",
    "\n",
    "    \n",
    "    if y_pred[0] == 1:\n",
    "        print('The sound is Drone')\n",
    "    else :\n",
    "        print('THe sound isn\\'t Drone')\n",
    "    \n",
    "\n",
    "sess.close()\n",
    "'''"
   ]
  },
  {
   "cell_type": "code",
   "execution_count": null,
   "metadata": {},
   "outputs": [],
   "source": []
  }
 ],
 "metadata": {
  "kernelspec": {
   "display_name": "Python 3",
   "language": "python",
   "name": "python3"
  },
  "language_info": {
   "codemirror_mode": {
    "name": "ipython",
    "version": 3
   },
   "file_extension": ".py",
   "mimetype": "text/x-python",
   "name": "python",
   "nbconvert_exporter": "python",
   "pygments_lexer": "ipython3",
   "version": "3.5.4"
  }
 },
 "nbformat": 4,
 "nbformat_minor": 2
}
