{
 "cells": [
  {
   "cell_type": "code",
   "execution_count": 1,
   "metadata": {},
   "outputs": [
    {
     "data": {
      "text/html": [
       "<script>requirejs.config({paths: { 'plotly': ['https://cdn.plot.ly/plotly-latest.min']},});if(!window.Plotly) {{require(['plotly'],function(plotly) {window.Plotly=plotly;});}}</script>"
      ],
      "text/vnd.plotly.v1+html": [
       "<script>requirejs.config({paths: { 'plotly': ['https://cdn.plot.ly/plotly-latest.min']},});if(!window.Plotly) {{require(['plotly'],function(plotly) {window.Plotly=plotly;});}}</script>"
      ]
     },
     "metadata": {},
     "output_type": "display_data"
    }
   ],
   "source": [
    "import os\n",
    "from os.path import isdir, join\n",
    "from pathlib import Path\n",
    "import pandas as pd\n",
    "\n",
    "import tensorflow as tf\n",
    "# Math\n",
    "import numpy as np\n",
    "from scipy.fftpack import fft\n",
    "from scipy import signal\n",
    "from scipy.io import wavfile\n",
    "import librosa\n",
    "\n",
    "from sklearn.decomposition import PCA\n",
    "\n",
    "# Visualization\n",
    "import matplotlib.pyplot as plt\n",
    "import seaborn as sns\n",
    "import IPython.display as ipd\n",
    "import librosa.display\n",
    "\n",
    "import plotly.offline as py\n",
    "py.init_notebook_mode(connected=True)\n",
    "import plotly.graph_objs as go\n",
    "import plotly.tools as tls\n",
    "import pandas as pd\n",
    "\n",
    "%matplotlib inline\n",
    "\n",
    "n_mels = 40\n",
    "n_frame = 500\n",
    "window_size=1024\n",
    "hop_size=512\n",
    "\n",
    "sequence_length = 50 #layer\n",
    "n_unique_labels = 3"
   ]
  },
  {
   "cell_type": "code",
   "execution_count": 2,
   "metadata": {},
   "outputs": [],
   "source": [
    "import glob\n",
    "uav_path = '../data/0808_field-0807_train/Unloaded/*.*'\n",
    "loaded_path = '../data/0808_field-0807_train/Loaded/*.*'\n",
    "none_path = '../data/0808_field-0807_train/Background/*.*'\n",
    "\n",
    "uav_files = glob.glob(uav_path)#[0]]\n",
    "loaded_files = glob.glob(loaded_path)#[0]]\n",
    "none_files = glob.glob(none_path)#[0]]"
   ]
  },
  {
   "cell_type": "code",
   "execution_count": 3,
   "metadata": {
    "scrolled": true
   },
   "outputs": [
    {
     "name": "stdout",
     "output_type": "stream",
     "text": [
      "13 개\t ../data/0808_field-0807_train/Unloaded\\rpi1_1533670549.wav\n",
      "13 개\t ../data/0808_field-0807_train/Loaded\\rpi2_1533669810.wav\n",
      "4 개\t ../data/0808_field-0807_train/Background\\rpi2_1533670583.wav\n"
     ]
    }
   ],
   "source": [
    "print(len(uav_files),'개\\t', uav_files[0])\n",
    "print(len(uav_files),'개\\t', loaded_files[0])\n",
    "print(len(none_files), '개\\t',none_files[0])"
   ]
  },
  {
   "cell_type": "code",
   "execution_count": 4,
   "metadata": {},
   "outputs": [],
   "source": [
    "SR = 44100"
   ]
  },
  {
   "cell_type": "markdown",
   "metadata": {},
   "source": [
    "# Load Data\n",
    "\n",
    "The reason of why SR is 44100 is that the sample rate of above files is 44.1kbps\n",
    "\n",
    "a wav file sample has 884736. if sample is divided by sample rate, the value is time\n",
    "the time is fixed by 20.06"
   ]
  },
  {
   "cell_type": "code",
   "execution_count": 5,
   "metadata": {},
   "outputs": [],
   "source": [
    "def load(files, sr=SR):\n",
    "    [raw, sr] = librosa.load(files[0], sr=sr)\n",
    "    for f in files[1:]:\n",
    "        [array, sr] = librosa.load(f, sr=sr)\n",
    "        raw = np.hstack((raw, array))\n",
    "    print(raw.shape)\n",
    "    return raw"
   ]
  },
  {
   "cell_type": "code",
   "execution_count": 6,
   "metadata": {},
   "outputs": [
    {
     "name": "stdout",
     "output_type": "stream",
     "text": [
      "(86495188,)\n",
      "(54636926,)\n",
      "(62515322,)\n"
     ]
    }
   ],
   "source": [
    "none_raw = load(none_files)\n",
    "uav_raw = load(uav_files)\n",
    "loaded_raw = load(loaded_files)\n"
   ]
  },
  {
   "cell_type": "code",
   "execution_count": 7,
   "metadata": {},
   "outputs": [],
   "source": [
    "sample_rate=SR\n"
   ]
  },
  {
   "cell_type": "markdown",
   "metadata": {},
   "source": [
    "# Feature extraction \n",
    "## steps\n",
    "#### 1. Resampling \n",
    "#### 2. *VAD*( Voice Activity Detection)\n",
    "#### 3. Maybe padding with 0 to make signals be equal length\n",
    "#### 4. Log spectrogram (or *MFCC*, or *PLP*)\n",
    "#### 5. Features normalization with *mean* and *std*\n",
    "#### 6. Stacking of a given number of frames to get temporal information\n",
    "\n"
   ]
  },
  {
   "cell_type": "markdown",
   "metadata": {},
   "source": [
    "## 1. Resampling\n",
    "\n",
    "if you see the graph, there are few at high frequency. this is mean that data is big but it's no useless. so To small the data, do Resampling. In general, use 0~8000Hz "
   ]
  },
  {
   "cell_type": "code",
   "execution_count": 8,
   "metadata": {},
   "outputs": [],
   "source": [
    "def log_specgram(audio, sample_rate, window_size=20,\n",
    "                 step_size=10, eps=1e-10):\n",
    "    nperseg = int(round(window_size * sample_rate / 1e3))\n",
    "    noverlap = int(round(step_size * sample_rate / 1e3))\n",
    "    freqs, times, spec = signal.spectrogram(audio,\n",
    "                                    fs=sample_rate,\n",
    "                                    window='hann',\n",
    "                                    nperseg=nperseg,\n",
    "                                    noverlap=noverlap,\n",
    "                                    detrend=False)\n",
    "    return freqs, times, np.log(spec.T.astype(np.float32) + eps)"
   ]
  },
  {
   "cell_type": "code",
   "execution_count": 9,
   "metadata": {},
   "outputs": [],
   "source": [
    "def showFreqTime(combine):\n",
    "    for sample, filename, _ in combine:\n",
    "        freqs, times, spectrogram = log_specgram(sample, SR)\n",
    "        fig = plt.figure(figsize=(14, 10))\n",
    "        ax1 = fig.add_subplot(211)\n",
    "        ax1.set_title('Raw wave of ' + filename)\n",
    "        ax1.set_ylabel('Amplitude')\n",
    "        ax1.plot(np.linspace(0, len(sample)/SR, len(sample)), sample)\n",
    "\n",
    "        ax2 = fig.add_subplot(212)\n",
    "        ax2.imshow(spectrogram.T, aspect='auto', origin='lower', \n",
    "               extent=[times.min(), times.max(), freqs.min(), freqs.max()])\n",
    "        ax2.set_yticks(freqs[::16])\n",
    "        ax2.set_xticks(times[::16])\n",
    "        ax2.set_title('Spectrogram of ' + filename)\n",
    "        ax2.set_ylabel('Freqs in Hz')\n",
    "        ax2.set_xlabel('Seconds')"
   ]
  },
  {
   "cell_type": "code",
   "execution_count": 10,
   "metadata": {},
   "outputs": [],
   "source": [
    "\n",
    "#n_path = '../data/Test44100_20sec/Background/*.*'\n",
    "#n_files = [glob.glob(n_path)[0]]\n",
    "#n_raw = load(n_files)\n",
    "#combine = [[n_raw,n_path,sample_rate]]\n",
    "#showFreqTime(combine)"
   ]
  },
  {
   "cell_type": "code",
   "execution_count": 11,
   "metadata": {
    "scrolled": false
   },
   "outputs": [],
   "source": [
    "#base =500000\n",
    "#combine = [[none_raw[:],none_path,sample_rate],[uav_raw[:],uav_path,sample_rate],[loaded_raw[:],none_path,sample_rate]]\n",
    "#showFreqTime(combine)"
   ]
  },
  {
   "cell_type": "markdown",
   "metadata": {},
   "source": [
    "### Data diffrence\n",
    "\n",
    "qualiy is diffrence but, the data is almost same."
   ]
  },
  {
   "cell_type": "markdown",
   "metadata": {},
   "source": [
    "## 2. VAD\n",
    "\n",
    "Sometimes, Files have silence. It is not necessary. So, We need to find sound of Drone except silence.\n",
    "\n",
    "But, Not yet implemented"
   ]
  },
  {
   "cell_type": "markdown",
   "metadata": {},
   "source": [
    "## 3. padding with 0 to make signals be equal length\n",
    "\n",
    "If we have a lot of sound files, we need to pad some datas. But These files's time is longger than 1 second. So It dosn't need to pad"
   ]
  },
  {
   "cell_type": "markdown",
   "metadata": {},
   "source": [
    "## 4. Log spectrogram (or MFCC, or PLP)\n",
    "\n",
    "The upper picture is resampled data. \n",
    "The lower picture is original data.\n",
    "\n",
    "In MFCC Feature, There is no big difference. "
   ]
  },
  {
   "cell_type": "code",
   "execution_count": 12,
   "metadata": {},
   "outputs": [],
   "source": [
    "#__, _, none_spec = log_specgram(none_raw, sample_rate)\n",
    "#__, _, uav_spec = log_specgram(uav_raw, sample_rate)\n",
    "#__, _, load_spec = log_specgram(loaded_raw, sample_rate)\n",
    "\n",
    "\n",
    "\n",
    "none_spec = librosa.feature.melspectrogram(y=none_raw, sr=SR,n_fft=window_size, hop_length=hop_size, power=2.0, n_mels=40)\n",
    "\n",
    "uav_spec = librosa.feature.melspectrogram(y=uav_raw, sr=SR,n_fft=window_size, hop_length=hop_size, power=2.0, n_mels=40)\n",
    "\n",
    "load_spec = librosa.feature.melspectrogram(y=loaded_raw, sr=SR,n_fft=window_size, hop_length=hop_size, power=2.0, n_mels=40)\n"
   ]
  },
  {
   "cell_type": "code",
   "execution_count": 13,
   "metadata": {},
   "outputs": [
    {
     "name": "stdout",
     "output_type": "stream",
     "text": [
      "[[2.11006605e-02 1.61835442e-02 3.03901490e-02 ... 1.20252896e-03\n",
      "  6.10812950e-03 7.27907501e-03]\n",
      " [2.00451710e-02 1.64841656e-03 1.32050756e-02 ... 2.05985918e-04\n",
      "  1.92671290e-04 1.80553821e-04]\n",
      " [3.15206195e-03 9.46259218e-04 4.58904355e-04 ... 3.56457019e-05\n",
      "  7.91620351e-05 4.40740739e-05]\n",
      " ...\n",
      " [4.42708682e-07 6.41881814e-07 6.40017341e-07 ... 3.93027883e-07\n",
      "  4.45212443e-07 5.90004649e-07]\n",
      " [4.65871136e-07 5.06076491e-07 4.45226961e-07 ... 4.36538617e-07\n",
      "  3.34484985e-07 4.41376191e-07]\n",
      " [3.34930289e-07 4.93845921e-07 4.74430388e-07 ... 4.01971818e-07\n",
      "  2.81076206e-07 3.48555609e-07]] 9.515359367670075e-08 5.8225694873904486\n"
     ]
    },
    {
     "data": {
      "text/plain": [
       "(40, 122101)"
      ]
     },
     "execution_count": 13,
     "metadata": {},
     "output_type": "execute_result"
    }
   ],
   "source": [
    "print( load_spec, load_spec.min(), load_spec.max())\n",
    "load_spec.shape"
   ]
  },
  {
   "cell_type": "code",
   "execution_count": 14,
   "metadata": {},
   "outputs": [
    {
     "name": "stdout",
     "output_type": "stream",
     "text": [
      "40 40 40\n",
      "(168936,) 0\n",
      "(106713,) 1\n",
      "(122101,) 2\n"
     ]
    }
   ],
   "source": [
    "y_none =np.zeros(none_spec.shape[1], dtype=int)\n",
    "y_uav = np.ones(uav_spec.shape[1], dtype=int)\n",
    "y_loaded = np.ones(load_spec.shape[1], dtype=int)*2\n",
    "\n",
    "print(len(none_spec),len(uav_spec),len(load_spec))\n",
    "print(y_none.shape, y_none[0])\n",
    "print(y_uav.shape, y_uav[0])\n",
    "print(y_loaded.shape, y_loaded[0])"
   ]
  },
  {
   "cell_type": "markdown",
   "metadata": {},
   "source": [
    "## 5. Features normalization with *mean* and *std*"
   ]
  },
  {
   "cell_type": "markdown",
   "metadata": {},
   "source": [
    "## 6. Stacking of a given number of frames to get temporal information"
   ]
  },
  {
   "cell_type": "code",
   "execution_count": 15,
   "metadata": {},
   "outputs": [
    {
     "name": "stdout",
     "output_type": "stream",
     "text": [
      "(397750, 40) (397750,)\n"
     ]
    }
   ],
   "source": [
    "X_mfcc = np.hstack((none_spec, uav_spec))\n",
    "X_mfcc = np.hstack((X_mfcc, load_spec))\n",
    "X_mfcc = X_mfcc.T\n",
    "\n",
    "y = np.hstack((y_none, y_uav))\n",
    "y = np.hstack((y, y_loaded))\n",
    "\n",
    "#X = np.concatenate((mfcc_loaded, mfcc_uav, mfcc_none), axis=0)\n",
    "#y = np.hstack((y_loaded, y_uav, y_none))\n",
    "print(X_mfcc.shape, y.shape)\n"
   ]
  },
  {
   "cell_type": "code",
   "execution_count": 16,
   "metadata": {},
   "outputs": [
    {
     "name": "stdout",
     "output_type": "stream",
     "text": [
      "(397750, 3)\n"
     ]
    }
   ],
   "source": [
    "\n",
    "n_labels = y.shape[0]\n",
    "y_encoded = np.zeros((n_labels, n_unique_labels))\n",
    "y_encoded[np.arange(n_labels), y] = 1\n",
    "print(y_encoded.shape)\n",
    "#print(y_encoded[0], y_encoded[40000],y_encoded[100000])"
   ]
  },
  {
   "cell_type": "code",
   "execution_count": 17,
   "metadata": {},
   "outputs": [
    {
     "name": "stdout",
     "output_type": "stream",
     "text": [
      "(397750, 40) (397750, 3)\n"
     ]
    }
   ],
   "source": [
    "dataX = X_mfcc\n",
    "dataY = y_encoded\n",
    "#print(y_encoded)\n",
    "print(dataX.shape, dataY.shape)"
   ]
  },
  {
   "cell_type": "code",
   "execution_count": 18,
   "metadata": {},
   "outputs": [],
   "source": [
    "def makeHot(dataX, dataY, sequence_length):\n",
    "    X_hot_list= []\n",
    "    Y_hot_tmp = dataY[sequence_length-1:]\n",
    "\n",
    "    for i in range(0, dataX.shape[0] - sequence_length+1):\n",
    "        _x = dataX[i:i + sequence_length]\n",
    "        #if i<10:\n",
    "            #print(_x, \"->\", Y_hot_tmp[i])\n",
    "        X_hot_list.append(_x)\n",
    "\n",
    "    X_hot = np.array(X_hot_list[:])\n",
    "    Y_hot= Y_hot_tmp.reshape((len(Y_hot_tmp),n_unique_labels))\n",
    "    return X_hot[:], Y_hot[:]"
   ]
  },
  {
   "cell_type": "code",
   "execution_count": 19,
   "metadata": {},
   "outputs": [
    {
     "name": "stdout",
     "output_type": "stream",
     "text": [
      "(397701, 50, 40) (397701, 3)\n"
     ]
    }
   ],
   "source": [
    "X_hot, Y_hot = makeHot( dataX, dataY, sequence_length)\n",
    "print(X_hot.shape, Y_hot.shape)\n"
   ]
  },
  {
   "cell_type": "code",
   "execution_count": 21,
   "metadata": {},
   "outputs": [],
   "source": [
    "from sklearn import model_selection\n",
    "X_train, X_test, y_train, y_test = model_selection.train_test_split(X_hot, Y_hot, test_size=0.2, random_state=42)\n",
    "X_train, X_val, y_train, y_val = model_selection.train_test_split(X_train, y_train, test_size=0.2, random_state=42)"
   ]
  },
  {
   "cell_type": "code",
   "execution_count": 8,
   "metadata": {},
   "outputs": [
    {
     "name": "stdout",
     "output_type": "stream",
     "text": [
      "[1, 2, 3] [11, 12, 13]\n",
      "[4, 5, 6] [14, 15, 16]\n"
     ]
    }
   ],
   "source": [
    "base = '../data/Xy/Spec'\n",
    "class Data:\n",
    "    def __init__(self,X,Y,BatchSize):\n",
    "        self.X = X\n",
    "        self.Y = Y\n",
    "        self.len = len(Y)\n",
    "        self.bs = BatchSize\n",
    "        \n",
    "        self.bs_i = 0\n",
    "    def getBatchData(self):\n",
    "        s = self.bs_i\n",
    "        e = self.bs_i + self.bs\n",
    "        if e> self.len:\n",
    "            e -= self.len\n",
    "            result =  np.vstack((self.X[s:],self.X[:e])), np.vstack((self.Y[s:],self.Y[:e]))\n",
    "        else:\n",
    "            result =  self.X[s:e], self.Y[s:e]\n",
    "            \n",
    "        self.bs_i = e\n",
    "        return result\n",
    "dataX = [1,2,3,4,5,6,7,8]\n",
    "dataY = [11,12,13,14,15,16,17,18]\n",
    "D = Data(dataX, dataY,3)\n",
    "x, y = D.getBatchData()\n",
    "print(x,y)\n",
    "x, y = D.getBatchData()\n",
    "print(x,y)\n",
    "\n",
    "#np.save('../data/Xy/Spec/y_val2', y_val)"
   ]
  },
  {
   "cell_type": "code",
   "execution_count": 30,
   "metadata": {},
   "outputs": [],
   "source": [
    "\n",
    "np.save(base+'/X_train2', X_train)\n",
    "np.save(base+'/X_test2', X_test)\n",
    "np.save(base+'/X_val2', X_val)\n",
    "np.save(base+'/y_train2', y_train)\n",
    "np.save(base+'/y_test2', y_test)\n",
    "np.save(base+'/y_val2', y_val)"
   ]
  },
  {
   "cell_type": "code",
   "execution_count": 6,
   "metadata": {},
   "outputs": [],
   "source": [
    "\n",
    "\n",
    "X_train = np.load(base+'/X_train2.npy')\n",
    "X_test = np.load(base+'/X_test2.npy')\n",
    "X_val = np.load(base+'/X_val2.npy')\n",
    "y_train = np.load(base+'/y_train2.npy')\n",
    "y_test = np.load(base+'/y_test2.npy')\n",
    "y_val = np.load(base+'/y_val2.npy')"
   ]
  },
  {
   "cell_type": "code",
   "execution_count": 9,
   "metadata": {},
   "outputs": [],
   "source": [
    "batch_size = 2048\n",
    "traindata = Data(X_train,y_train,batch_size)\n",
    "testdata = Data(X_test,y_test,batch_size)\n",
    "valdata = Data(X_val,y_val,batch_size)"
   ]
  },
  {
   "cell_type": "code",
   "execution_count": 10,
   "metadata": {},
   "outputs": [
    {
     "name": "stdout",
     "output_type": "stream",
     "text": [
      "(254528, 50, 40) (79541, 50, 40) (63632, 50, 40)\n",
      "(254528, 3) (79541, 3) (63632, 3)\n"
     ]
    }
   ],
   "source": [
    "print(X_train.shape, X_test.shape,X_val.shape)\n",
    "print(y_train.shape, y_test.shape,y_val.shape)"
   ]
  },
  {
   "cell_type": "markdown",
   "metadata": {},
   "source": [
    "# Tensorflow RNN"
   ]
  },
  {
   "cell_type": "markdown",
   "metadata": {},
   "source": [
    "## Train "
   ]
  },
  {
   "cell_type": "code",
   "execution_count": 11,
   "metadata": {},
   "outputs": [
    {
     "name": "stdout",
     "output_type": "stream",
     "text": [
      "2048 40\n",
      "0.001 50\n",
      "3 3\n"
     ]
    }
   ],
   "source": [
    "batch_size = batch_size\n",
    "num_classes = n_mels           #분류할 사전의 크기 \n",
    "\n",
    "learning_rate = 0.001\n",
    "sequence_length = sequence_length #9\n",
    "\n",
    "output_dim = n_unique_labels\n",
    "layers = 3\n",
    " \n",
    "model_path = '../models/RNN/my_RNN_model_test_spec'\n",
    "\n",
    "print(batch_size, num_classes)\n",
    "print(learning_rate, sequence_length)\n",
    "print(output_dim, layers)"
   ]
  },
  {
   "cell_type": "code",
   "execution_count": 12,
   "metadata": {},
   "outputs": [],
   "source": [
    "X = tf.placeholder(tf.float32, [None, sequence_length,num_classes], name=\"X\")\n",
    "Y = tf.placeholder(tf.float32, [None, output_dim], name=\"Y\")\n",
    "\n",
    "keep_prob = tf.placeholder(tf.float32)\n",
    "\n",
    "cell = tf.contrib.rnn.BasicLSTMCell(num_units=num_classes, state_is_tuple=True)\n",
    "#cell = tf.contrib.rnn.DropoutWrapper(cell, output_keep_prob=keep_prob)\n",
    "cell = tf.contrib.rnn.MultiRNNCell([cell]*2, state_is_tuple= True)\n",
    "\n",
    "BatchSize = tf.placeholder(tf.int32, [], name='BatchSize')\n",
    "initial_state = cell.zero_state(BatchSize, tf.float32)\n",
    "outputs, _states = tf.nn.dynamic_rnn(cell, X,initial_state=initial_state,dtype=tf.float32)\n",
    "\n",
    "dense1 = tf.layers.dense(inputs=outputs[:,-1], units=sequence_length*output_dim, activation=tf.nn.relu)\n",
    "\n",
    "dense2 = tf.layers.dense(inputs=dense1, units=sequence_length*output_dim, activation=tf.nn.relu)\n",
    "dropout2 = tf.nn.dropout(dense1, keep_prob=keep_prob)\n",
    "\n",
    "dense3 = tf.layers.dense(inputs=dense2, units=output_dim, activation=tf.nn.relu)\n",
    "\n",
    "Y_pred= tf.layers.dense(inputs=dense3, units=output_dim)\n",
    "cost = tf.reduce_mean(tf.nn.softmax_cross_entropy_with_logits_v2(logits=Y_pred, labels=Y))\n",
    "lr = tf.placeholder(tf.float32,shape=(), name='learning_rate')\n",
    "train = tf.train.AdamOptimizer(lr).minimize(cost)\n"
   ]
  },
  {
   "cell_type": "code",
   "execution_count": 13,
   "metadata": {},
   "outputs": [
    {
     "data": {
      "text/plain": [
       "array([[6.12215189e-03, 3.31032027e-02, 2.85044409e-02, ...,\n",
       "        5.99796072e-07, 3.29981956e-07, 3.98012499e-07],\n",
       "       [2.05139357e-02, 4.02045705e-02, 1.72614741e-02, ...,\n",
       "        5.05759738e-07, 4.84961720e-07, 3.82044306e-07],\n",
       "       [1.06363211e-02, 1.39114275e-02, 7.75138549e-03, ...,\n",
       "        3.90992772e-07, 3.85307925e-07, 4.45898119e-07],\n",
       "       ...,\n",
       "       [4.23804717e-02, 1.24427865e-02, 3.91737217e-03, ...,\n",
       "        4.79267537e-07, 5.49407258e-07, 4.10613591e-07],\n",
       "       [1.01528196e-02, 1.47945278e-02, 7.25676772e-03, ...,\n",
       "        4.43085639e-07, 3.64535158e-07, 3.66937756e-07],\n",
       "       [2.91146717e-02, 1.66137838e-02, 7.72954848e-03, ...,\n",
       "        4.63182143e-07, 4.23779524e-07, 4.40112267e-07]])"
      ]
     },
     "execution_count": 13,
     "metadata": {},
     "output_type": "execute_result"
    }
   ],
   "source": [
    "traindata.X[0]"
   ]
  },
  {
   "cell_type": "code",
   "execution_count": 14,
   "metadata": {},
   "outputs": [
    {
     "name": "stdout",
     "output_type": "stream",
     "text": [
      "[[0. 1. 0.]\n",
      " [0. 1. 0.]\n",
      " [1. 0. 0.]\n",
      " [1. 0. 0.]\n",
      " [0. 0. 1.]\n",
      " [0. 1. 0.]\n",
      " [0. 0. 1.]\n",
      " [0. 1. 0.]\n",
      " [0. 1. 0.]\n",
      " [1. 0. 0.]]\n"
     ]
    }
   ],
   "source": [
    "print(traindata.Y[:10])"
   ]
  },
  {
   "cell_type": "code",
   "execution_count": 15,
   "metadata": {},
   "outputs": [
    {
     "name": "stdout",
     "output_type": "stream",
     "text": [
      "[[0. 1. 0.]\n",
      " [0. 1. 0.]\n",
      " [1. 0. 0.]\n",
      " ...\n",
      " [1. 0. 0.]\n",
      " [1. 0. 0.]\n",
      " [1. 0. 0.]]\n"
     ]
    }
   ],
   "source": [
    "x, y = traindata.getBatchData()\n",
    "print(y)"
   ]
  },
  {
   "cell_type": "code",
   "execution_count": 25,
   "metadata": {
    "scrolled": true
   },
   "outputs": [
    {
     "name": "stdout",
     "output_type": "stream",
     "text": [
      "[step: 0] loss: 0.11546243727207184 \tvalidation: 95.501%\n",
      "[step: 1] loss: 0.17313385009765625 \tvalidation: 94.033%\n",
      "\n",
      "[step: 2] loss: 0.13412076234817505 \tvalidation: 94.297%\n",
      "[step: 3] loss: 0.26001667976379395 \tvalidation: 90.225%\n",
      "[step: 4] loss: 0.130808025598526 \tvalidation: 94.025%\n",
      "[step: 5] loss: 0.13562048971652985 \tvalidation: 94.984%\n",
      "[step: 6] loss: 0.135220468044281 \tvalidation: 95.037%\n",
      "[step: 7] loss: 0.1104668378829956 \tvalidation: 95.677%\n",
      "[step: 8] loss: 0.145808607339859 \tvalidation: 95.194%\n",
      "[step: 9] loss: 0.14906983077526093 \tvalidation: 94.690%\n",
      "[step: 10] loss: 0.15303339064121246 \tvalidation: 95.120%\n",
      "[step: 11] loss: 0.12856125831604004 \tvalidation: 93.524%\n",
      "\n",
      "[step: 12] loss: 0.13805623352527618 \tvalidation: 94.603%\n",
      "[step: 13] loss: 0.10783866047859192 \tvalidation: 95.656%\n",
      "[step: 14] loss: 0.1269698143005371 \tvalidation: 95.012%\n",
      "[step: 15] loss: 0.20154380798339844 \tvalidation: 91.897%\n",
      "[step: 16] loss: 0.12119375914335251 \tvalidation: 95.647%\n",
      "[step: 17] loss: 0.1433456391096115 \tvalidation: 94.905%\n",
      "[step: 18] loss: 0.1489485502243042 \tvalidation: 94.765%\n",
      "[step: 19] loss: 0.1253989189863205 \tvalidation: 95.135%\n",
      "[step: 20] loss: 0.09620384871959686 \tvalidation: 95.809%\n",
      "[step: 21] loss: 0.12786531448364258 \tvalidation: 94.768%\n",
      "\n",
      "[step: 22] loss: 0.1748354136943817 \tvalidation: 92.864%\n",
      "[step: 23] loss: 0.09943800419569016 \tvalidation: 95.450%\n",
      "[step: 24] loss: 0.10588929802179337 \tvalidation: 95.813%\n",
      "[step: 25] loss: 0.3018738031387329 \tvalidation: 89.730%\n",
      "[step: 26] loss: 0.3493798077106476 \tvalidation: 88.371%\n",
      "[step: 27] loss: 0.13243764638900757 \tvalidation: 93.946%\n",
      "[step: 28] loss: 0.12532706558704376 \tvalidation: 95.878%\n",
      "[step: 29] loss: 0.12218908965587616 \tvalidation: 94.415%\n",
      "[step: 30] loss: 0.13834016025066376 \tvalidation: 94.093%\n",
      "[step: 31] loss: 0.11423047631978989 \tvalidation: 95.729%\n",
      "\n",
      "[step: 32] loss: 0.11547918617725372 \tvalidation: 95.571%\n",
      "[step: 33] loss: 0.15893565118312836 \tvalidation: 95.527%\n",
      "[step: 34] loss: 0.1300239861011505 \tvalidation: 93.621%\n",
      "[step: 35] loss: 0.1215679794549942 \tvalidation: 96.082%\n",
      "[step: 36] loss: 0.17369145154953003 \tvalidation: 93.547%\n",
      "[step: 37] loss: 0.1441517174243927 \tvalidation: 94.152%\n",
      "[step: 38] loss: 0.16519683599472046 \tvalidation: 94.944%\n",
      "[step: 39] loss: 0.12891294062137604 \tvalidation: 95.584%\n",
      "[step: 40] loss: 0.12088419497013092 \tvalidation: 94.902%\n",
      "[step: 41] loss: 0.18105065822601318 \tvalidation: 92.806%\n",
      "\n",
      "[step: 42] loss: 0.12594670057296753 \tvalidation: 94.756%\n",
      "[step: 43] loss: 0.15666544437408447 \tvalidation: 94.718%\n",
      "[step: 44] loss: 0.13929176330566406 \tvalidation: 94.616%\n",
      "[step: 45] loss: 0.11714446544647217 \tvalidation: 94.819%\n",
      "[step: 46] loss: 0.16845369338989258 \tvalidation: 94.394%\n",
      "[step: 47] loss: 0.09421084821224213 \tvalidation: 95.853%\n",
      "[step: 48] loss: 0.1592777967453003 \tvalidation: 93.734%\n",
      "[step: 49] loss: 0.1593751311302185 \tvalidation: 94.242%\n",
      "[step: 50] loss: 0.13738545775413513 \tvalidation: 94.484%\n",
      "[step: 51] loss: 0.15020287036895752 \tvalidation: 95.072%\n",
      "\n",
      "[step: 52] loss: 0.11426497250795364 \tvalidation: 95.529%\n",
      "[step: 53] loss: 0.12223169952630997 \tvalidation: 94.066%\n",
      "[step: 54] loss: 0.1127241998910904 \tvalidation: 95.688%\n",
      "[step: 55] loss: 0.09507972002029419 \tvalidation: 95.370%\n",
      "[step: 56] loss: 0.23479393124580383 \tvalidation: 91.522%\n",
      "[step: 57] loss: 0.147358700633049 \tvalidation: 93.813%\n",
      "[step: 58] loss: 0.11495068669319153 \tvalidation: 93.953%\n",
      "[step: 59] loss: 0.13116474449634552 \tvalidation: 95.146%\n",
      "[step: 60] loss: 0.17269670963287354 \tvalidation: 95.089%\n",
      "[step: 61] loss: 0.11979424953460693 \tvalidation: 95.878%\n",
      "\n",
      "[step: 62] loss: 0.11566735059022903 \tvalidation: 95.655%\n",
      "[step: 63] loss: 0.11494877934455872 \tvalidation: 92.905%\n",
      "[step: 64] loss: 0.10429786145687103 \tvalidation: 95.216%\n",
      "[step: 65] loss: 0.19313210248947144 \tvalidation: 94.072%\n",
      "[step: 66] loss: 0.10776229947805405 \tvalidation: 94.981%\n",
      "[step: 67] loss: 0.12105420976877213 \tvalidation: 95.320%\n",
      "[step: 68] loss: 0.13889063894748688 \tvalidation: 95.245%\n",
      "[step: 69] loss: 0.11892850697040558 \tvalidation: 92.938%\n",
      "[step: 70] loss: 0.13562388718128204 \tvalidation: 94.086%\n",
      "[step: 71] loss: 0.12055002152919769 \tvalidation: 95.032%\n",
      "\n",
      "[step: 72] loss: 0.08784392476081848 \tvalidation: 96.046%\n",
      "[step: 73] loss: 0.10884695500135422 \tvalidation: 95.047%\n",
      "[step: 74] loss: 0.13103421032428741 \tvalidation: 95.447%\n",
      "[step: 75] loss: 0.09907690435647964 \tvalidation: 96.112%\n",
      "[step: 76] loss: 0.11308050155639648 \tvalidation: 96.088%\n",
      "[step: 77] loss: 0.14075833559036255 \tvalidation: 93.836%\n",
      "[step: 78] loss: 0.12508624792099 \tvalidation: 95.487%\n",
      "[step: 79] loss: 0.10722053050994873 \tvalidation: 95.719%\n",
      "[step: 80] loss: 0.17706714570522308 \tvalidation: 94.171%\n",
      "[step: 81] loss: 0.1297750174999237 \tvalidation: 95.879%\n",
      "\n",
      "[step: 82] loss: 0.10314102470874786 \tvalidation: 95.999%\n",
      "[step: 83] loss: 0.27130749821662903 \tvalidation: 88.089%\n",
      "[step: 84] loss: 0.18037603795528412 \tvalidation: 94.242%\n",
      "[step: 85] loss: 0.11772210896015167 \tvalidation: 95.425%\n",
      "[step: 86] loss: 0.1742890328168869 \tvalidation: 92.862%\n",
      "[step: 87] loss: 0.139351949095726 \tvalidation: 94.424%\n",
      "[step: 88] loss: 0.1382804960012436 \tvalidation: 95.103%\n",
      "[step: 89] loss: 0.10333273559808731 \tvalidation: 95.868%\n",
      "[step: 90] loss: 0.12864190340042114 \tvalidation: 96.263%\n",
      "[step: 91] loss: 0.15482378005981445 \tvalidation: 93.745%\n",
      "\n",
      "[step: 92] loss: 0.22386175394058228 \tvalidation: 91.390%\n",
      "[step: 93] loss: 0.1046394631266594 \tvalidation: 95.798%\n",
      "[step: 94] loss: 0.12310802936553955 \tvalidation: 96.403%\n",
      "[step: 95] loss: 0.09454280138015747 \tvalidation: 95.854%\n",
      "[step: 96] loss: 0.09278656542301178 \tvalidation: 95.996%\n",
      "[step: 97] loss: 0.12518426775932312 \tvalidation: 92.692%\n",
      "[step: 98] loss: 0.1586190164089203 \tvalidation: 94.987%\n",
      "[step: 99] loss: 0.12082255631685257 \tvalidation: 96.096%\n"
     ]
    }
   ],
   "source": [
    "from sklearn.metrics import accuracy_score\n",
    "init = tf.global_variables_initializer()\n",
    "step_loss = 999999.0\n",
    "saver = tf.train.Saver()\n",
    "training_epochs = 100\n",
    "# Training step\n",
    "\n",
    "#sess = tf.InteractiveSession()\n",
    "#sess.run(init)\n",
    "#cost_history = np.empty(shape=[1],dtype=float)\n",
    "\n",
    "#learning_rate_ = [i*0.001 for i in range(20,10,-1)]\n",
    "#for learning_rate in [0.02, 0.01]:\n",
    "#    feed = {lr:learning_rate, BatchSize: batch_size}\n",
    "N = int(len(valdata.Y) / batch_size) + 1\n",
    "for i in range(training_epochs):\n",
    "    feed = {lr:learning_rate, BatchSize: batch_size, keep_prob : 1.0}\n",
    "    for n in range(N):\n",
    "        x,y = traindata.getBatchData()\n",
    "        feed[X], feed[Y] = x, y\n",
    "        step_loss_prev = step_loss\n",
    "        _, step_loss = sess.run([train, cost], feed_dict=feed)\n",
    "    cost_history = np.append(cost_history,step_loss)\n",
    "        \n",
    "    y_pred = sess.run(tf.argmax(Y_pred,1),feed_dict={\n",
    "        X: valdata.X, BatchSize: len(valdata.Y), keep_prob:1.0})\n",
    "    y_true =  sess.run(tf.argmax(valdata.Y,1))\n",
    "    accuracy_val = accuracy_score(y_pred, y_true)\n",
    "    print(\"[step: {}] loss: {}\".format(i, step_loss), \"\\tvalidation: {:.3f}%\".format(accuracy_val * 100))\n",
    "    if i%10 == 1:\n",
    "        print('')\n",
    "        saver.save(sess, model_path)\n",
    "sess.close()\n",
    "    \n",
    "\n",
    "    "
   ]
  },
  {
   "cell_type": "code",
   "execution_count": 27,
   "metadata": {},
   "outputs": [],
   "source": [
    "np.save(base+'/cost_history', cost_history)"
   ]
  },
  {
   "cell_type": "code",
   "execution_count": 16,
   "metadata": {},
   "outputs": [],
   "source": [
    "cost_history = np.load(base+'/cost_history.npy')"
   ]
  },
  {
   "cell_type": "code",
   "execution_count": null,
   "metadata": {},
   "outputs": [
    {
     "name": "stdout",
     "output_type": "stream",
     "text": [
      "INFO:tensorflow:Restoring parameters from ../models/RNN/my_RNN_model_test_RNN\n"
     ]
    }
   ],
   "source": [
    "sess = tf.Session()\n",
    "saver = tf.train.Saver()\n",
    "saver.restore(sess, model_path)\n",
    "\n",
    "y_pred = sess.run(tf.argmax(Y_pred,1),feed_dict=\n",
    "                  {X: testdata.X, BatchSize: len(testdata.Y), keep_prob : 1.0})\n",
    "y_true = sess.run(tf.argmax(testdata.Y,1))\n",
    "print(y_pred.shape, y_true.shape)\n",
    "#sess.close()"
   ]
  },
  {
   "cell_type": "code",
   "execution_count": null,
   "metadata": {},
   "outputs": [],
   "source": [
    "from sklearn.metrics import precision_recall_fscore_support\n",
    "from sklearn.metrics import accuracy_score\n",
    "from sklearn.metrics import classification_report\n",
    "from sklearn.metrics import confusion_matrix\n",
    "\n",
    "fig = plt.figure(figsize=(10,8))\n",
    "plt.plot(cost_history)\n",
    "plt.ylabel(\"Cost\")\n",
    "plt.xlabel(\"Iterations\") \n",
    "plt.axis([0,len(cost_history),0,np.max(cost_history)])\n",
    "plt.show()\n",
    "\n",
    "\n",
    "p,r,f,s = precision_recall_fscore_support(y_true, y_pred, average='micro')\n",
    "print(\"F-Score:\", round(f,3))\n",
    "print(\"Accuracy: \", accuracy_score(y_true, y_pred))\n",
    "\n",
    "print(classification_report(y_true, y_pred))\n",
    "print(confusion_matrix(y_true, y_pred))"
   ]
  },
  {
   "cell_type": "code",
   "execution_count": null,
   "metadata": {},
   "outputs": [],
   "source": []
  },
  {
   "cell_type": "code",
   "execution_count": null,
   "metadata": {},
   "outputs": [],
   "source": []
  }
 ],
 "metadata": {
  "kernelspec": {
   "display_name": "Python 3",
   "language": "python",
   "name": "python3"
  },
  "language_info": {
   "codemirror_mode": {
    "name": "ipython",
    "version": 3
   },
   "file_extension": ".py",
   "mimetype": "text/x-python",
   "name": "python",
   "nbconvert_exporter": "python",
   "pygments_lexer": "ipython3",
   "version": "3.5.4"
  }
 },
 "nbformat": 4,
 "nbformat_minor": 2
}
