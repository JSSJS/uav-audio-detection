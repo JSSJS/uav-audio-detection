{
 "cells": [
  {
   "cell_type": "code",
   "execution_count": 10,
   "metadata": {},
   "outputs": [
    {
     "data": {
      "text/html": [
       "<script>requirejs.config({paths: { 'plotly': ['https://cdn.plot.ly/plotly-latest.min']},});if(!window.Plotly) {{require(['plotly'],function(plotly) {window.Plotly=plotly;});}}</script>"
      ],
      "text/vnd.plotly.v1+html": [
       "<script>requirejs.config({paths: { 'plotly': ['https://cdn.plot.ly/plotly-latest.min']},});if(!window.Plotly) {{require(['plotly'],function(plotly) {window.Plotly=plotly;});}}</script>"
      ]
     },
     "metadata": {},
     "output_type": "display_data"
    }
   ],
   "source": [
    "import os\n",
    "from os.path import isdir, join\n",
    "from pathlib import Path\n",
    "import pandas as pd\n",
    "\n",
    "import tensorflow as tf\n",
    "# Math\n",
    "import numpy as np\n",
    "from scipy.fftpack import fft\n",
    "from scipy import signal\n",
    "from scipy.io import wavfile\n",
    "import librosa\n",
    "\n",
    "from sklearn.decomposition import PCA\n",
    "\n",
    "# Visualization\n",
    "import matplotlib.pyplot as plt\n",
    "import seaborn as sns\n",
    "import IPython.display as ipd\n",
    "import librosa.display\n",
    "\n",
    "import plotly.offline as py\n",
    "py.init_notebook_mode(connected=True)\n",
    "import plotly.graph_objs as go\n",
    "import plotly.tools as tls\n",
    "import pandas as pd\n",
    "\n",
    "%matplotlib inline\n",
    "\n",
    "n_mels = 40\n",
    "n_frame = 500\n",
    "window_size=1024\n",
    "hop_size=512\n",
    "\n",
    "sequence_length = 50 #layer\n",
    "n_unique_labels = 3"
   ]
  },
  {
   "cell_type": "code",
   "execution_count": 2,
   "metadata": {},
   "outputs": [],
   "source": [
    "import glob\n",
    "uav_path = '../data/0808_field-0807_train/Unloaded/*.*'\n",
    "loaded_path = '../data/0808_field-0807_train/Loaded/*.*'\n",
    "none_path = '../data/0808_field-0807_train/Background/*.*'\n",
    "\n",
    "uav_files = glob.glob(uav_path)#[0]]\n",
    "loaded_files = glob.glob(loaded_path)#[0]]\n",
    "none_files = glob.glob(none_path)#[0]]"
   ]
  },
  {
   "cell_type": "code",
   "execution_count": 3,
   "metadata": {
    "scrolled": true
   },
   "outputs": [
    {
     "name": "stdout",
     "output_type": "stream",
     "text": [
      "13 개\t ../data/0808_field-0807_train/Unloaded\\rpi1_1533670549.wav\n",
      "13 개\t ../data/0808_field-0807_train/Loaded\\rpi2_1533669810.wav\n",
      "4 개\t ../data/0808_field-0807_train/Background\\rpi2_1533670583.wav\n"
     ]
    }
   ],
   "source": [
    "print(len(uav_files),'개\\t', uav_files[0])\n",
    "print(len(uav_files),'개\\t', loaded_files[0])\n",
    "print(len(none_files), '개\\t',none_files[0])"
   ]
  },
  {
   "cell_type": "code",
   "execution_count": 4,
   "metadata": {},
   "outputs": [],
   "source": [
    "SR = 44100"
   ]
  },
  {
   "cell_type": "markdown",
   "metadata": {},
   "source": [
    "# Load Data\n",
    "\n",
    "The reason of why SR is 44100 is that the sample rate of above files is 44.1kbps\n",
    "\n",
    "a wav file sample has 884736. if sample is divided by sample rate, the value is time\n",
    "the time is fixed by 20.06"
   ]
  },
  {
   "cell_type": "code",
   "execution_count": 5,
   "metadata": {},
   "outputs": [],
   "source": [
    "def load(files, sr=SR):\n",
    "    [raw, sr] = librosa.load(files[0], sr=sr)\n",
    "    for f in files[1:]:\n",
    "        [array, sr] = librosa.load(f, sr=sr)\n",
    "        raw = np.hstack((raw, array))\n",
    "    print(raw.shape)\n",
    "    return raw"
   ]
  },
  {
   "cell_type": "code",
   "execution_count": 6,
   "metadata": {},
   "outputs": [
    {
     "name": "stdout",
     "output_type": "stream",
     "text": [
      "(86495188,)\n",
      "(54636926,)\n",
      "(62515322,)\n"
     ]
    }
   ],
   "source": [
    "none_raw = load(none_files)\n",
    "uav_raw = load(uav_files)\n",
    "loaded_raw = load(loaded_files)\n"
   ]
  },
  {
   "cell_type": "code",
   "execution_count": 7,
   "metadata": {},
   "outputs": [],
   "source": [
    "sample_rate=SR\n"
   ]
  },
  {
   "cell_type": "markdown",
   "metadata": {},
   "source": [
    "# Feature extraction \n",
    "## steps\n",
    "#### 1. Resampling \n",
    "#### 2. *VAD*( Voice Activity Detection)\n",
    "#### 3. Maybe padding with 0 to make signals be equal length\n",
    "#### 4. Log spectrogram (or *MFCC*, or *PLP*)\n",
    "#### 5. Features normalization with *mean* and *std*\n",
    "#### 6. Stacking of a given number of frames to get temporal information\n",
    "\n"
   ]
  },
  {
   "cell_type": "markdown",
   "metadata": {},
   "source": [
    "## 1. Resampling\n",
    "\n",
    "if you see the graph, there are few at high frequency. this is mean that data is big but it's no useless. so To small the data, do Resampling. In general, use 0~8000Hz "
   ]
  },
  {
   "cell_type": "code",
   "execution_count": 8,
   "metadata": {},
   "outputs": [],
   "source": [
    "def log_specgram(audio, sample_rate, window_size=20,\n",
    "                 step_size=10, eps=1e-10):\n",
    "    nperseg = int(round(window_size * sample_rate / 1e3))\n",
    "    noverlap = int(round(step_size * sample_rate / 1e3))\n",
    "    freqs, times, spec = signal.spectrogram(audio,\n",
    "                                    fs=sample_rate,\n",
    "                                    window='hann',\n",
    "                                    nperseg=nperseg,\n",
    "                                    noverlap=noverlap,\n",
    "                                    detrend=False)\n",
    "    return freqs, times, np.log(spec.T.astype(np.float32) + eps)"
   ]
  },
  {
   "cell_type": "code",
   "execution_count": 9,
   "metadata": {},
   "outputs": [],
   "source": [
    "def showFreqTime(combine):\n",
    "    for sample, filename, _ in combine:\n",
    "        freqs, times, spectrogram = log_specgram(sample, SR)\n",
    "        fig = plt.figure(figsize=(14, 10))\n",
    "        ax1 = fig.add_subplot(211)\n",
    "        ax1.set_title('Raw wave of ' + filename)\n",
    "        ax1.set_ylabel('Amplitude')\n",
    "        ax1.plot(np.linspace(0, len(sample)/SR, len(sample)), sample)\n",
    "\n",
    "        ax2 = fig.add_subplot(212)\n",
    "        ax2.imshow(spectrogram.T, aspect='auto', origin='lower', \n",
    "               extent=[times.min(), times.max(), freqs.min(), freqs.max()])\n",
    "        ax2.set_yticks(freqs[::16])\n",
    "        ax2.set_xticks(times[::16])\n",
    "        ax2.set_title('Spectrogram of ' + filename)\n",
    "        ax2.set_ylabel('Freqs in Hz')\n",
    "        ax2.set_xlabel('Seconds')"
   ]
  },
  {
   "cell_type": "code",
   "execution_count": 10,
   "metadata": {},
   "outputs": [],
   "source": [
    "\n",
    "#n_path = '../data/Test44100_20sec/Background/*.*'\n",
    "#n_files = [glob.glob(n_path)[0]]\n",
    "#n_raw = load(n_files)\n",
    "#combine = [[n_raw,n_path,sample_rate]]\n",
    "#showFreqTime(combine)"
   ]
  },
  {
   "cell_type": "code",
   "execution_count": 11,
   "metadata": {
    "scrolled": false
   },
   "outputs": [],
   "source": [
    "#base =500000\n",
    "#combine = [[none_raw[:],none_path,sample_rate],[uav_raw[:],uav_path,sample_rate],[loaded_raw[:],none_path,sample_rate]]\n",
    "#showFreqTime(combine)"
   ]
  },
  {
   "cell_type": "markdown",
   "metadata": {},
   "source": [
    "### Data diffrence\n",
    "\n",
    "qualiy is diffrence but, the data is almost same."
   ]
  },
  {
   "cell_type": "markdown",
   "metadata": {},
   "source": [
    "## 2. VAD\n",
    "\n",
    "Sometimes, Files have silence. It is not necessary. So, We need to find sound of Drone except silence.\n",
    "\n",
    "But, Not yet implemented"
   ]
  },
  {
   "cell_type": "markdown",
   "metadata": {},
   "source": [
    "## 3. padding with 0 to make signals be equal length\n",
    "\n",
    "If we have a lot of sound files, we need to pad some datas. But These files's time is longger than 1 second. So It dosn't need to pad"
   ]
  },
  {
   "cell_type": "markdown",
   "metadata": {},
   "source": [
    "## 4. Log spectrogram (or MFCC, or PLP)\n",
    "\n",
    "The upper picture is resampled data. \n",
    "The lower picture is original data.\n",
    "\n",
    "In MFCC Feature, There is no big difference. "
   ]
  },
  {
   "cell_type": "code",
   "execution_count": 12,
   "metadata": {},
   "outputs": [],
   "source": [
    "#__, _, none_spec = log_specgram(none_raw, sample_rate)\n",
    "#__, _, uav_spec = log_specgram(uav_raw, sample_rate)\n",
    "#__, _, load_spec = log_specgram(loaded_raw, sample_rate)\n",
    "\n",
    "\n",
    "\n",
    "none_spec = librosa.feature.melspectrogram(y=none_raw, sr=SR,n_fft=window_size, hop_length=hop_size, power=2.0, n_mels=40)\n",
    "\n",
    "uav_spec = librosa.feature.melspectrogram(y=uav_raw, sr=SR,n_fft=window_size, hop_length=hop_size, power=2.0, n_mels=40)\n",
    "\n",
    "load_spec = librosa.feature.melspectrogram(y=loaded_raw, sr=SR,n_fft=window_size, hop_length=hop_size, power=2.0, n_mels=40)\n"
   ]
  },
  {
   "cell_type": "code",
   "execution_count": 13,
   "metadata": {},
   "outputs": [
    {
     "name": "stdout",
     "output_type": "stream",
     "text": [
      "[[2.11006605e-02 1.61835442e-02 3.03901490e-02 ... 1.20252896e-03\n",
      "  6.10812950e-03 7.27907501e-03]\n",
      " [2.00451710e-02 1.64841656e-03 1.32050756e-02 ... 2.05985918e-04\n",
      "  1.92671290e-04 1.80553821e-04]\n",
      " [3.15206195e-03 9.46259218e-04 4.58904355e-04 ... 3.56457019e-05\n",
      "  7.91620351e-05 4.40740739e-05]\n",
      " ...\n",
      " [4.42708682e-07 6.41881814e-07 6.40017341e-07 ... 3.93027883e-07\n",
      "  4.45212443e-07 5.90004649e-07]\n",
      " [4.65871136e-07 5.06076491e-07 4.45226961e-07 ... 4.36538617e-07\n",
      "  3.34484985e-07 4.41376191e-07]\n",
      " [3.34930289e-07 4.93845921e-07 4.74430388e-07 ... 4.01971818e-07\n",
      "  2.81076206e-07 3.48555609e-07]] 9.515359367670075e-08 5.8225694873904486\n"
     ]
    },
    {
     "data": {
      "text/plain": [
       "(40, 122101)"
      ]
     },
     "execution_count": 13,
     "metadata": {},
     "output_type": "execute_result"
    }
   ],
   "source": [
    "print( load_spec, load_spec.min(), load_spec.max())\n",
    "load_spec.shape"
   ]
  },
  {
   "cell_type": "code",
   "execution_count": 14,
   "metadata": {},
   "outputs": [
    {
     "name": "stdout",
     "output_type": "stream",
     "text": [
      "40 40 40\n",
      "(168936,) 0\n",
      "(106713,) 1\n",
      "(122101,) 2\n"
     ]
    }
   ],
   "source": [
    "y_none =np.zeros(none_spec.shape[1], dtype=int)\n",
    "y_uav = np.ones(uav_spec.shape[1], dtype=int)\n",
    "y_loaded = np.ones(load_spec.shape[1], dtype=int)*2\n",
    "\n",
    "print(len(none_spec),len(uav_spec),len(load_spec))\n",
    "print(y_none.shape, y_none[0])\n",
    "print(y_uav.shape, y_uav[0])\n",
    "print(y_loaded.shape, y_loaded[0])"
   ]
  },
  {
   "cell_type": "markdown",
   "metadata": {},
   "source": [
    "## 5. Features normalization with *mean* and *std*"
   ]
  },
  {
   "cell_type": "markdown",
   "metadata": {},
   "source": [
    "## 6. Stacking of a given number of frames to get temporal information"
   ]
  },
  {
   "cell_type": "code",
   "execution_count": 15,
   "metadata": {},
   "outputs": [
    {
     "name": "stdout",
     "output_type": "stream",
     "text": [
      "(397750, 40) (397750,)\n"
     ]
    }
   ],
   "source": [
    "X_mfcc = np.hstack((none_spec, uav_spec))\n",
    "X_mfcc = np.hstack((X_mfcc, load_spec))\n",
    "X_mfcc = X_mfcc.T\n",
    "\n",
    "y = np.hstack((y_none, y_uav))\n",
    "y = np.hstack((y, y_loaded))\n",
    "\n",
    "#X = np.concatenate((mfcc_loaded, mfcc_uav, mfcc_none), axis=0)\n",
    "#y = np.hstack((y_loaded, y_uav, y_none))\n",
    "print(X_mfcc.shape, y.shape)\n"
   ]
  },
  {
   "cell_type": "code",
   "execution_count": 16,
   "metadata": {},
   "outputs": [
    {
     "name": "stdout",
     "output_type": "stream",
     "text": [
      "(397750, 3)\n"
     ]
    }
   ],
   "source": [
    "\n",
    "n_labels = y.shape[0]\n",
    "y_encoded = np.zeros((n_labels, n_unique_labels))\n",
    "y_encoded[np.arange(n_labels), y] = 1\n",
    "print(y_encoded.shape)\n",
    "#print(y_encoded[0], y_encoded[40000],y_encoded[100000])"
   ]
  },
  {
   "cell_type": "code",
   "execution_count": 17,
   "metadata": {},
   "outputs": [
    {
     "name": "stdout",
     "output_type": "stream",
     "text": [
      "(397750, 40) (397750, 3)\n"
     ]
    }
   ],
   "source": [
    "dataX = X_mfcc\n",
    "dataY = y_encoded\n",
    "#print(y_encoded)\n",
    "print(dataX.shape, dataY.shape)"
   ]
  },
  {
   "cell_type": "code",
   "execution_count": 18,
   "metadata": {},
   "outputs": [],
   "source": [
    "def makeHot(dataX, dataY, sequence_length):\n",
    "    X_hot_list= []\n",
    "    Y_hot_tmp = dataY[sequence_length-1:]\n",
    "\n",
    "    for i in range(0, dataX.shape[0] - sequence_length+1):\n",
    "        _x = dataX[i:i + sequence_length]\n",
    "        #if i<10:\n",
    "            #print(_x, \"->\", Y_hot_tmp[i])\n",
    "        X_hot_list.append(_x)\n",
    "\n",
    "    X_hot = np.array(X_hot_list[:])\n",
    "    Y_hot= Y_hot_tmp.reshape((len(Y_hot_tmp),n_unique_labels))\n",
    "    return X_hot[:], Y_hot[:]"
   ]
  },
  {
   "cell_type": "code",
   "execution_count": 19,
   "metadata": {},
   "outputs": [
    {
     "name": "stdout",
     "output_type": "stream",
     "text": [
      "(397701, 50, 40) (397701, 3)\n"
     ]
    }
   ],
   "source": [
    "X_hot, Y_hot = makeHot( dataX, dataY, sequence_length)\n",
    "print(X_hot.shape, Y_hot.shape)\n"
   ]
  },
  {
   "cell_type": "code",
   "execution_count": 21,
   "metadata": {},
   "outputs": [],
   "source": [
    "from sklearn import model_selection\n",
    "X_train, X_test, y_train, y_test = model_selection.train_test_split(X_hot, Y_hot, test_size=0.2, random_state=42)\n",
    "X_train, X_val, y_train, y_val = model_selection.train_test_split(X_train, y_train, test_size=0.2, random_state=42)"
   ]
  },
  {
   "cell_type": "code",
   "execution_count": 6,
   "metadata": {},
   "outputs": [
    {
     "name": "stdout",
     "output_type": "stream",
     "text": [
      "[1, 2, 3] [11, 12, 13]\n",
      "[4, 5, 6] [14, 15, 16]\n"
     ]
    }
   ],
   "source": [
    "base = '../data/Xy/Spec'\n",
    "class Data:\n",
    "    def __init__(self,X,Y,BatchSize):\n",
    "        self.X = X\n",
    "        self.Y = Y\n",
    "        self.len = len(Y)\n",
    "        self.bs = BatchSize\n",
    "        \n",
    "        self.bs_i = 0\n",
    "    def getBatchData(self):\n",
    "        s = self.bs_i\n",
    "        e = self.bs_i + self.bs\n",
    "        if e> self.len:\n",
    "            e -= self.len\n",
    "            result =  np.vstack((self.X[s:],self.X[:e])), np.vstack((self.Y[s:],self.Y[:e]))\n",
    "        else:\n",
    "            result =  self.X[s:e], self.Y[s:e]\n",
    "            \n",
    "        self.bs_i = e\n",
    "        return result\n",
    "dataX = [1,2,3,4,5,6,7,8]\n",
    "dataY = [11,12,13,14,15,16,17,18]\n",
    "D = Data(dataX, dataY,3)\n",
    "x, y = D.getBatchData()\n",
    "print(x,y)\n",
    "x, y = D.getBatchData()\n",
    "print(x,y)\n",
    "\n",
    "#np.save('../data/Xy/Spec/y_val2', y_val)"
   ]
  },
  {
   "cell_type": "code",
   "execution_count": 30,
   "metadata": {},
   "outputs": [],
   "source": [
    "\n",
    "np.save(base+'/X_train2', X_train)\n",
    "np.save(base+'/X_test2', X_test)\n",
    "np.save(base+'/X_val2', X_val)\n",
    "np.save(base+'/y_train2', y_train)\n",
    "np.save(base+'/y_test2', y_test)\n",
    "np.save(base+'/y_val2', y_val)"
   ]
  },
  {
   "cell_type": "code",
   "execution_count": 4,
   "metadata": {},
   "outputs": [],
   "source": [
    "X_train = np.load(base+'/X_train2.npy')\n",
    "X_test = np.load(base+'/X_test2.npy')\n",
    "X_val = np.load(base+'/X_val2.npy')\n",
    "y_train = np.load(base+'/y_train2.npy')\n",
    "y_test = np.load(base+'/y_test2.npy')\n",
    "y_val = np.load(base+'/y_val2.npy')"
   ]
  },
  {
   "cell_type": "code",
   "execution_count": 7,
   "metadata": {},
   "outputs": [],
   "source": [
    "batch_size = 2048\n",
    "traindata = Data(X_train,y_train,batch_size)\n",
    "testdata = Data(X_test,y_test,batch_size)\n",
    "valdata = Data(X_val,y_val,batch_size)"
   ]
  },
  {
   "cell_type": "code",
   "execution_count": 8,
   "metadata": {},
   "outputs": [
    {
     "name": "stdout",
     "output_type": "stream",
     "text": [
      "(254528, 50, 40) (79541, 50, 40) (63632, 50, 40)\n",
      "(254528, 3) (79541, 3) (63632, 3)\n"
     ]
    }
   ],
   "source": [
    "print(X_train.shape, X_test.shape,X_val.shape)\n",
    "print(y_train.shape, y_test.shape,y_val.shape)"
   ]
  },
  {
   "cell_type": "markdown",
   "metadata": {},
   "source": [
    "# Tensorflow RNN"
   ]
  },
  {
   "cell_type": "markdown",
   "metadata": {},
   "source": [
    "## Train "
   ]
  },
  {
   "cell_type": "code",
   "execution_count": 12,
   "metadata": {},
   "outputs": [
    {
     "name": "stdout",
     "output_type": "stream",
     "text": [
      "2048 40\n",
      "0.001 50\n",
      "3 3\n"
     ]
    }
   ],
   "source": [
    "batch_size = batch_size\n",
    "num_classes = n_mels           #분류할 사전의 크기 \n",
    "\n",
    "learning_rate = 0.001\n",
    "sequence_length = sequence_length #9\n",
    "\n",
    "output_dim = n_unique_labels\n",
    "layers = 3\n",
    " \n",
    "model_path = '../models/RNN/my_RNN_model_test_spec'\n",
    "\n",
    "print(batch_size, num_classes)\n",
    "print(learning_rate, sequence_length)\n",
    "print(output_dim, layers)"
   ]
  },
  {
   "cell_type": "code",
   "execution_count": 13,
   "metadata": {},
   "outputs": [],
   "source": [
    "X = tf.placeholder(tf.float32, [None, sequence_length,num_classes], name=\"X\")\n",
    "Y = tf.placeholder(tf.float32, [None, output_dim], name=\"Y\")\n",
    "\n",
    "keep_prob = tf.placeholder(tf.float32)\n",
    "\n",
    "cell = tf.contrib.rnn.BasicLSTMCell(num_units=num_classes, state_is_tuple=True)\n",
    "#cell = tf.contrib.rnn.DropoutWrapper(cell, output_keep_prob=keep_prob)\n",
    "cell = tf.contrib.rnn.MultiRNNCell([cell]*2, state_is_tuple= True)\n",
    "\n",
    "BatchSize = tf.placeholder(tf.int32, [], name='BatchSize')\n",
    "initial_state = cell.zero_state(BatchSize, tf.float32)\n",
    "outputs, _states = tf.nn.dynamic_rnn(cell, X,initial_state=initial_state,dtype=tf.float32)\n",
    "\n",
    "dense1 = tf.layers.dense(inputs=outputs[:,-1], units=sequence_length*output_dim, activation=tf.nn.relu)\n",
    "\n",
    "dense2 = tf.layers.dense(inputs=dense1, units=sequence_length*output_dim, activation=tf.nn.relu)\n",
    "dropout2 = tf.nn.dropout(dense1, keep_prob=keep_prob)\n",
    "\n",
    "dense3 = tf.layers.dense(inputs=dense2, units=output_dim, activation=tf.nn.relu)\n",
    "\n",
    "Y_pred= tf.layers.dense(inputs=dense3, units=output_dim)\n",
    "cost = tf.reduce_mean(tf.nn.softmax_cross_entropy_with_logits_v2(logits=Y_pred, labels=Y))\n",
    "lr = tf.placeholder(tf.float32,shape=(), name='learning_rate')\n",
    "train = tf.train.AdamOptimizer(lr).minimize(cost)\n"
   ]
  },
  {
   "cell_type": "code",
   "execution_count": 14,
   "metadata": {},
   "outputs": [
    {
     "data": {
      "text/plain": [
       "array([[6.12215189e-03, 3.31032027e-02, 2.85044409e-02, ...,\n",
       "        5.99796072e-07, 3.29981956e-07, 3.98012499e-07],\n",
       "       [2.05139357e-02, 4.02045705e-02, 1.72614741e-02, ...,\n",
       "        5.05759738e-07, 4.84961720e-07, 3.82044306e-07],\n",
       "       [1.06363211e-02, 1.39114275e-02, 7.75138549e-03, ...,\n",
       "        3.90992772e-07, 3.85307925e-07, 4.45898119e-07],\n",
       "       ...,\n",
       "       [4.23804717e-02, 1.24427865e-02, 3.91737217e-03, ...,\n",
       "        4.79267537e-07, 5.49407258e-07, 4.10613591e-07],\n",
       "       [1.01528196e-02, 1.47945278e-02, 7.25676772e-03, ...,\n",
       "        4.43085639e-07, 3.64535158e-07, 3.66937756e-07],\n",
       "       [2.91146717e-02, 1.66137838e-02, 7.72954848e-03, ...,\n",
       "        4.63182143e-07, 4.23779524e-07, 4.40112267e-07]])"
      ]
     },
     "execution_count": 14,
     "metadata": {},
     "output_type": "execute_result"
    }
   ],
   "source": [
    "traindata.X[0]"
   ]
  },
  {
   "cell_type": "code",
   "execution_count": 15,
   "metadata": {},
   "outputs": [
    {
     "name": "stdout",
     "output_type": "stream",
     "text": [
      "[[0. 1. 0.]\n",
      " [0. 1. 0.]\n",
      " [1. 0. 0.]\n",
      " [1. 0. 0.]\n",
      " [0. 0. 1.]\n",
      " [0. 1. 0.]\n",
      " [0. 0. 1.]\n",
      " [0. 1. 0.]\n",
      " [0. 1. 0.]\n",
      " [1. 0. 0.]]\n"
     ]
    }
   ],
   "source": [
    "print(traindata.Y[:10])"
   ]
  },
  {
   "cell_type": "code",
   "execution_count": 16,
   "metadata": {},
   "outputs": [
    {
     "name": "stdout",
     "output_type": "stream",
     "text": [
      "[[0. 1. 0.]\n",
      " [0. 1. 0.]\n",
      " [1. 0. 0.]\n",
      " ...\n",
      " [1. 0. 0.]\n",
      " [1. 0. 0.]\n",
      " [1. 0. 0.]]\n"
     ]
    }
   ],
   "source": [
    "x, y = traindata.getBatchData()\n",
    "print(y)"
   ]
  },
  {
   "cell_type": "code",
   "execution_count": null,
   "metadata": {
    "scrolled": false
   },
   "outputs": [
    {
     "name": "stderr",
     "output_type": "stream",
     "text": [
      "c:\\users\\jh\\anaconda3\\envs\\tensorflow\\lib\\site-packages\\tensorflow\\python\\client\\session.py:1711: UserWarning:\n",
      "\n",
      "An interactive session is already active. This can cause out-of-memory errors in some cases. You must explicitly call `InteractiveSession.close()` to release resources held by the other session(s).\n",
      "\n"
     ]
    },
    {
     "name": "stdout",
     "output_type": "stream",
     "text": [
      "[step: 0] loss: 1.0371475219726562 \tvalidation: 50.539%\n",
      "[step: 1] loss: 0.9940330982208252 \tvalidation: 52.939%\n",
      "\n",
      "[step: 2] loss: 0.9908829927444458 \tvalidation: 52.714%\n",
      "[step: 3] loss: 0.9367541074752808 \tvalidation: 53.033%\n",
      "[step: 4] loss: 0.9241124391555786 \tvalidation: 52.739%\n",
      "[step: 5] loss: 0.912929892539978 \tvalidation: 54.997%\n",
      "[step: 6] loss: 0.8925859332084656 \tvalidation: 55.221%\n",
      "[step: 7] loss: 0.8585377931594849 \tvalidation: 55.378%\n",
      "[step: 8] loss: 0.8661543130874634 \tvalidation: 65.062%\n",
      "[step: 9] loss: 0.8352466821670532 \tvalidation: 66.762%\n",
      "[step: 10] loss: 0.8285336494445801 \tvalidation: 67.106%\n",
      "[step: 11] loss: 0.7982887029647827 \tvalidation: 65.596%\n",
      "\n",
      "[step: 12] loss: 0.7888187170028687 \tvalidation: 66.302%\n",
      "[step: 13] loss: 0.7916765809059143 \tvalidation: 68.964%\n",
      "[step: 14] loss: 0.81630539894104 \tvalidation: 70.372%\n",
      "[step: 15] loss: 0.7907871007919312 \tvalidation: 67.461%\n",
      "[step: 16] loss: 0.8414484262466431 \tvalidation: 55.915%\n",
      "[step: 17] loss: 0.7825598120689392 \tvalidation: 69.971%\n",
      "[step: 18] loss: 0.7857572436332703 \tvalidation: 68.455%\n",
      "[step: 19] loss: 0.762547492980957 \tvalidation: 68.819%\n",
      "[step: 20] loss: 0.7419924736022949 \tvalidation: 69.672%\n",
      "[step: 21] loss: 0.7310593128204346 \tvalidation: 70.562%\n",
      "\n",
      "[step: 22] loss: 0.7180068492889404 \tvalidation: 70.878%\n",
      "[step: 23] loss: 0.780612587928772 \tvalidation: 70.333%\n",
      "[step: 24] loss: 0.7187791466712952 \tvalidation: 69.302%\n",
      "[step: 25] loss: 0.7349748611450195 \tvalidation: 69.657%\n",
      "[step: 26] loss: 0.7193796634674072 \tvalidation: 70.100%\n",
      "[step: 27] loss: 0.6893621683120728 \tvalidation: 71.081%\n",
      "[step: 28] loss: 0.7980035543441772 \tvalidation: 69.408%\n",
      "[step: 29] loss: 0.6440327167510986 \tvalidation: 72.737%\n",
      "[step: 30] loss: 0.674595832824707 \tvalidation: 71.881%\n",
      "[step: 31] loss: 0.6812621355056763 \tvalidation: 72.492%\n",
      "\n",
      "[step: 32] loss: 0.6806543469429016 \tvalidation: 71.648%\n",
      "[step: 33] loss: 0.6847796440124512 \tvalidation: 73.950%\n",
      "[step: 34] loss: 0.7260613441467285 \tvalidation: 71.796%\n",
      "[step: 35] loss: 0.6516956090927124 \tvalidation: 72.537%\n",
      "[step: 36] loss: 0.648235559463501 \tvalidation: 74.807%\n",
      "[step: 37] loss: 0.7058358192443848 \tvalidation: 73.108%\n",
      "[step: 38] loss: 0.7050292491912842 \tvalidation: 72.242%\n",
      "[step: 39] loss: 0.7912238836288452 \tvalidation: 66.203%\n",
      "[step: 40] loss: 0.6869618892669678 \tvalidation: 73.867%\n",
      "[step: 41] loss: 0.6470746994018555 \tvalidation: 73.300%\n",
      "\n",
      "[step: 42] loss: 0.7205079197883606 \tvalidation: 70.224%\n",
      "[step: 43] loss: 0.6103512644767761 \tvalidation: 75.459%\n",
      "[step: 44] loss: 0.6689370274543762 \tvalidation: 72.877%\n",
      "[step: 45] loss: 0.6473889350891113 \tvalidation: 74.777%\n",
      "[step: 46] loss: 0.6167522072792053 \tvalidation: 75.123%\n",
      "[step: 47] loss: 0.6876102089881897 \tvalidation: 72.981%\n",
      "[step: 48] loss: 0.6886513829231262 \tvalidation: 74.464%\n",
      "[step: 49] loss: 0.6211669445037842 \tvalidation: 73.480%\n",
      "[step: 50] loss: 0.6085846424102783 \tvalidation: 76.773%\n",
      "[step: 51] loss: 0.6974321007728577 \tvalidation: 74.722%\n",
      "\n",
      "[step: 52] loss: 0.6811342239379883 \tvalidation: 73.020%\n",
      "[step: 53] loss: 0.5837123394012451 \tvalidation: 76.015%\n",
      "[step: 54] loss: 0.6045595407485962 \tvalidation: 76.105%\n",
      "[step: 55] loss: 0.5998837947845459 \tvalidation: 77.945%\n",
      "[step: 56] loss: 0.5909472703933716 \tvalidation: 75.822%\n",
      "[step: 57] loss: 0.6358153223991394 \tvalidation: 72.383%\n",
      "[step: 58] loss: 0.5688133239746094 \tvalidation: 76.971%\n",
      "[step: 59] loss: 0.7483762502670288 \tvalidation: 70.633%\n",
      "[step: 60] loss: 0.5947674512863159 \tvalidation: 77.397%\n",
      "[step: 61] loss: 0.5634870529174805 \tvalidation: 75.944%\n",
      "\n",
      "[step: 62] loss: 0.5855141878128052 \tvalidation: 76.622%\n",
      "[step: 63] loss: 0.6837894916534424 \tvalidation: 72.841%\n",
      "[step: 64] loss: 0.5476715564727783 \tvalidation: 73.171%\n",
      "[step: 65] loss: 0.5784162282943726 \tvalidation: 78.082%\n",
      "[step: 66] loss: 0.5613448619842529 \tvalidation: 78.047%\n",
      "[step: 67] loss: 0.5608046054840088 \tvalidation: 77.048%\n",
      "[step: 68] loss: 0.5694122314453125 \tvalidation: 77.373%\n",
      "[step: 69] loss: 0.6151630282402039 \tvalidation: 75.440%\n",
      "[step: 70] loss: 0.5843381285667419 \tvalidation: 74.499%\n",
      "[step: 71] loss: 0.5356801152229309 \tvalidation: 75.240%\n",
      "\n",
      "[step: 72] loss: 0.5570365190505981 \tvalidation: 78.769%\n",
      "[step: 73] loss: 0.5743585824966431 \tvalidation: 76.160%\n",
      "[step: 74] loss: 0.5661033391952515 \tvalidation: 76.113%\n",
      "[step: 75] loss: 0.5249174237251282 \tvalidation: 80.461%\n",
      "[step: 76] loss: 0.5214670896530151 \tvalidation: 78.415%\n",
      "[step: 77] loss: 0.6017865538597107 \tvalidation: 76.092%\n",
      "[step: 78] loss: 0.5189982652664185 \tvalidation: 79.163%\n",
      "[step: 79] loss: 0.5658280849456787 \tvalidation: 77.991%\n",
      "[step: 80] loss: 0.5439828634262085 \tvalidation: 79.265%\n",
      "[step: 81] loss: 0.5300693511962891 \tvalidation: 76.595%\n",
      "\n",
      "[step: 82] loss: 0.5078532695770264 \tvalidation: 80.136%\n",
      "[step: 83] loss: 0.5146002173423767 \tvalidation: 79.095%\n",
      "[step: 84] loss: 0.562084972858429 \tvalidation: 76.705%\n",
      "[step: 85] loss: 0.5227861404418945 \tvalidation: 79.955%\n",
      "[step: 86] loss: 0.5340162515640259 \tvalidation: 79.611%\n",
      "[step: 87] loss: 0.522183895111084 \tvalidation: 78.787%\n",
      "[step: 88] loss: 0.5064589977264404 \tvalidation: 80.012%\n",
      "[step: 89] loss: 0.5025432109832764 \tvalidation: 73.600%\n",
      "[step: 90] loss: 0.4807416498661041 \tvalidation: 79.619%\n",
      "[step: 91] loss: 0.5529037714004517 \tvalidation: 79.777%\n",
      "\n",
      "[step: 92] loss: 0.524804949760437 \tvalidation: 78.943%\n",
      "[step: 93] loss: 0.5413868427276611 \tvalidation: 79.058%\n"
     ]
    }
   ],
   "source": [
    "from sklearn.metrics import accuracy_score\n",
    "init = tf.global_variables_initializer()\n",
    "cost_history = np.empty(shape=[1],dtype=float)\n",
    "step_loss = 999999.0\n",
    "saver = tf.train.Saver()\n",
    "training_epochs = 1000\n",
    "# Training step\n",
    "\n",
    "sess = tf.InteractiveSession()\n",
    "sess.run(init)\n",
    "#learning_rate_ = [i*0.001 for i in range(20,10,-1)]\n",
    "#for learning_rate in [0.02, 0.01]:\n",
    "#    feed = {lr:learning_rate, BatchSize: batch_size}\n",
    "N = int(len(valdata.Y) / batch_size) + 1\n",
    "for i in range(training_epochs):\n",
    "    feed = {lr:learning_rate, BatchSize: batch_size, keep_prob : 1.0}\n",
    "    for n in range(N):\n",
    "        x,y = traindata.getBatchData()\n",
    "        feed[X], feed[Y] = x, y\n",
    "        step_loss_prev = step_loss\n",
    "        _, step_loss = sess.run([train, cost], feed_dict=feed)\n",
    "        cost_history = np.append(cost_history,step_loss)\n",
    "        \n",
    "    y_pred = sess.run(tf.argmax(Y_pred,1),feed_dict={\n",
    "        X: valdata.X, BatchSize: len(valdata.Y), keep_prob:1.0})\n",
    "    y_true =  sess.run(tf.argmax(valdata.Y,1))\n",
    "    accuracy_val = accuracy_score(y_pred, y_true)\n",
    "    print(\"[step: {}] loss: {}\".format(i, step_loss), \"\\tvalidation: {:.3f}%\".format(accuracy_val * 100))\n",
    "    if i%10 == 1:\n",
    "        print('')\n",
    "        saver.save(sess, model_path)\n",
    "sess.close()\n",
    "    \n",
    "\n",
    "    "
   ]
  },
  {
   "cell_type": "code",
   "execution_count": null,
   "metadata": {},
   "outputs": [],
   "source": [
    "sess = tf.InteractiveSession()\n",
    "saver.restore(sess, model_path)\n",
    "y_pred = sess.run(tf.argmax(Y_pred,1),feed_dict=\n",
    "                  {X: testdata.X, BatchSize: len(testdata.Y), keep_prob : 1.0})\n",
    "y_true = sess.run(tf.argmax(testdata.Y,1))\n",
    "print(y_pred.shape, y_true.shape)\n",
    "sess.close()"
   ]
  },
  {
   "cell_type": "code",
   "execution_count": null,
   "metadata": {},
   "outputs": [],
   "source": [
    "from sklearn.metrics import precision_recall_fscore_support\n",
    "from sklearn.metrics import accuracy_score\n",
    "from sklearn.metrics import classification_report\n",
    "from sklearn.metrics import confusion_matrix\n",
    "\n",
    "fig = plt.figure(figsize=(10,8))\n",
    "plt.plot(cost_history)\n",
    "plt.ylabel(\"Cost\")\n",
    "plt.xlabel(\"Iterations\") \n",
    "plt.axis([0,len(cost_history),0,np.max(cost_history)])\n",
    "plt.show()\n",
    "\n",
    "\n",
    "p,r,f,s = precision_recall_fscore_support(y_true, y_pred, average='micro')\n",
    "print(\"F-Score:\", round(f,3))\n",
    "print(\"Accuracy: \", accuracy_score(y_true, y_pred))\n",
    "\n",
    "print(classification_report(y_true, y_pred))\n",
    "print(confusion_matrix(y_true, y_pred))"
   ]
  },
  {
   "cell_type": "code",
   "execution_count": null,
   "metadata": {},
   "outputs": [],
   "source": []
  },
  {
   "cell_type": "code",
   "execution_count": null,
   "metadata": {},
   "outputs": [],
   "source": []
  }
 ],
 "metadata": {
  "kernelspec": {
   "display_name": "Python 3",
   "language": "python",
   "name": "python3"
  },
  "language_info": {
   "codemirror_mode": {
    "name": "ipython",
    "version": 3
   },
   "file_extension": ".py",
   "mimetype": "text/x-python",
   "name": "python",
   "nbconvert_exporter": "python",
   "pygments_lexer": "ipython3",
   "version": "3.5.4"
  }
 },
 "nbformat": 4,
 "nbformat_minor": 2
}
