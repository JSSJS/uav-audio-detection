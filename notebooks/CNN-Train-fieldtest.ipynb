{
 "cells": [
  {
   "cell_type": "code",
   "execution_count": 1,
   "metadata": {
    "scrolled": true
   },
   "outputs": [],
   "source": [
    "import matplotlib.pyplot as plt\n",
    "%matplotlib inline\n",
    "import IPython.display\n",
    "import librosa.display\n",
    "import numpy as np\n",
    "import librosa\n",
    "import tensorflow as tf\n",
    "import glob"
   ]
  },
  {
   "cell_type": "code",
   "execution_count": 2,
   "metadata": {},
   "outputs": [],
   "source": [
    "uav_path = './Purdue/allnew/Unloaded/*.wav'\n",
    "loaded_path = './Purdue/allnew/Loaded/*.wav'\n",
    "none_path = './Purdue/allnew/Background/*.wav'\n",
    "\n",
    "uav_files = glob.glob(uav_path)\n",
    "loaded_files = glob.glob(loaded_path)\n",
    "none_files = glob.glob(none_path)"
   ]
  },
  {
   "cell_type": "code",
   "execution_count": 3,
   "metadata": {},
   "outputs": [],
   "source": [
    "CHUNK_SIZE = 8192\n",
    "SR = 44100\n",
    "N_MFCC = 16"
   ]
  },
  {
   "cell_type": "code",
   "execution_count": 4,
   "metadata": {},
   "outputs": [],
   "source": [
    "def load(files, sr=44100):\n",
    "    [raw, sr] = librosa.load(files[0], sr=sr)\n",
    "    for f in files[1:]:\n",
    "        [array, sr] = librosa.load(f, sr=sr)\n",
    "        raw = np.hstack((raw, array))\n",
    "    print(raw.shape)\n",
    "    return raw"
   ]
  },
  {
   "cell_type": "code",
   "execution_count": 5,
   "metadata": {},
   "outputs": [
    {
     "name": "stdout",
     "output_type": "stream",
     "text": [
      "(54636926,)\n",
      "(62515322,)\n",
      "(86495188,)\n"
     ]
    }
   ],
   "source": [
    "uav_raw = load(uav_files)\n",
    "loaded_raw = load(loaded_files)\n",
    "none_raw = load(none_files)"
   ]
  },
  {
   "cell_type": "markdown",
   "metadata": {},
   "source": [
    "# Data Processing"
   ]
  },
  {
   "cell_type": "code",
   "execution_count": 6,
   "metadata": {},
   "outputs": [],
   "source": [
    "def mfcc4(raw, label, chunk_size=8192, window_size=4096, sr=44100, n_mfcc=16, n_frame=16):\n",
    "    mfcc = np.empty((0, n_mfcc, n_frame))\n",
    "    y = []\n",
    "    print(raw.shape)\n",
    "    for i in range(0, len(raw), chunk_size//2):\n",
    "        mfcc_slice = librosa.feature.mfcc(raw[i:i+chunk_size], sr=sr, n_mfcc=n_mfcc) #n_mfcc,17\n",
    "        if mfcc_slice.shape[1] < 17:\n",
    "            print(\"small end:\", mfcc_slice.shape)\n",
    "            continue\n",
    "        mfcc_slice = mfcc_slice[:,:-1]\n",
    "        mfcc_slice = mfcc_slice.reshape((1, mfcc_slice.shape[0], mfcc_slice.shape[1]))\n",
    "        mfcc = np.vstack((mfcc, mfcc_slice))\n",
    "        y.append(label)\n",
    "    y = np.array(y)\n",
    "    return mfcc, y"
   ]
  },
  {
   "cell_type": "code",
   "execution_count": 7,
   "metadata": {},
   "outputs": [
    {
     "name": "stdout",
     "output_type": "stream",
     "text": [
      "(62515322,)\n",
      "small end: (16, 13)\n",
      "small end: (16, 5)\n",
      "(54636926,)\n",
      "small end: (16, 9)\n",
      "small end: (16, 1)\n",
      "(86495188,)\n",
      "small end: (16, 16)\n",
      "small end: (16, 8)\n",
      "(13338, 16, 16) (13338,)\n",
      "(15261, 16, 16) (15261,)\n",
      "(21115, 16, 16) (21115,)\n"
     ]
    }
   ],
   "source": [
    "mfcc_loaded, y_loaded = mfcc4(loaded_raw, 2)\n",
    "mfcc_uav, y_uav = mfcc4(uav_raw, 1)\n",
    "mfcc_none, y_none = mfcc4(none_raw, 0)\n",
    "\n",
    "print(mfcc_uav.shape, y_uav.shape)\n",
    "print(mfcc_loaded.shape, y_loaded.shape)\n",
    "print(mfcc_none.shape, y_none.shape)"
   ]
  },
  {
   "cell_type": "code",
   "execution_count": 8,
   "metadata": {},
   "outputs": [
    {
     "name": "stdout",
     "output_type": "stream",
     "text": [
      "(49714, 16, 16) (49714,)\n"
     ]
    }
   ],
   "source": [
    "X = np.concatenate((mfcc_loaded, mfcc_uav, mfcc_none), axis=0)\n",
    "y = np.hstack((y_loaded, y_uav, y_none))\n",
    "print(X.shape, y.shape)"
   ]
  },
  {
   "cell_type": "code",
   "execution_count": 9,
   "metadata": {},
   "outputs": [
    {
     "name": "stdout",
     "output_type": "stream",
     "text": [
      "(49714, 3)\n"
     ]
    }
   ],
   "source": [
    "n_labels = y.shape[0]\n",
    "n_unique_labels = 3\n",
    "y_encoded = np.zeros((n_labels, n_unique_labels))\n",
    "y_encoded[np.arange(n_labels), y] = 1\n",
    "print(y_encoded.shape)"
   ]
  },
  {
   "cell_type": "code",
   "execution_count": 10,
   "metadata": {},
   "outputs": [],
   "source": [
    "from sklearn import model_selection\n",
    "X_train, X_test, y_train, y_test = model_selection.train_test_split(X, y_encoded, test_size=0.2, random_state=42)"
   ]
  },
  {
   "cell_type": "code",
   "execution_count": 11,
   "metadata": {},
   "outputs": [],
   "source": [
    "X_train, X_val, y_train, y_val = model_selection.train_test_split(X_train, y_train, test_size=0.2, random_state=42)"
   ]
  },
  {
   "cell_type": "code",
   "execution_count": 12,
   "metadata": {},
   "outputs": [
    {
     "name": "stdout",
     "output_type": "stream",
     "text": [
      "(31816, 16, 16) (9943, 16, 16)\n",
      "(7955, 16, 16) (7955, 3)\n",
      "(31816, 3) (9943, 3)\n"
     ]
    }
   ],
   "source": [
    "print(X_train.shape, X_test.shape)\n",
    "print(X_val.shape, y_val.shape)\n",
    "print(y_train.shape, y_test.shape)"
   ]
  },
  {
   "cell_type": "code",
   "execution_count": 13,
   "metadata": {},
   "outputs": [],
   "source": [
    "np.save('./X_train_chunk_3d', X_train)\n",
    "np.save('./X_test_chunk_3d', X_test)\n",
    "np.save('./X_val_chunk_3d', X_val)\n",
    "np.save('./y_val_chunk_3d', y_val)\n",
    "np.save('./y_train_chunk_3d', y_train)\n",
    "np.save('./y_test_chunk_3d', y_test)"
   ]
  },
  {
   "cell_type": "code",
   "execution_count": 14,
   "metadata": {},
   "outputs": [],
   "source": [
    "X_train = np.load('./X_train_chunk_3d.npy')\n",
    "X_test = np.load('./X_test_chunk_3d.npy')\n",
    "X_val = np.load('./X_val_chunk_3d.npy')\n",
    "y_val = np.load('./y_val_chunk_3d.npy')\n",
    "y_train = np.load('./y_train_chunk_3d.npy')\n",
    "y_test = np.load('./y_test_chunk_3d.npy')"
   ]
  },
  {
   "cell_type": "markdown",
   "metadata": {},
   "source": [
    "# Experiment 3 - two convolutional layer /w no dropout"
   ]
  },
  {
   "cell_type": "markdown",
   "metadata": {},
   "source": [
    "##Experiment 3-2\n",
    "- learning rate 0.005\n",
    "- pooling stride 1x1\n",
    "- #filter 1\n",
    "- best result among every other settings\n",
    "- cost kept fluctuated during training. (0.8 -> 1.3) -- why is that?"
   ]
  },
  {
   "cell_type": "code",
   "execution_count": 15,
   "metadata": {},
   "outputs": [],
   "source": [
    "tf.reset_default_graph()"
   ]
  },
  {
   "cell_type": "code",
   "execution_count": 16,
   "metadata": {},
   "outputs": [],
   "source": [
    "n_mfcc = 16\n",
    "n_frame = 16\n",
    "n_classes = 3\n",
    "n_channels = 1\n",
    "\n",
    "learning_rate = 0.0002  # 0.005\n",
    "training_epochs = 100"
   ]
  },
  {
   "cell_type": "markdown",
   "metadata": {},
   "source": [
    "# Layer 1 "
   ]
  },
  {
   "cell_type": "code",
   "execution_count": 17,
   "metadata": {},
   "outputs": [],
   "source": [
    "X = tf.placeholder(tf.float32, shape=[None,n_mfcc*n_frame*n_channels])\n",
    "X = tf.reshape(X, [-1, n_mfcc, n_frame, n_channels])\n",
    "Y = tf.placeholder(tf.float32, shape=[None,n_classes])\n",
    "\n",
    "conv1 = tf.layers.conv2d(inputs=X, filters=1, kernel_size=[3, 3],\n",
    "                         padding=\"SAME\", activation=tf.nn.relu)\n",
    "pool1 = tf.layers.max_pooling2d(inputs=conv1, pool_size=[2, 2],\n",
    "                                padding=\"SAME\", strides=1)\n",
    "\n",
    "conv2 = tf.layers.conv2d(inputs=pool1, filters=1, kernel_size=[3, 3],\n",
    "                         padding=\"SAME\", activation=tf.nn.relu)\n",
    "pool2 = tf.layers.max_pooling2d(inputs=conv2, pool_size=[2, 2],\n",
    "                                padding=\"SAME\", strides=1)\n",
    "\n",
    "flat = tf.reshape(pool2, [-1, 16*16*1])"
   ]
  },
  {
   "cell_type": "code",
   "execution_count": 18,
   "metadata": {},
   "outputs": [],
   "source": [
    "dense2 = tf.layers.dense(inputs=flat, units=625, activation=tf.nn.relu)\n",
    "logits = tf.layers.dense(inputs=dense2, units=3)\n",
    "\n",
    "cost = tf.reduce_mean(tf.nn.softmax_cross_entropy_with_logits_v2(logits=logits, labels=Y))\n",
    "optimizer = tf.train.AdamOptimizer(learning_rate=learning_rate).minimize(cost)\n",
    "\n",
    "Y_pred = tf.contrib.layers.fully_connected(logits,n_classes,activation_fn = None)"
   ]
  },
  {
   "cell_type": "code",
   "execution_count": 19,
   "metadata": {},
   "outputs": [],
   "source": [
    "sess = tf.Session()\n",
    "sess.run(tf.global_variables_initializer())"
   ]
  },
  {
   "cell_type": "code",
   "execution_count": 20,
   "metadata": {},
   "outputs": [],
   "source": [
    "X_train2 = X_train.reshape(X_train.shape[0], X_train.shape[1], X_train.shape[2], 1)\n",
    "X_test2 = X_test.reshape(X_test.shape[0], X_test.shape[1], X_test.shape[2], 1)\n",
    "X_val2 = X_val.reshape(X_val.shape[0], X_val.shape[1], X_val.shape[2], 1)"
   ]
  },
  {
   "cell_type": "code",
   "execution_count": 21,
   "metadata": {},
   "outputs": [],
   "source": [
    "model_path = './cnnmodel'\n",
    "saver = tf.train.Saver()"
   ]
  },
  {
   "cell_type": "code",
   "execution_count": 22,
   "metadata": {},
   "outputs": [],
   "source": [
    "from sklearn.metrics import precision_recall_fscore_support\n",
    "from sklearn.metrics import accuracy_score\n",
    "from sklearn.metrics import classification_report\n",
    "from sklearn.metrics import confusion_matrix\n",
    "import itertools as it"
   ]
  },
  {
   "cell_type": "code",
   "execution_count": 23,
   "metadata": {
    "scrolled": false
   },
   "outputs": [
    {
     "name": "stdout",
     "output_type": "stream",
     "text": [
      "7955 Epoch: 0001 cost =  0.918375340 val =  0.692395\n",
      "7955 Epoch: 0002 cost =  0.617529218 val =  0.797109\n",
      "7955 Epoch: 0003 cost =  0.515693031 val =  0.842112\n",
      "7955 Epoch: 0004 cost =  0.464094469 val =  0.842740\n",
      "7955 Epoch: 0005 cost =  0.419225469 val =  0.859459\n",
      "7955 Epoch: 0006 cost =  0.389443128 val =  0.877184\n",
      "7955 Epoch: 0007 cost =  0.368660570 val =  0.880955\n",
      "7955 Epoch: 0008 cost =  0.352114612 val =  0.883470\n",
      "7955 Epoch: 0009 cost =  0.337683027 val =  0.888498\n",
      "7955 Epoch: 0010 cost =  0.324953577 val =  0.889001\n",
      "7955 Epoch: 0011 cost =  0.308563175 val =  0.892143\n",
      "7955 Epoch: 0012 cost =  0.294910724 val =  0.891138\n",
      "7955 Epoch: 0013 cost =  0.281213767 val =  0.890886\n",
      "7955 Epoch: 0014 cost =  0.268275582 val =  0.890383\n",
      "7955 Epoch: 0015 cost =  0.257255272 val =  0.894155\n",
      "7955 Epoch: 0016 cost =  0.245656570 val =  0.891640\n",
      "7955 Epoch: 0017 cost =  0.237406235 val =  0.893275\n",
      "7955 Epoch: 0018 cost =  0.227826158 val =  0.892018\n",
      "7955 Epoch: 0019 cost =  0.221236375 val =  0.892772\n",
      "7955 Epoch: 0020 cost =  0.214298858 val =  0.893526\n",
      "7955 Epoch: 0021 cost =  0.207858160 val =  0.897674\n",
      "7955 Epoch: 0022 cost =  0.199593460 val =  0.903080\n",
      "7955 Epoch: 0023 cost =  0.191562178 val =  0.901194\n",
      "7955 Epoch: 0024 cost =  0.184676847 val =  0.901446\n",
      "7955 Epoch: 0025 cost =  0.177591875 val =  0.902954\n",
      "7955 Epoch: 0026 cost =  0.169928372 val =  0.903331\n",
      "7955 Epoch: 0027 cost =  0.161885807 val =  0.904463\n",
      "7955 Epoch: 0028 cost =  0.157027152 val =  0.903708\n",
      "7955 Epoch: 0029 cost =  0.151389424 val =  0.904714\n",
      "7955 Epoch: 0030 cost =  0.143124483 val =  0.905594\n",
      "7955 Epoch: 0031 cost =  0.138407399 val =  0.902828\n",
      "7955 Epoch: 0032 cost =  0.131091499 val =  0.902074\n",
      "7955 Epoch: 0033 cost =  0.124809042 val =  0.902828\n",
      "7955 Epoch: 0034 cost =  0.117957599 val =  0.901194\n",
      "7955 Epoch: 0035 cost =  0.112639696 val =  0.901320\n",
      "7955 Epoch: 0036 cost =  0.106367668 val =  0.898680\n",
      "7955 Epoch: 0037 cost =  0.104415170 val =  0.899686\n",
      "7955 Epoch: 0038 cost =  0.101373310 val =  0.899686\n",
      "7955 Epoch: 0039 cost =  0.096088929 val =  0.896794\n",
      "7955 Epoch: 0040 cost =  0.093942502 val =  0.899937\n",
      "7955 Epoch: 0041 cost =  0.086973422 val =  0.901948\n",
      "7955 Epoch: 0042 cost =  0.086789201 val =  0.897674\n",
      "7955 Epoch: 0043 cost =  0.082218117 val =  0.903206\n",
      "7955 Epoch: 0044 cost =  0.079163287 val =  0.897172\n",
      "7955 Epoch: 0045 cost =  0.070845088 val =  0.897800\n",
      "7955 Epoch: 0046 cost =  0.069665817 val =  0.894783\n",
      "7955 Epoch: 0047 cost =  0.070169302 val =  0.898177\n",
      "7955 Epoch: 0048 cost =  0.064717326 val =  0.895160\n",
      "7955 Epoch: 0049 cost =  0.059683241 val =  0.894155\n",
      "7955 Epoch: 0050 cost =  0.055156120 val =  0.894657\n",
      "7955 Epoch: 0051 cost =  0.056724002 val =  0.888246\n",
      "7955 Epoch: 0052 cost =  0.055063639 val =  0.888121\n",
      "7955 Epoch: 0053 cost =  0.054176573 val =  0.892520\n",
      "7955 Epoch: 0054 cost =  0.053014972 val =  0.891766\n",
      "7955 Epoch: 0055 cost =  0.054128735 val =  0.892269\n",
      "7955 Epoch: 0056 cost =  0.049764215 val =  0.891515\n",
      "7955 Epoch: 0057 cost =  0.048642806 val =  0.891012\n",
      "7955 Epoch: 0058 cost =  0.052237284 val =  0.892269\n",
      "7955 Epoch: 0059 cost =  0.047133831 val =  0.894532\n",
      "7955 Epoch: 0060 cost =  0.043664055 val =  0.892520\n",
      "7955 Epoch: 0061 cost =  0.042196626 val =  0.892898\n",
      "7955 Epoch: 0062 cost =  0.038399397 val =  0.900943\n",
      "7955 Epoch: 0063 cost =  0.044742804 val =  0.896920\n",
      "7955 Epoch: 0064 cost =  0.038116230 val =  0.887115\n",
      "7955 Epoch: 0065 cost =  0.032016797 val =  0.883972\n",
      "7955 Epoch: 0066 cost =  0.044768499 val =  0.888246\n",
      "7955 Epoch: 0067 cost =  0.037952190 val =  0.895412\n",
      "7955 Epoch: 0068 cost =  0.032831557 val =  0.887869\n",
      "7955 Epoch: 0069 cost =  0.031915832 val =  0.887869\n",
      "7955 Epoch: 0070 cost =  0.036975971 val =  0.897172\n",
      "7955 Epoch: 0071 cost =  0.036766789 val =  0.881332\n",
      "7955 Epoch: 0072 cost =  0.035304670 val =  0.889252\n",
      "7955 Epoch: 0073 cost =  0.031287158 val =  0.896543\n",
      "7955 Epoch: 0074 cost =  0.036735565 val =  0.893777\n",
      "7955 Epoch: 0075 cost =  0.033293640 val =  0.895160\n",
      "7955 Epoch: 0076 cost =  0.028196607 val =  0.887492\n",
      "7955 Epoch: 0077 cost =  0.031313145 val =  0.903206\n",
      "7955 Epoch: 0078 cost =  0.026092567 val =  0.899560\n",
      "7955 Epoch: 0079 cost =  0.026572160 val =  0.900943\n",
      "7955 Epoch: 0080 cost =  0.026736138 val =  0.900189\n",
      "7955 Epoch: 0081 cost =  0.037078046 val =  0.897926\n",
      "7955 Epoch: 0082 cost =  0.024002967 val =  0.900943\n",
      "7955 Epoch: 0083 cost =  0.025447331 val =  0.902326\n",
      "7955 Epoch: 0084 cost =  0.029932003 val =  0.900063\n",
      "7955 Epoch: 0085 cost =  0.024994542 val =  0.905217\n",
      "7955 Epoch: 0086 cost =  0.021537399 val =  0.902074\n",
      "7955 Epoch: 0087 cost =  0.021054378 val =  0.900189\n",
      "7955 Epoch: 0088 cost =  0.027178581 val =  0.903960\n",
      "7955 Epoch: 0089 cost =  0.017689061 val =  0.896166\n",
      "7955 Epoch: 0090 cost =  0.031975322 val =  0.901446\n",
      "7955 Epoch: 0091 cost =  0.023483817 val =  0.901571\n",
      "7955 Epoch: 0092 cost =  0.024077174 val =  0.901194\n",
      "7955 Epoch: 0093 cost =  0.020095029 val =  0.900189\n",
      "7955 Epoch: 0094 cost =  0.021911781 val =  0.906474\n",
      "7955 Epoch: 0095 cost =  0.018315312 val =  0.889755\n",
      "7955 Epoch: 0096 cost =  0.025278416 val =  0.899560\n",
      "7955 Epoch: 0097 cost =  0.019628205 val =  0.902954\n",
      "7955 Epoch: 0098 cost =  0.021496864 val =  0.902451\n",
      "7955 Epoch: 0099 cost =  0.018811621 val =  0.899937\n",
      "7955 Epoch: 0100 cost =  0.019582383 val =  0.899560\n"
     ]
    },
    {
     "data": {
      "text/plain": [
       "'./cnnmodel'"
      ]
     },
     "execution_count": 23,
     "metadata": {},
     "output_type": "execute_result"
    }
   ],
   "source": [
    "###########################\n",
    "batch_size = 32\n",
    "cost_history = np.empty(shape=[1], dtype=float)\n",
    "\n",
    "for epoch in range(training_epochs):#training epoch 500 / batch_size 128 --> acc 90%\n",
    "    avg_cost = 0\n",
    "    val_avg_cost =0\n",
    "    total_batch = int(y_train.shape[0] / batch_size)\n",
    "    for i in range(0, y_train.shape[0], batch_size):\n",
    "        feed_dict={X:X_train2[i:i+batch_size,:,:,:], Y:y_train[i:i+batch_size,:]}\n",
    "        c, _ = sess.run([cost, optimizer], feed_dict=feed_dict)\n",
    "        cost_history = np.append(cost_history,cost)\n",
    "        avg_cost += c/total_batch \n",
    "    \n",
    "    y_pred = sess.run(logits, feed_dict={X:X_val2})\n",
    "    y_pred = sess.run(tf.argmax(y_pred,1))\n",
    "    y_true = y_val\n",
    "        \n",
    "    y_true = sess.run(tf.argmax(y_true,1))\n",
    "    print(len(y_pred),end=' ')\n",
    "    print('Epoch:', '%04d' % (epoch+1), 'cost = ', '{:.9f}'.format(avg_cost), 'val = ','%f' %(accuracy_score(y_true, y_pred)) )\n",
    "saver.save(sess, model_path)"
   ]
  },
  {
   "cell_type": "code",
   "execution_count": 24,
   "metadata": {},
   "outputs": [],
   "source": [
    "y_pred = sess.run(tf.argmax(logits,1),feed_dict={X: X_test2})\n",
    "y_true = sess.run(tf.argmax(y_test,1))"
   ]
  },
  {
   "cell_type": "code",
   "execution_count": 26,
   "metadata": {},
   "outputs": [
    {
     "name": "stdout",
     "output_type": "stream",
     "text": [
      "F-Score: 0.902\n",
      "Accuracy:  0.9016393442622951\n",
      "             precision    recall  f1-score   support\n",
      "\n",
      "          0       0.91      0.96      0.93      4191\n",
      "          1       0.92      0.83      0.87      2652\n",
      "          2       0.88      0.89      0.89      3100\n",
      "\n",
      "avg / total       0.90      0.90      0.90      9943\n",
      "\n",
      "[[4013   55  123]\n",
      " [ 208 2191  253]\n",
      " [ 208  131 2761]]\n"
     ]
    },
    {
     "data": {
      "image/png": "[encoded data removed]",
      "text/plain": [
       "<Figure size 1080x648 with 1 Axes>"
      ]
     },
     "metadata": {},
     "output_type": "display_data"
    },
    {
     "data": {
      "image/png": "[encoded data removed]",
      "text/plain": [
       "<Figure size 1080x648 with 1 Axes>"
      ]
     },
     "metadata": {},
     "output_type": "display_data"
    }
   ],
   "source": [
    "from sklearn.metrics import precision_recall_fscore_support\n",
    "p,r,f,s = precision_recall_fscore_support(y_true, y_pred, average='micro')\n",
    "print(\"F-Score:\", round(f,3))\n",
    "from sklearn.metrics import accuracy_score\n",
    "print(\"Accuracy: \", accuracy_score(y_true, y_pred))\n",
    "\n",
    "from sklearn.metrics import classification_report\n",
    "print(classification_report(y_true, y_pred))\n",
    "from sklearn.metrics import confusion_matrix\n",
    "print(confusion_matrix(y_true, y_pred))"
   ]
  },
  {
   "cell_type": "code",
   "execution_count": 40,
   "metadata": {},
   "outputs": [
    {
     "ename": "SyntaxError",
     "evalue": "invalid syntax (<ipython-input-40-a46e5f13d009>, line 1)",
     "output_type": "error",
     "traceback": [
      "\u001b[0;36m  File \u001b[0;32m\"<ipython-input-40-a46e5f13d009>\"\u001b[0;36m, line \u001b[0;32m1\u001b[0m\n\u001b[0;31m    learning rate 0.01\u001b[0m\n\u001b[0m                ^\u001b[0m\n\u001b[0;31mSyntaxError\u001b[0m\u001b[0;31m:\u001b[0m invalid syntax\n"
     ]
    }
   ],
   "source": [
    "'''learning rate 0.01\n",
    "batch size 64\n",
    "epoch 100\n",
    "-> 78%'''\n",
    "'''learning rate 0.01\n",
    "batch size 128\n",
    "epoch 100\n",
    "-> 77%'''\n",
    "'''learning rate 0.0002\n",
    "batch size 64\n",
    "epoch 100\n",
    "-> 85%'''\n",
    "'''learning rate 0.0002\n",
    "batch size 64\n",
    "epoch 50\n",
    "-> 85%'''\n",
    "'''learning rate 0.0002\n",
    "batch size 32\n",
    "epoch 50\n",
    "-> 84.6%'''"
   ]
  }
 ],
 "metadata": {
  "kernelspec": {
   "display_name": "Python 3",
   "language": "python",
   "name": "python3"
  },
  "language_info": {
   "codemirror_mode": {
    "name": "ipython",
    "version": 3
   },
   "file_extension": ".py",
   "mimetype": "text/x-python",
   "name": "python",
   "nbconvert_exporter": "python",
   "pygments_lexer": "ipython3",
   "version": "3.6.6"
  }
 },
 "nbformat": 4,
 "nbformat_minor": 2
}
