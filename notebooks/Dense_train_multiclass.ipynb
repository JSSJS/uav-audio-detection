{
 "cells": [
  {
   "cell_type": "code",
   "execution_count": 1,
   "metadata": {},
   "outputs": [
    {
     "name": "stderr",
     "output_type": "stream",
     "text": [
      "C:\\Users\\Jaesung\\Anaconda3\\lib\\site-packages\\h5py\\__init__.py:36: FutureWarning: Conversion of the second argument of issubdtype from `float` to `np.floating` is deprecated. In future, it will be treated as `np.float64 == np.dtype(float).type`.\n",
      "  from ._conv import register_converters as _register_converters\n"
     ]
    }
   ],
   "source": [
    "import matplotlib.pyplot as plt\n",
    "%matplotlib inline\n",
    "import IPython.display\n",
    "import librosa.display\n",
    "import numpy as np\n",
    "import librosa\n",
    "import tensorflow as tf\n",
    "import glob"
   ]
  },
  {
   "cell_type": "code",
   "execution_count": 2,
   "metadata": {},
   "outputs": [],
   "source": [
    "import glob\n",
    "#uav_path = 'C:/Users/Jaesung/Desktop/코딩/Python실습/K-SW-PJT/RW_AUDIO_DATA_2018_Update/RW_AUDIO_DATA_2018_Update/JUNE_01_PHANTOMS/*.wav'\n",
    "#none_path = 'C:/Users/Jaesung/Desktop/코딩/Python실습/K-SW-PJT/RW_AUDIO_DATA_2018_Update/RW_AUDIO_DATA_2018_Update/JUNE_02_BACKGROUND/background_0*.wav'\n",
    "#uav_path = '../../../0720/*.wav'\n",
    "#uav_path = 'C:/Users/Jaesung/Desktop/코딩/Python실습/K-SW-PJT/Sounddata_new/22050/Drone_22050/*.*'\n",
    "#none_path = 'C:/Users/Jaesung/Desktop/코딩/Python실습/K-SW-PJT/Sounddata_new/22050/None_22050/*.*'\n",
    "\n",
    "uav_path = 'C:/Users/Jaesung/Desktop/코딩/Python실습/K-SW-PJT/Sounddata_new/audio/unloaded/*.wav'\n",
    "loaded_path = 'C:/Users/Jaesung/Desktop/코딩/Python실습/K-SW-PJT/Sounddata_new/audio/loaded/*.wav'\n",
    "none_path = 'C:/Users/Jaesung/Desktop/코딩/Python실습/K-SW-PJT/RW_AUDIO_DATA_2018_Update/RW_AUDIO_DATA_2018_Update/JUNE_02_BACKGROUND/background_0*.wav'\n",
    "\n",
    "uav_files = glob.glob(uav_path)\n",
    "loaded_files = glob.glob(loaded_path)\n",
    "none_files = glob.glob(none_path)\n"
   ]
  },
  {
   "cell_type": "code",
   "execution_count": 3,
   "metadata": {},
   "outputs": [],
   "source": [
    "CHUNK_SIZE = 8192\n",
    "SR = 22050\n",
    "N_MFCC = 16"
   ]
  },
  {
   "cell_type": "code",
   "execution_count": 4,
   "metadata": {},
   "outputs": [],
   "source": [
    "def load(files, sr=22050):\n",
    "    [raw, sr] = librosa.load(files[0], sr=sr)\n",
    "    for f in files[1:]:\n",
    "        [array, sr] = librosa.load(f, sr=sr)\n",
    "        raw = np.hstack((raw, array))\n",
    "    print(raw.shape)\n",
    "    return raw\n"
   ]
  },
  {
   "cell_type": "code",
   "execution_count": 5,
   "metadata": {},
   "outputs": [
    {
     "data": {
      "text/plain": [
       "'\\nfrom myAudio import Audio\\nimport pyaudio\\nimport time\\nimport wave\\nimport numpy as np\\nimport librosa\\ndef load2(sr=22050):\\n    raw = Audio.getStream(sample_rate = sr, chunk_size = CHUNK_SIZE,chunk_num = 1, isWrite=False)\\n    raw = np.array(raw)\\n    print(raw.shape)\\n    return raw\\nsound_raw = load2()\\n'"
      ]
     },
     "execution_count": 5,
     "metadata": {},
     "output_type": "execute_result"
    }
   ],
   "source": [
    "'''\n",
    "from myAudio import Audio\n",
    "import pyaudio\n",
    "import time\n",
    "import wave\n",
    "import numpy as np\n",
    "import librosa\n",
    "def load2(sr=22050):\n",
    "    raw = Audio.getStream(sample_rate = sr, chunk_size = CHUNK_SIZE,chunk_num = 1, isWrite=False)\n",
    "    raw = np.array(raw)\n",
    "    print(raw.shape)\n",
    "    return raw\n",
    "sound_raw = load2()\n",
    "'''"
   ]
  },
  {
   "cell_type": "code",
   "execution_count": 6,
   "metadata": {},
   "outputs": [
    {
     "name": "stdout",
     "output_type": "stream",
     "text": [
      "(24229087,)\n",
      "(8911343,)\n",
      "(9289728,)\n"
     ]
    }
   ],
   "source": [
    "uav_raw = load(uav_files)\n",
    "loaded_raw = load(loaded_files)\n",
    "none_raw = load(none_files)"
   ]
  },
  {
   "cell_type": "markdown",
   "metadata": {},
   "source": [
    "# Data preprocessing"
   ]
  },
  {
   "cell_type": "markdown",
   "metadata": {},
   "source": [
    "Chose `mfcc4` "
   ]
  },
  {
   "cell_type": "code",
   "execution_count": 7,
   "metadata": {},
   "outputs": [],
   "source": [
    "def mfcc4(raw, label, chunk_size=8192, window_size=4096, sr=22050, n_mfcc=16, n_frame=16):\n",
    "    mfcc = np.empty((0, n_mfcc, n_frame))\n",
    "    y = []\n",
    "    print(raw.shape)\n",
    "    for i in range(0, len(raw), chunk_size//2):\n",
    "        mfcc_slice = librosa.feature.mfcc(raw[i:i+chunk_size], sr=sr, n_mfcc=n_mfcc) #n_mfcc,17\n",
    "        if mfcc_slice.shape[1] < 17:\n",
    "            print(\"small end:\", mfcc_slice.shape)\n",
    "            continue\n",
    "        mfcc_slice = mfcc_slice[:,:-1]\n",
    "        mfcc_slice = mfcc_slice.reshape((1, mfcc_slice.shape[0], mfcc_slice.shape[1]))\n",
    "        mfcc = np.vstack((mfcc, mfcc_slice))\n",
    "        y.append(label)\n",
    "    y = np.array(y)\n",
    "    return mfcc, y"
   ]
  },
  {
   "cell_type": "code",
   "execution_count": 8,
   "metadata": {},
   "outputs": [
    {
     "name": "stdout",
     "output_type": "stream",
     "text": [
      "(8911343,)\n",
      "small end: (16, 13)\n",
      "small end: (16, 5)\n",
      "(24229087,)\n",
      "small end: (16, 11)\n",
      "small end: (16, 3)\n",
      "(9289728,)\n",
      "small end: (16, 9)\n",
      "(5914, 16, 16) (5914,)\n",
      "(2174, 16, 16) (2174,)\n",
      "(2267, 16, 16) (2267,)\n"
     ]
    }
   ],
   "source": [
    "mfcc_loaded, y_loaded = mfcc4(loaded_raw, 2)\n",
    "mfcc_uav, y_uav = mfcc4(uav_raw, 1)\n",
    "mfcc_none, y_none = mfcc4(none_raw, 0)\n",
    "\n",
    "print(mfcc_uav.shape, y_uav.shape)\n",
    "print(mfcc_loaded.shape, y_loaded.shape)\n",
    "print(mfcc_none.shape, y_none.shape)"
   ]
  },
  {
   "cell_type": "code",
   "execution_count": 9,
   "metadata": {},
   "outputs": [
    {
     "name": "stdout",
     "output_type": "stream",
     "text": [
      "(10355, 16, 16) (10355,)\n"
     ]
    }
   ],
   "source": [
    "X = np.concatenate((mfcc_loaded, mfcc_uav, mfcc_none), axis=0)\n",
    "y = np.hstack((y_loaded, y_uav, y_none))\n",
    "print(X.shape, y.shape)"
   ]
  },
  {
   "cell_type": "code",
   "execution_count": 10,
   "metadata": {},
   "outputs": [],
   "source": [
    "X = np.reshape(X,(X.shape[0],-1)) #reshape"
   ]
  },
  {
   "cell_type": "code",
   "execution_count": 11,
   "metadata": {
    "scrolled": true
   },
   "outputs": [
    {
     "data": {
      "text/plain": [
       "(10355, 256)"
      ]
     },
     "execution_count": 11,
     "metadata": {},
     "output_type": "execute_result"
    }
   ],
   "source": [
    "X.shape"
   ]
  },
  {
   "cell_type": "code",
   "execution_count": 12,
   "metadata": {},
   "outputs": [
    {
     "name": "stdout",
     "output_type": "stream",
     "text": [
      "(10355, 3)\n"
     ]
    }
   ],
   "source": [
    "n_labels = y.shape[0]\n",
    "n_unique_labels = 3\n",
    "y_encoded = np.zeros((n_labels, n_unique_labels))\n",
    "y_encoded[np.arange(n_labels), y] = 1\n",
    "print(y_encoded.shape)"
   ]
  },
  {
   "cell_type": "code",
   "execution_count": 13,
   "metadata": {},
   "outputs": [],
   "source": [
    "from sklearn import model_selection\n",
    "X_train, X_test, y_train, y_test = model_selection.train_test_split(X, y_encoded, test_size=0.2, random_state=42)"
   ]
  },
  {
   "cell_type": "code",
   "execution_count": 14,
   "metadata": {},
   "outputs": [],
   "source": [
    "X_train, X_val, y_train, y_val = model_selection.train_test_split(X_train, y_train, test_size=0.2, random_state=42)"
   ]
  },
  {
   "cell_type": "code",
   "execution_count": 15,
   "metadata": {},
   "outputs": [
    {
     "name": "stdout",
     "output_type": "stream",
     "text": [
      "(6627, 256) (6627, 3)\n",
      "(1657, 256) (1657, 3)\n",
      "(2071, 256) (2071, 3)\n"
     ]
    }
   ],
   "source": [
    "print(X_train.shape,y_train.shape)\n",
    "print(X_val.shape, y_val.shape)\n",
    "print(X_test.shape, y_test.shape)"
   ]
  },
  {
   "cell_type": "code",
   "execution_count": 16,
   "metadata": {},
   "outputs": [],
   "source": [
    "### path selection between jaesung & gunhoo ###\n",
    "np.save('C:/Users/Jaesung/Desktop/코딩/Python실습/K-SW-PJT/RW_AUDIO_DATA_2018_Update/RW_AUDIO_DATA_2018_Update/Xy/X_train_chunk_3d', X_train)\n",
    "np.save('C:/Users/Jaesung/Desktop/코딩/Python실습/K-SW-PJT/RW_AUDIO_DATA_2018_Update/RW_AUDIO_DATA_2018_Update/Xy/X_test_chunk_3d', X_test)\n",
    "np.save('C:/Users/Jaesung/Desktop/코딩/Python실습/K-SW-PJT/RW_AUDIO_DATA_2018_Update/RW_AUDIO_DATA_2018_Update/Xy/y_train_chunk_3d', y_train)\n",
    "np.save('C:/Users/Jaesung/Desktop/코딩/Python실습/K-SW-PJT/RW_AUDIO_DATA_2018_Update/RW_AUDIO_DATA_2018_Update/Xy/y_test_chunk_3d', y_test)\n",
    "np.save('C:/Users/Jaesung/Desktop/코딩/Python실습/K-SW-PJT/RW_AUDIO_DATA_2018_Update/RW_AUDIO_DATA_2018_Update/Xy/X_test_chunk_3d', X_test)\n",
    "np.save('C:/Users/Jaesung/Desktop/코딩/Python실습/K-SW-PJT/RW_AUDIO_DATA_2018_Update/RW_AUDIO_DATA_2018_Update/Xy/y_val_chunk_3d', y_val)\n",
    "np.save('C:/Users/Jaesung/Desktop/코딩/Python실습/K-SW-PJT/RW_AUDIO_DATA_2018_Update/RW_AUDIO_DATA_2018_Update/Xy/X_val_chunk_3d', X_val)\n",
    "#np.save('../../../RW_AUDIO_DATA_2018_Update/Xy/X_train_chunk_3d', X_train)\n",
    "#np.save('../../../RW_AUDIO_DATA_2018_Update/Xy/X_test_chunk_3d', X_test)\n",
    "#np.save('../../../RW_AUDIO_DATA_2018_Update/Xy/y_train_chunk_3d', y_train)\n",
    "#np.save('../../../RW_AUDIO_DATA_2018_Update/Xy/y_test_chunk_3d', y_test)"
   ]
  },
  {
   "cell_type": "code",
   "execution_count": 17,
   "metadata": {},
   "outputs": [],
   "source": [
    "### path selection between jaesung & gunhoo ###\n",
    "X_train = np.load('C:/Users/Jaesung/Desktop/코딩/Python실습/K-SW-PJT/RW_AUDIO_DATA_2018_Update/RW_AUDIO_DATA_2018_Update/Xy/X_train_chunk_3d.npy')\n",
    "X_test = np.load('C:/Users/Jaesung/Desktop/코딩/Python실습/K-SW-PJT/RW_AUDIO_DATA_2018_Update/RW_AUDIO_DATA_2018_Update/Xy/X_test_chunk_3d.npy')\n",
    "y_train = np.load('C:/Users/Jaesung/Desktop/코딩/Python실습/K-SW-PJT/RW_AUDIO_DATA_2018_Update/RW_AUDIO_DATA_2018_Update/Xy/y_train_chunk_3d.npy')\n",
    "y_test = np.load('C:/Users/Jaesung/Desktop/코딩/Python실습/K-SW-PJT/RW_AUDIO_DATA_2018_Update/RW_AUDIO_DATA_2018_Update/Xy/y_test_chunk_3d.npy')\n",
    "y_val = np.load('C:/Users/Jaesung/Desktop/코딩/Python실습/K-SW-PJT/RW_AUDIO_DATA_2018_Update/RW_AUDIO_DATA_2018_Update/Xy/y_val_chunk_3d.npy')\n",
    "X_val = np.load('C:/Users/Jaesung/Desktop/코딩/Python실습/K-SW-PJT/RW_AUDIO_DATA_2018_Update/RW_AUDIO_DATA_2018_Update/Xy/X_val_chunk_3d.npy')\n",
    "\n",
    "#X_train = np.load('../../../RW_AUDIO_DATA_2018_Update/Xy/X_train_chunk_3d.npy')\n",
    "#X_test = np.load('../../../RW_AUDIO_DATA_2018_Update/Xy/X_test_chunk_3d.npy')\n",
    "#y_train = np.load('../../../RW_AUDIO_DATA_2018_Update/Xy/y_train_chunk_3d.npy')\n",
    "#y_test = np.load('../../../RW_AUDIO_DATA_2018_Update/Xy/y_test_chunk_3d.npy')"
   ]
  },
  {
   "cell_type": "markdown",
   "metadata": {},
   "source": [
    "# Dense Experiment\n"
   ]
  },
  {
   "cell_type": "code",
   "execution_count": 18,
   "metadata": {},
   "outputs": [],
   "source": [
    "tf.reset_default_graph()"
   ]
  },
  {
   "cell_type": "code",
   "execution_count": 19,
   "metadata": {},
   "outputs": [],
   "source": [
    "n_mfcc = 16\n",
    "n_frame = 16\n",
    "n_classes = 3\n",
    "n_channels = 1\n",
    "\n",
    "learning_rate = 0.0002  \n"
   ]
  },
  {
   "cell_type": "markdown",
   "metadata": {},
   "source": [
    "## Experiment \n",
    "- learning rate 0.0002\n",
    "- dense with dropout / five layers\n",
    "- multiclass(3) classifier model\n",
    "- Loaded UAV / Unloaded UAV / Background noise"
   ]
  },
  {
   "cell_type": "code",
   "execution_count": 20,
   "metadata": {},
   "outputs": [],
   "source": [
    "X = tf.placeholder(tf.float32, shape=[None,n_mfcc*n_frame*n_channels])\n",
    "#X = tf.reshape(X, [-1, n_mfcc, n_frame, n_channels]) #fully connected에는 리셰입 안해도 된다 \n",
    "Y = tf.placeholder(tf.float32, shape=[None,n_classes])\n",
    "\n",
    "keep_prob = tf.placeholder(tf.float32)\n",
    "\n",
    "#dense2 = tf.layers.dense(inputs=flat, units=625, activation=tf.nn.relu)\n",
    "#dropout2 = tf.layers.dropout(inputs=dense2, rate=0.5, training=True)\n",
    "\n",
    "dense1 = tf.layers.dense(inputs=X, units=256, activation=tf.nn.relu)\n",
    "dropout1 = tf.nn.dropout(dense1, keep_prob=keep_prob)\n",
    "\n",
    "\n",
    "dense2 = tf.layers.dense(inputs=dropout1, units=256, activation=tf.nn.relu)\n",
    "dropout2 = tf.nn.dropout(dense2, keep_prob=keep_prob)\n",
    "\n",
    "dense3 = tf.layers.dense(inputs=dropout2, units=512, activation=tf.nn.relu)\n",
    "dropout3 = tf.nn.dropout(dense3, keep_prob=keep_prob)\n",
    "\n",
    "#없는게 더 잘나온다\n",
    "#dense4 = tf.layers.dense(inputs=dropout3, units=512, activation=tf.nn.relu)\n",
    "#dropout4 = tf.nn.dropout(dense4, keep_prob=keep_prob)\n",
    "\n",
    "\n",
    "dense5 = tf.layers.dense(inputs=dropout3, units=256, activation=tf.nn.relu)\n",
    "dropout5 = tf.nn.dropout(dense5, keep_prob=keep_prob)\n",
    "\n",
    "\n",
    "logits= tf.layers.dense(inputs=dropout5, units=3)\n",
    "\n",
    "cost = tf.reduce_mean(tf.nn.softmax_cross_entropy_with_logits_v2(logits=logits, labels=Y))\n",
    "optimizer = tf.train.AdamOptimizer(learning_rate=learning_rate).minimize(cost)"
   ]
  },
  {
   "cell_type": "code",
   "execution_count": 21,
   "metadata": {},
   "outputs": [],
   "source": [
    "sess = tf.Session()\n",
    "sess.run(tf.global_variables_initializer())"
   ]
  },
  {
   "cell_type": "code",
   "execution_count": 22,
   "metadata": {},
   "outputs": [],
   "source": [
    "model_path = 'C:/Users/Jaesung/Desktop/코딩/Python실습/K-SW-PJT/GIt/uav-audio-detection/models/CNN/my_test_model_cnn'\n",
    "#model_path = '../models/CNN/my_test_model_cnn'\n",
    "#saver = tf.train.Saver()\n",
    "#model_path = './model_cnn.ckpt'\n",
    "#model_path = '../my_test_model_cnn'\n",
    "saver = tf.train.Saver()"
   ]
  },
  {
   "cell_type": "code",
   "execution_count": 23,
   "metadata": {},
   "outputs": [],
   "source": [
    "import math"
   ]
  },
  {
   "cell_type": "code",
   "execution_count": 24,
   "metadata": {
    "scrolled": false
   },
   "outputs": [],
   "source": [
    "with tf.name_scope(\"eval\"):\n",
    "    correct = tf.nn.in_top_k(logits, y, 1)\n",
    "    accuracy = tf.reduce_mean(tf.cast(correct, tf.float32))\n",
    "#    accuracy_summary = tf.summary.scalar('accuracy', accuracy)"
   ]
  },
  {
   "cell_type": "code",
   "execution_count": 25,
   "metadata": {},
   "outputs": [],
   "source": [
    "from sklearn.metrics import accuracy_score"
   ]
  },
  {
   "cell_type": "code",
   "execution_count": 26,
   "metadata": {
    "scrolled": false
   },
   "outputs": [
    {
     "name": "stdout",
     "output_type": "stream",
     "text": [
      "Epoch: 0001 cost =  0.281176475 \t검증 세트 정확도: 76.162%\n",
      "Epoch: 0002 cost =  0.058433155 \t검증 세트 정확도: 74.894%\n",
      "Epoch: 0003 cost =  0.026259784 \t검증 세트 정확도: 76.343%\n",
      "Epoch: 0004 cost =  0.016328700 \t검증 세트 정확도: 80.809%\n",
      "Epoch: 0005 cost =  0.012241631 \t검증 세트 정확도: 78.817%\n",
      "Epoch: 0006 cost =  0.010446246 \t검증 세트 정확도: 78.153%\n",
      "Epoch: 0007 cost =  0.009195140 \t검증 세트 정확도: 82.016%\n",
      "Epoch: 0008 cost =  0.008163803 \t검증 세트 정확도: 85.938%\n",
      "Epoch: 0009 cost =  0.007186800 \t검증 세트 정확도: 92.879%\n",
      "Epoch: 0010 cost =  0.006180224 \t검증 세트 정확도: 93.180%\n",
      "Epoch: 0011 cost =  0.005136853 \t검증 세트 정확도: 94.568%\n",
      "Epoch: 0012 cost =  0.004771476 \t검증 세트 정확도: 94.146%\n",
      "Epoch: 0013 cost =  0.004166785 \t검증 세트 정확도: 94.508%\n",
      "Epoch: 0014 cost =  0.003970176 \t검증 세트 정확도: 94.508%\n",
      "Epoch: 0015 cost =  0.003804638 \t검증 세트 정확도: 94.448%\n",
      "Epoch: 0016 cost =  0.003495110 \t검증 세트 정확도: 94.387%\n",
      "Epoch: 0017 cost =  0.003468019 \t검증 세트 정확도: 94.508%\n",
      "Epoch: 0018 cost =  0.003447232 \t검증 세트 정확도: 94.870%\n",
      "Epoch: 0019 cost =  0.003236705 \t검증 세트 정확도: 94.870%\n",
      "Epoch: 0020 cost =  0.003244167 \t검증 세트 정확도: 94.629%\n",
      "Epoch: 0021 cost =  0.003006238 \t검증 세트 정확도: 94.810%\n",
      "Epoch: 0022 cost =  0.003083498 \t검증 세트 정확도: 94.629%\n",
      "Epoch: 0023 cost =  0.002996451 \t검증 세트 정확도: 94.750%\n",
      "Epoch: 0024 cost =  0.002972318 \t검증 세트 정확도: 94.931%\n",
      "Epoch: 0025 cost =  0.002750596 \t검증 세트 정확도: 94.689%\n",
      "Epoch: 0026 cost =  0.002853468 \t검증 세트 정확도: 95.112%\n",
      "Epoch: 0027 cost =  0.002867754 \t검증 세트 정확도: 95.051%\n",
      "Epoch: 0028 cost =  0.002711337 \t검증 세트 정확도: 94.931%\n",
      "Epoch: 0029 cost =  0.002793545 \t검증 세트 정확도: 95.112%\n",
      "Epoch: 0030 cost =  0.002691765 \t검증 세트 정확도: 95.232%\n",
      "Epoch: 0031 cost =  0.002643299 \t검증 세트 정확도: 95.172%\n",
      "Epoch: 0032 cost =  0.002612308 \t검증 세트 정확도: 94.991%\n",
      "Epoch: 0033 cost =  0.002418381 \t검증 세트 정확도: 94.750%\n",
      "Epoch: 0034 cost =  0.002423851 \t검증 세트 정확도: 95.051%\n",
      "Epoch: 0035 cost =  0.002483797 \t검증 세트 정확도: 95.051%\n",
      "Epoch: 0036 cost =  0.002470945 \t검증 세트 정확도: 95.293%\n",
      "Epoch: 0037 cost =  0.002324054 \t검증 세트 정확도: 95.172%\n",
      "Epoch: 0038 cost =  0.002473193 \t검증 세트 정확도: 95.232%\n",
      "Epoch: 0039 cost =  0.002346280 \t검증 세트 정확도: 95.293%\n",
      "Epoch: 0040 cost =  0.002430909 \t검증 세트 정확도: 95.413%\n",
      "Epoch: 0041 cost =  0.002302412 \t검증 세트 정확도: 94.991%\n",
      "Epoch: 0042 cost =  0.002344760 \t검증 세트 정확도: 95.232%\n",
      "Epoch: 0043 cost =  0.002275618 \t검증 세트 정확도: 95.172%\n",
      "Epoch: 0044 cost =  0.002231024 \t검증 세트 정확도: 95.172%\n",
      "Epoch: 0045 cost =  0.002124950 \t검증 세트 정확도: 95.293%\n",
      "Epoch: 0046 cost =  0.002258878 \t검증 세트 정확도: 95.353%\n",
      "Epoch: 0047 cost =  0.002290250 \t검증 세트 정확도: 95.353%\n",
      "Epoch: 0048 cost =  0.002350832 \t검증 세트 정확도: 95.534%\n",
      "Epoch: 0049 cost =  0.002205333 \t검증 세트 정확도: 95.594%\n"
     ]
    },
    {
     "data": {
      "text/plain": [
       "'C:/Users/Jaesung/Desktop/코딩/Python실습/K-SW-PJT/GIt/uav-audio-detection/models/CNN/my_test_model_cnn'"
      ]
     },
     "execution_count": 26,
     "metadata": {},
     "output_type": "execute_result"
    }
   ],
   "source": [
    "#original \n",
    "batch_size = 64\n",
    "cost_history = np.empty(shape=[1], dtype=float)\n",
    "\n",
    "for epoch in range(1,50):\n",
    "    avg_cost = 0    \n",
    "#    total_batch = int(X_train.shape[0] / batch_size)\n",
    "    for i in range( int(math.ceil(len(X_train)/batch_size)) ): # 배치 사이즈로 나눈 나머지 다 돌 수 있게 \n",
    "        x_ = X_train[batch_size * i: batch_size * (i + 1)]\n",
    "        y_ = y_train[batch_size * i: batch_size * (i + 1)]\n",
    "        feed_dict={X:x_, Y:y_, keep_prob:0.6}   \n",
    "        c, _ = sess.run([cost, optimizer], feed_dict=feed_dict)\n",
    "        cost_history = np.append(cost_history,cost)\n",
    "        avg_cost += c\n",
    "    #accuracy_val = sess.run([accuracy], feed_dict={X:X_val, Y:y_val\n",
    "    val_pred = sess.run(tf.argmax(logits,1),feed_dict={X: X_val , keep_prob:1})  \n",
    "    val_true = sess.run(tf.argmax(y_val,1))\n",
    "    accuracy_val = accuracy_score(val_pred, val_true)\n",
    "    print('Epoch:', '%04d' % (epoch), 'cost = ', '{:.9f}'.format(avg_cost / len(X_train)), \"\\t검증 세트 정확도: {:.3f}%\".format(accuracy_val * 100),)\n",
    "saver.save(sess, model_path)\n",
    "\n",
    "#if epoch% 20 == 0:\n",
    "#   save"
   ]
  },
  {
   "cell_type": "code",
   "execution_count": 27,
   "metadata": {},
   "outputs": [],
   "source": [
    "y_pred = sess.run(tf.argmax(logits,1),feed_dict={X: X_test , keep_prob:1}) # keep_prob 삭제  \n",
    "y_true = sess.run(tf.argmax(y_test,1))"
   ]
  },
  {
   "cell_type": "code",
   "execution_count": 28,
   "metadata": {},
   "outputs": [
    {
     "name": "stdout",
     "output_type": "stream",
     "text": [
      "F-Score: 0.951\n",
      "Accuracy:  0.951231289232255\n",
      "             precision    recall  f1-score   support\n",
      "\n",
      "          0       1.00      1.00      1.00       447\n",
      "          1       0.96      0.96      0.96      1176\n",
      "          2       0.89      0.89      0.89       448\n",
      "\n",
      "avg / total       0.95      0.95      0.95      2071\n",
      "\n",
      "[[ 447    0    0]\n",
      " [   0 1126   50]\n",
      " [   0   51  397]]\n"
     ]
    }
   ],
   "source": [
    "from sklearn.metrics import precision_recall_fscore_support\n",
    "p,r,f,s = precision_recall_fscore_support(y_true, y_pred, average='micro')\n",
    "print(\"F-Score:\", round(f,3))\n",
    "from sklearn.metrics import accuracy_score\n",
    "print(\"Accuracy: \", accuracy_score(y_true, y_pred))\n",
    "\n",
    "from sklearn.metrics import classification_report\n",
    "print(classification_report(y_true, y_pred))\n",
    "from sklearn.metrics import confusion_matrix\n",
    "print(confusion_matrix(y_true, y_pred))"
   ]
  },
  {
   "cell_type": "code",
   "execution_count": null,
   "metadata": {},
   "outputs": [],
   "source": []
  }
 ],
 "metadata": {
  "kernelspec": {
   "display_name": "Python 3",
   "language": "python",
   "name": "python3"
  },
  "language_info": {
   "codemirror_mode": {
    "name": "ipython",
    "version": 3
   },
   "file_extension": ".py",
   "mimetype": "text/x-python",
   "name": "python",
   "nbconvert_exporter": "python",
   "pygments_lexer": "ipython3",
   "version": "3.6.4"
  }
 },
 "nbformat": 4,
 "nbformat_minor": 2
}
