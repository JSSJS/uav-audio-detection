{
 "cells": [
  {
   "cell_type": "code",
   "execution_count": 1,
   "metadata": {
    "scrolled": true
   },
   "outputs": [],
   "source": [
    "import matplotlib.pyplot as plt\n",
    "%matplotlib inline\n",
    "import IPython.display\n",
    "import librosa.display\n",
    "import numpy as np\n",
    "import librosa\n",
    "import tensorflow as tf\n",
    "import glob"
   ]
  },
  {
   "cell_type": "code",
   "execution_count": 2,
   "metadata": {},
   "outputs": [],
   "source": [
    "from sklearn.model_selection import KFold\n",
    "from sklearn.metrics import precision_recall_fscore_support\n",
    "from sklearn.metrics import accuracy_score\n",
    "from sklearn.metrics import classification_report\n",
    "from sklearn.metrics import confusion_matrix\n",
    "import itertools as it"
   ]
  },
  {
   "cell_type": "code",
   "execution_count": 3,
   "metadata": {},
   "outputs": [],
   "source": [
    "# Declare Variables\n",
    "n_mfcc = 16\n",
    "n_frame = 16\n",
    "n_classes = 3\n",
    "n_channels = 1\n",
    "learning_rate = 0.0002  # 0.005"
   ]
  },
  {
   "cell_type": "code",
   "execution_count": 4,
   "metadata": {},
   "outputs": [],
   "source": [
    "def run_train(session, train_x, train_y):\n",
    "    print (\"\\nStart training\")\n",
    "    session.run(init)\n",
    "    for epoch in range(10):\n",
    "        total_batch = int(train_x.shape[0] / batch_size)\n",
    "        for i in range(total_batch):\n",
    "            batch_x = train_x[i*batch_size:(i+1)*batch_size]\n",
    "            batch_y = train_y[i*batch_size:(i+1)*batch_size]\n",
    "            _, c = session.run([optimizer, cost], feed_dict={X: batch_x, Y: batch_y})\n",
    "            if i % 100 == 0:\n",
    "                print (\"Epoch #%d step=%d cost=%f\" % (epoch, i, c))"
   ]
  },
  {
   "cell_type": "code",
   "execution_count": 5,
   "metadata": {},
   "outputs": [],
   "source": [
    "def cross_validate(session, split_size=5):\n",
    "    results = []\n",
    "    kf = KFold(n_splits=split_size)\n",
    "    for train_idx, val_idx in kf.split(X_train2, y_train):\n",
    "        train_x = X_train2[train_idx]\n",
    "        train_y = y_train[train_idx]\n",
    "        val_x = X_train2[val_idx]\n",
    "        val_y = y_train[val_idx]\n",
    "        run_train(session, train_x, train_y)\n",
    "        y_true = session.run(tf.argmax(val_y,1))\n",
    "        y_pred = session.run(tf.argmax(logits,1),feed_dict={X: val_x})\n",
    "        from sklearn.metrics import accuracy_score\n",
    "        results.append(accuracy_score(y_true, y_pred))\n",
    "    return results"
   ]
  },
  {
   "cell_type": "code",
   "execution_count": 6,
   "metadata": {},
   "outputs": [],
   "source": [
    "### Data Loading ###\n",
    "X_train = np.load('./X_train_chunk_3d.npy')\n",
    "X_test = np.load('./X_test_chunk_3d.npy')\n",
    "y_train = np.load('./y_train_chunk_3d.npy')\n",
    "y_test = np.load('./y_test_chunk_3d.npy')"
   ]
  },
  {
   "cell_type": "markdown",
   "metadata": {},
   "source": [
    "# Convolutional Layer"
   ]
  },
  {
   "cell_type": "code",
   "execution_count": 7,
   "metadata": {},
   "outputs": [],
   "source": [
    "tf.reset_default_graph()"
   ]
  },
  {
   "cell_type": "code",
   "execution_count": 8,
   "metadata": {},
   "outputs": [],
   "source": [
    "X = tf.placeholder(tf.float32, shape=[None,n_mfcc*n_frame*n_channels])\n",
    "X = tf.reshape(X, [-1, n_mfcc, n_frame, n_channels])\n",
    "Y = tf.placeholder(tf.float32, shape=[None,n_classes])\n",
    "\n",
    "conv1 = tf.layers.conv2d(inputs=X, filters=1, kernel_size=[3, 3],\n",
    "                         padding=\"SAME\", activation=tf.nn.relu)\n",
    "pool1 = tf.layers.max_pooling2d(inputs=conv1, pool_size=[2, 2],\n",
    "                                padding=\"SAME\", strides=1)\n",
    "\n",
    "conv2 = tf.layers.conv2d(inputs=pool1, filters=1, kernel_size=[3, 3],\n",
    "                         padding=\"SAME\", activation=tf.nn.relu)\n",
    "pool2 = tf.layers.max_pooling2d(inputs=conv2, pool_size=[2, 2],\n",
    "                                padding=\"SAME\", strides=1)\n",
    "\n",
    "flat = tf.reshape(pool2, [-1, 16*16*1])"
   ]
  },
  {
   "cell_type": "code",
   "execution_count": 9,
   "metadata": {},
   "outputs": [],
   "source": [
    "dense2 = tf.layers.dense(inputs=flat, units=625, activation=tf.nn.relu)\n",
    "logits = tf.layers.dense(inputs=dense2, units=3)\n",
    "\n",
    "cost = tf.reduce_mean(tf.nn.softmax_cross_entropy_with_logits_v2(logits=logits, labels=Y))\n",
    "optimizer = tf.train.AdamOptimizer(learning_rate=learning_rate).minimize(cost)"
   ]
  },
  {
   "cell_type": "code",
   "execution_count": 10,
   "metadata": {},
   "outputs": [],
   "source": [
    "X_train2 = X_train.reshape(X_train.shape[0], X_train.shape[1], X_train.shape[2], 1)\n",
    "X_test2 = X_test.reshape(X_test.shape[0], X_test.shape[1], X_test.shape[2], 1)\n",
    "\n",
    "Y_pred = tf.contrib.layers.fully_connected(logits,n_classes,activation_fn = None)"
   ]
  },
  {
   "cell_type": "code",
   "execution_count": 11,
   "metadata": {},
   "outputs": [],
   "source": [
    "init = tf.global_variables_initializer()\n",
    "correct_prediction = tf.equal(tf.argmax(Y_pred, 1), tf.argmax(Y, 1))\n",
    "accuracy = tf.reduce_mean(tf.cast(correct_prediction, tf.float32))"
   ]
  },
  {
   "cell_type": "code",
   "execution_count": 12,
   "metadata": {},
   "outputs": [],
   "source": [
    "### Save Model ###\n",
    "model_path = './cnnmodel'\n",
    "saver = tf.train.Saver()"
   ]
  },
  {
   "cell_type": "markdown",
   "metadata": {},
   "source": [
    "# Run Model"
   ]
  },
  {
   "cell_type": "code",
   "execution_count": 13,
   "metadata": {
    "scrolled": true
   },
   "outputs": [
    {
     "name": "stdout",
     "output_type": "stream",
     "text": [
      "\n",
      "Start training\n",
      "Epoch #0 step=0 cost=113.060822\n",
      "Epoch #0 step=100 cost=1.360518\n",
      "Epoch #0 step=200 cost=0.980379\n",
      "Epoch #1 step=0 cost=0.897215\n",
      "Epoch #1 step=100 cost=1.005286\n",
      "Epoch #1 step=200 cost=0.633064\n",
      "Epoch #2 step=0 cost=0.750815\n",
      "Epoch #2 step=100 cost=0.866993\n",
      "Epoch #2 step=200 cost=0.631383\n",
      "Epoch #3 step=0 cost=0.591807\n",
      "Epoch #3 step=100 cost=0.741926\n",
      "Epoch #3 step=200 cost=0.603986\n",
      "Epoch #4 step=0 cost=0.513372\n",
      "Epoch #4 step=100 cost=0.631998\n",
      "Epoch #4 step=200 cost=0.582623\n",
      "Epoch #5 step=0 cost=0.474891\n",
      "Epoch #5 step=100 cost=0.621600\n",
      "Epoch #5 step=200 cost=0.575095\n",
      "Epoch #6 step=0 cost=0.428352\n",
      "Epoch #6 step=100 cost=0.489965\n",
      "Epoch #6 step=200 cost=0.567231\n",
      "Epoch #7 step=0 cost=0.415150\n",
      "Epoch #7 step=100 cost=0.462093\n",
      "Epoch #7 step=200 cost=0.488855\n",
      "Epoch #8 step=0 cost=0.403689\n",
      "Epoch #8 step=100 cost=0.433387\n",
      "Epoch #8 step=200 cost=0.443367\n",
      "Epoch #9 step=0 cost=0.416631\n",
      "Epoch #9 step=100 cost=0.442747\n",
      "Epoch #9 step=200 cost=0.388292\n",
      "\n",
      "Start training\n",
      "Epoch #0 step=0 cost=1.999835\n",
      "Epoch #0 step=100 cost=0.574081\n",
      "Epoch #0 step=200 cost=0.428697\n",
      "Epoch #1 step=0 cost=0.461956\n",
      "Epoch #1 step=100 cost=0.458516\n",
      "Epoch #1 step=200 cost=0.381716\n",
      "Epoch #2 step=0 cost=0.414568\n",
      "Epoch #2 step=100 cost=0.413550\n",
      "Epoch #2 step=200 cost=0.347076\n",
      "Epoch #3 step=0 cost=0.386381\n",
      "Epoch #3 step=100 cost=0.393929\n",
      "Epoch #3 step=200 cost=0.321240\n",
      "Epoch #4 step=0 cost=0.366821\n",
      "Epoch #4 step=100 cost=0.375789\n",
      "Epoch #4 step=200 cost=0.304022\n",
      "Epoch #5 step=0 cost=0.348386\n",
      "Epoch #5 step=100 cost=0.364640\n",
      "Epoch #5 step=200 cost=0.290136\n",
      "Epoch #6 step=0 cost=0.335963\n",
      "Epoch #6 step=100 cost=0.353916\n",
      "Epoch #6 step=200 cost=0.275723\n",
      "Epoch #7 step=0 cost=0.323897\n",
      "Epoch #7 step=100 cost=0.340090\n",
      "Epoch #7 step=200 cost=0.265389\n",
      "Epoch #8 step=0 cost=0.307448\n",
      "Epoch #8 step=100 cost=0.328728\n",
      "Epoch #8 step=200 cost=0.255411\n",
      "Epoch #9 step=0 cost=0.291430\n",
      "Epoch #9 step=100 cost=0.315540\n",
      "Epoch #9 step=200 cost=0.247812\n",
      "\n",
      "Start training\n",
      "Epoch #0 step=0 cost=31.826508\n",
      "Epoch #0 step=100 cost=0.700597\n",
      "Epoch #0 step=200 cost=0.530514\n",
      "Epoch #1 step=0 cost=0.612174\n",
      "Epoch #1 step=100 cost=0.564404\n",
      "Epoch #1 step=200 cost=0.482948\n",
      "Epoch #2 step=0 cost=0.594511\n",
      "Epoch #2 step=100 cost=0.501906\n",
      "Epoch #2 step=200 cost=0.438737\n",
      "Epoch #3 step=0 cost=0.565640\n",
      "Epoch #3 step=100 cost=0.460059\n",
      "Epoch #3 step=200 cost=0.408374\n",
      "Epoch #4 step=0 cost=0.539159\n",
      "Epoch #4 step=100 cost=0.422658\n",
      "Epoch #4 step=200 cost=0.385910\n",
      "Epoch #5 step=0 cost=0.500468\n",
      "Epoch #5 step=100 cost=0.395885\n",
      "Epoch #5 step=200 cost=0.361116\n",
      "Epoch #6 step=0 cost=0.466727\n",
      "Epoch #6 step=100 cost=0.371611\n",
      "Epoch #6 step=200 cost=0.352803\n",
      "Epoch #7 step=0 cost=0.430455\n",
      "Epoch #7 step=100 cost=0.357557\n",
      "Epoch #7 step=200 cost=0.344685\n",
      "Epoch #8 step=0 cost=0.403835\n",
      "Epoch #8 step=100 cost=0.346471\n",
      "Epoch #8 step=200 cost=0.338018\n",
      "Epoch #9 step=0 cost=0.386243\n",
      "Epoch #9 step=100 cost=0.339439\n",
      "Epoch #9 step=200 cost=0.327917\n",
      "\n",
      "Start training\n",
      "Epoch #0 step=0 cost=12.809471\n",
      "Epoch #0 step=100 cost=0.835294\n",
      "Epoch #0 step=200 cost=0.670542\n",
      "Epoch #1 step=0 cost=0.542404\n",
      "Epoch #1 step=100 cost=0.544659\n",
      "Epoch #1 step=200 cost=0.706118\n",
      "Epoch #2 step=0 cost=0.540255\n",
      "Epoch #2 step=100 cost=0.503354\n",
      "Epoch #2 step=200 cost=0.647632\n",
      "Epoch #3 step=0 cost=0.479554\n",
      "Epoch #3 step=100 cost=0.463066\n",
      "Epoch #3 step=200 cost=0.482084\n",
      "Epoch #4 step=0 cost=0.425670\n",
      "Epoch #4 step=100 cost=0.488551\n",
      "Epoch #4 step=200 cost=0.627969\n",
      "Epoch #5 step=0 cost=0.398229\n",
      "Epoch #5 step=100 cost=0.418814\n",
      "Epoch #5 step=200 cost=0.575392\n",
      "Epoch #6 step=0 cost=0.399739\n",
      "Epoch #6 step=100 cost=0.379011\n",
      "Epoch #6 step=200 cost=0.512861\n",
      "Epoch #7 step=0 cost=0.388192\n",
      "Epoch #7 step=100 cost=0.369241\n",
      "Epoch #7 step=200 cost=0.483944\n",
      "Epoch #8 step=0 cost=0.395540\n",
      "Epoch #8 step=100 cost=0.359084\n",
      "Epoch #8 step=200 cost=0.457646\n",
      "Epoch #9 step=0 cost=0.409951\n",
      "Epoch #9 step=100 cost=0.351114\n",
      "Epoch #9 step=200 cost=0.445159\n",
      "\n",
      "Start training\n",
      "Epoch #0 step=0 cost=42.356075\n",
      "Epoch #0 step=100 cost=0.637678\n",
      "Epoch #0 step=200 cost=0.601257\n",
      "Epoch #1 step=0 cost=0.637194\n",
      "Epoch #1 step=100 cost=0.511357\n",
      "Epoch #1 step=200 cost=0.540363\n",
      "Epoch #2 step=0 cost=0.600355\n",
      "Epoch #2 step=100 cost=0.510619\n",
      "Epoch #2 step=200 cost=0.504161\n",
      "Epoch #3 step=0 cost=0.572074\n",
      "Epoch #3 step=100 cost=0.447830\n",
      "Epoch #3 step=200 cost=0.527462\n",
      "Epoch #4 step=0 cost=0.563103\n",
      "Epoch #4 step=100 cost=0.438510\n",
      "Epoch #4 step=200 cost=0.549578\n",
      "Epoch #5 step=0 cost=0.551555\n",
      "Epoch #5 step=100 cost=0.473111\n",
      "Epoch #5 step=200 cost=0.664791\n",
      "Epoch #6 step=0 cost=0.591694\n",
      "Epoch #6 step=100 cost=0.455248\n",
      "Epoch #6 step=200 cost=0.544755\n",
      "Epoch #7 step=0 cost=0.569913\n",
      "Epoch #7 step=100 cost=0.396592\n",
      "Epoch #7 step=200 cost=0.568903\n",
      "Epoch #8 step=0 cost=0.521079\n",
      "Epoch #8 step=100 cost=0.370776\n",
      "Epoch #8 step=200 cost=0.582176\n",
      "Epoch #9 step=0 cost=0.482111\n",
      "Epoch #9 step=100 cost=0.369898\n",
      "Epoch #9 step=200 cost=0.593578\n",
      "Cross-validation result: [0.8335770693185142, 0.8354782100029249, 0.8237788827142439, 0.8122257970166715, 0.8066686165545481]\n",
      "Test accuracy: 0.816672\n"
     ]
    }
   ],
   "source": [
    "###########################\n",
    "batch_size = 128\n",
    "cost_history = np.empty(shape=[1], dtype=float)\n",
    "\n",
    "with tf.Session() as session:\n",
    "    result = cross_validate(session)\n",
    "    print (\"Cross-validation result: %s\" % result)\n",
    "    y_true = session.run(tf.argmax(y_train,1))\n",
    "    y_pred = session.run(tf.argmax(logits,1),feed_dict={X: X_train2})\n",
    "    from sklearn.metrics import accuracy_score\n",
    "    print (\"Test accuracy: %f\" % accuracy_score(y_true, y_pred))\n",
    "    saver.save(session, model_path)\n",
    "    y_pred = session.run(tf.argmax(logits,1),feed_dict={X: X_test2})\n",
    "    y_true = session.run(tf.argmax(y_test,1))"
   ]
  },
  {
   "cell_type": "markdown",
   "metadata": {},
   "source": [
    "# Show  pred result of test set"
   ]
  },
  {
   "cell_type": "code",
   "execution_count": 14,
   "metadata": {},
   "outputs": [
    {
     "name": "stdout",
     "output_type": "stream",
     "text": [
      "F-Score: 0.815\n",
      "Accuracy:  0.8146934955545156\n",
      "             precision    recall  f1-score   support\n",
      "\n",
      "          0       0.84      0.89      0.86      3141\n",
      "          1       0.85      0.77      0.80      2975\n",
      "          2       0.75      0.78      0.76      2432\n",
      "\n",
      "avg / total       0.82      0.81      0.81      8548\n",
      "\n",
      "[[2793  136  212]\n",
      " [ 279 2283  413]\n",
      " [ 262  282 1888]]\n"
     ]
    },
    {
     "data": {
      "image/png": "[encoded data removed]",
      "text/plain": [
       "<Figure size 1080x648 with 1 Axes>"
      ]
     },
     "metadata": {},
     "output_type": "display_data"
    },
    {
     "data": {
      "image/png": "[encoded data removed]",
      "text/plain": [
       "<Figure size 1080x648 with 1 Axes>"
      ]
     },
     "metadata": {},
     "output_type": "display_data"
    }
   ],
   "source": [
    "from sklearn.metrics import precision_recall_fscore_support\n",
    "p,r,f,s = precision_recall_fscore_support(y_true, y_pred, average='micro')\n",
    "print(\"F-Score:\", round(f,3))\n",
    "from sklearn.metrics import accuracy_score\n",
    "print(\"Accuracy: \", accuracy_score(y_true, y_pred))\n",
    "\n",
    "### print true graph###\n",
    "fig = plt.figure(figsize=(15,9))\n",
    "ax = fig.add_subplot(1,1,1)\n",
    "ax.plot(np.linspace(0,len(y_pred), len(y_pred)),y_true)\n",
    "\n",
    "### print pred graph###\n",
    "fig = plt.figure(figsize=(15,9))\n",
    "ax = fig.add_subplot(1,1,1)\n",
    "ax.plot(np.linspace(0,len(y_pred), len(y_pred)),y_pred)\n",
    "\n",
    "from sklearn.metrics import classification_report\n",
    "print(classification_report(y_true, y_pred))\n",
    "from sklearn.metrics import confusion_matrix\n",
    "print(confusion_matrix(y_true, y_pred))"
   ]
  },
  {
   "cell_type": "code",
   "execution_count": null,
   "metadata": {},
   "outputs": [],
   "source": []
  }
 ],
 "metadata": {
  "kernelspec": {
   "display_name": "Python 3",
   "language": "python",
   "name": "python3"
  },
  "language_info": {
   "codemirror_mode": {
    "name": "ipython",
    "version": 3
   },
   "file_extension": ".py",
   "mimetype": "text/x-python",
   "name": "python",
   "nbconvert_exporter": "python",
   "pygments_lexer": "ipython3",
   "version": "3.6.6"
  }
 },
 "nbformat": 4,
 "nbformat_minor": 2
}
