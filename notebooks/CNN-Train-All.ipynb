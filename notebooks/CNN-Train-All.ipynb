{
 "cells": [
  {
   "cell_type": "code",
   "execution_count": 1,
   "metadata": {
    "scrolled": true
   },
   "outputs": [],
   "source": [
    "import matplotlib.pyplot as plt\n",
    "%matplotlib inline\n",
    "import IPython.display\n",
    "import librosa.display\n",
    "import numpy as np\n",
    "import librosa\n",
    "import tensorflow as tf\n",
    "import glob"
   ]
  },
  {
   "cell_type": "code",
   "execution_count": 2,
   "metadata": {},
   "outputs": [],
   "source": [
    "uav_path = './Purdue/record/unload/*.wav'\n",
    "loaded_path = './Purdue/record/load/*.wav'\n",
    "none_path = './Purdue/record/background/*.wav'\n",
    "\n",
    "uav_files = glob.glob(uav_path)\n",
    "loaded_files = glob.glob(loaded_path)\n",
    "none_files = glob.glob(none_path)"
   ]
  },
  {
   "cell_type": "code",
   "execution_count": 3,
   "metadata": {},
   "outputs": [],
   "source": [
    "CHUNK_SIZE = 8192\n",
    "SR = 44100\n",
    "N_MFCC = 16"
   ]
  },
  {
   "cell_type": "code",
   "execution_count": 4,
   "metadata": {},
   "outputs": [],
   "source": [
    "def load(files, sr=44100):\n",
    "    [raw, sr] = librosa.load(files[0], sr=sr)\n",
    "    for f in files[1:]:\n",
    "        [array, sr] = librosa.load(f, sr=sr)\n",
    "        raw = np.hstack((raw, array))\n",
    "    print(raw.shape)\n",
    "    return raw"
   ]
  },
  {
   "cell_type": "code",
   "execution_count": 5,
   "metadata": {},
   "outputs": [
    {
     "name": "stdout",
     "output_type": "stream",
     "text": [
      "(62212288,)\n",
      "(48921530,)\n",
      "(63941991,)\n"
     ]
    }
   ],
   "source": [
    "uav_raw = load(uav_files)\n",
    "loaded_raw = load(loaded_files)\n",
    "none_raw = load(none_files)"
   ]
  },
  {
   "cell_type": "markdown",
   "metadata": {},
   "source": [
    "# Data Processing"
   ]
  },
  {
   "cell_type": "code",
   "execution_count": 6,
   "metadata": {},
   "outputs": [],
   "source": [
    "def mfcc4(raw, label, chunk_size=8192, window_size=4096, sr=44100, n_mfcc=16, n_frame=16):\n",
    "    mfcc = np.empty((0, n_mfcc, n_frame))\n",
    "    y = []\n",
    "    print(raw.shape)\n",
    "    for i in range(0, len(raw), chunk_size//2):\n",
    "        mfcc_slice = librosa.feature.mfcc(raw[i:i+chunk_size], sr=sr, n_mfcc=n_mfcc) #n_mfcc,17\n",
    "        if mfcc_slice.shape[1] < 17:\n",
    "            print(\"small end:\", mfcc_slice.shape)\n",
    "            continue\n",
    "        mfcc_slice = mfcc_slice[:,:-1]\n",
    "        mfcc_slice = mfcc_slice.reshape((1, mfcc_slice.shape[0], mfcc_slice.shape[1]))\n",
    "        mfcc = np.vstack((mfcc, mfcc_slice))\n",
    "        y.append(label)\n",
    "    y = np.array(y)\n",
    "    return mfcc, y"
   ]
  },
  {
   "cell_type": "code",
   "execution_count": 7,
   "metadata": {},
   "outputs": [
    {
     "name": "stdout",
     "output_type": "stream",
     "text": [
      "(48921530,)\n",
      "small end: (16, 14)\n",
      "small end: (16, 6)\n",
      "(62212288,)\n",
      "small end: (16, 13)\n",
      "small end: (16, 5)\n",
      "(63941991,)\n",
      "small end: (16, 15)\n",
      "small end: (16, 7)\n",
      "(15187, 16, 16) (15187,)\n",
      "(11942, 16, 16) (11942,)\n",
      "(15609, 16, 16) (15609,)\n"
     ]
    }
   ],
   "source": [
    "mfcc_loaded, y_loaded = mfcc4(loaded_raw, 2)\n",
    "mfcc_uav, y_uav = mfcc4(uav_raw, 1)\n",
    "mfcc_none, y_none = mfcc4(none_raw, 0)\n",
    "\n",
    "print(mfcc_uav.shape, y_uav.shape)\n",
    "print(mfcc_loaded.shape, y_loaded.shape)\n",
    "print(mfcc_none.shape, y_none.shape)"
   ]
  },
  {
   "cell_type": "code",
   "execution_count": 8,
   "metadata": {},
   "outputs": [
    {
     "name": "stdout",
     "output_type": "stream",
     "text": [
      "(42738, 16, 16) (42738,)\n"
     ]
    }
   ],
   "source": [
    "X = np.concatenate((mfcc_loaded, mfcc_uav, mfcc_none), axis=0)\n",
    "y = np.hstack((y_loaded, y_uav, y_none))\n",
    "print(X.shape, y.shape)"
   ]
  },
  {
   "cell_type": "code",
   "execution_count": 9,
   "metadata": {},
   "outputs": [
    {
     "name": "stdout",
     "output_type": "stream",
     "text": [
      "(42738, 3)\n"
     ]
    }
   ],
   "source": [
    "n_labels = y.shape[0]\n",
    "n_unique_labels = 3\n",
    "y_encoded = np.zeros((n_labels, n_unique_labels))\n",
    "y_encoded[np.arange(n_labels), y] = 1\n",
    "print(y_encoded.shape)"
   ]
  },
  {
   "cell_type": "code",
   "execution_count": 10,
   "metadata": {},
   "outputs": [],
   "source": [
    "from sklearn import model_selection\n",
    "X_train, X_test, y_train, y_test = model_selection.train_test_split(X, y_encoded, test_size=0.2, random_state=42)"
   ]
  },
  {
   "cell_type": "code",
   "execution_count": 11,
   "metadata": {},
   "outputs": [],
   "source": [
    "# validation data\n",
    "X_train, X_val, y_train, y_val = model_selection.train_test_split(X_train, y_train, test_size=0.2, random_state=42)"
   ]
  },
  {
   "cell_type": "code",
   "execution_count": 12,
   "metadata": {},
   "outputs": [
    {
     "name": "stdout",
     "output_type": "stream",
     "text": [
      "(27352, 16, 16) (8548, 16, 16)\n",
      "(6838, 16, 16) (6838, 3)\n",
      "(27352, 3) (8548, 3)\n"
     ]
    }
   ],
   "source": [
    "print(X_train.shape, X_test.shape)\n",
    "print(X_val.shape, y_val.shape)\n",
    "print(y_train.shape, y_test.shape)"
   ]
  },
  {
   "cell_type": "code",
   "execution_count": 13,
   "metadata": {},
   "outputs": [],
   "source": [
    "np.save('./X_train_chunk_3d', X_train)\n",
    "np.save('./X_test_chunk_3d', X_test)\n",
    "np.save('./X_val_chunk_3d', X_val)\n",
    "np.save('./y_val_chunk_3d', y_val)\n",
    "np.save('./y_train_chunk_3d', y_train)\n",
    "np.save('./y_test_chunk_3d', y_test)"
   ]
  },
  {
   "cell_type": "code",
   "execution_count": 14,
   "metadata": {},
   "outputs": [],
   "source": [
    "X_train = np.load('./X_train_chunk_3d.npy')\n",
    "X_test = np.load('./X_test_chunk_3d.npy')\n",
    "X_val = np.load('./X_val_chunk_3d.npy')\n",
    "y_val = np.load('./y_val_chunk_3d.npy')\n",
    "y_train = np.load('./y_train_chunk_3d.npy')\n",
    "y_test = np.load('./y_test_chunk_3d.npy')"
   ]
  },
  {
   "cell_type": "markdown",
   "metadata": {},
   "source": [
    "# Experiment 3 - two convolutional layer /w no dropout"
   ]
  },
  {
   "cell_type": "markdown",
   "metadata": {},
   "source": [
    "##Experiment 3-2\n",
    "- learning rate 0.005\n",
    "- pooling stride 1x1\n",
    "- #filter 1\n",
    "- best result among every other settings\n",
    "- cost kept fluctuated during training. (0.8 -> 1.3) -- why is that?"
   ]
  },
  {
   "cell_type": "code",
   "execution_count": 15,
   "metadata": {},
   "outputs": [],
   "source": [
    "tf.reset_default_graph()"
   ]
  },
  {
   "cell_type": "code",
   "execution_count": 16,
   "metadata": {},
   "outputs": [],
   "source": [
    "n_mfcc = 16\n",
    "n_frame = 16\n",
    "n_classes = 3\n",
    "n_channels = 1\n",
    "\n",
    "learning_rate = 0.0002  # 0.005\n",
    "training_epochs = 100"
   ]
  },
  {
   "cell_type": "markdown",
   "metadata": {},
   "source": [
    "# Layer 1 "
   ]
  },
  {
   "cell_type": "code",
   "execution_count": 17,
   "metadata": {},
   "outputs": [],
   "source": [
    "X = tf.placeholder(tf.float32, shape=[None,n_mfcc*n_frame*n_channels])\n",
    "X = tf.reshape(X, [-1, n_mfcc, n_frame, n_channels])\n",
    "Y = tf.placeholder(tf.float32, shape=[None,n_classes])\n",
    "\n",
    "conv1 = tf.layers.conv2d(inputs=X, filters=1, kernel_size=[3, 3],\n",
    "                         padding=\"SAME\", activation=tf.nn.relu)\n",
    "pool1 = tf.layers.max_pooling2d(inputs=conv1, pool_size=[2, 2],\n",
    "                                padding=\"SAME\", strides=1)\n",
    "\n",
    "conv2 = tf.layers.conv2d(inputs=pool1, filters=1, kernel_size=[3, 3],\n",
    "                         padding=\"SAME\", activation=tf.nn.relu)\n",
    "pool2 = tf.layers.max_pooling2d(inputs=conv2, pool_size=[2, 2],\n",
    "                                padding=\"SAME\", strides=1)\n",
    "\n",
    "flat = tf.reshape(pool2, [-1, 16*16*1])"
   ]
  },
  {
   "cell_type": "code",
   "execution_count": 18,
   "metadata": {},
   "outputs": [],
   "source": [
    "dense2 = tf.layers.dense(inputs=flat, units=625, activation=tf.nn.relu)\n",
    "logits = tf.layers.dense(inputs=dense2, units=3)\n",
    "\n",
    "cost = tf.reduce_mean(tf.nn.softmax_cross_entropy_with_logits_v2(logits=logits, labels=Y))\n",
    "optimizer = tf.train.AdamOptimizer(learning_rate=learning_rate).minimize(cost)\n",
    "\n",
    "Y_pred = tf.contrib.layers.fully_connected(logits,n_classes,activation_fn = None)"
   ]
  },
  {
   "cell_type": "code",
   "execution_count": 19,
   "metadata": {},
   "outputs": [],
   "source": [
    "sess = tf.Session()\n",
    "sess.run(tf.global_variables_initializer())"
   ]
  },
  {
   "cell_type": "code",
   "execution_count": 20,
   "metadata": {},
   "outputs": [],
   "source": [
    "X_train2 = X_train.reshape(X_train.shape[0], X_train.shape[1], X_train.shape[2], 1)\n",
    "X_test2 = X_test.reshape(X_test.shape[0], X_test.shape[1], X_test.shape[2], 1)\n",
    "X_val2 = X_val.reshape(X_val.shape[0], X_val.shape[1], X_val.shape[2], 1)"
   ]
  },
  {
   "cell_type": "code",
   "execution_count": 21,
   "metadata": {},
   "outputs": [],
   "source": [
    "model_path = './cnnmodel'\n",
    "saver = tf.train.Saver()"
   ]
  },
  {
   "cell_type": "code",
   "execution_count": 22,
   "metadata": {},
   "outputs": [],
   "source": [
    "from sklearn.metrics import precision_recall_fscore_support\n",
    "from sklearn.metrics import accuracy_score\n",
    "from sklearn.metrics import classification_report\n",
    "from sklearn.metrics import confusion_matrix\n",
    "import itertools as it"
   ]
  },
  {
   "cell_type": "code",
   "execution_count": 23,
   "metadata": {
    "scrolled": false
   },
   "outputs": [
    {
     "name": "stdout",
     "output_type": "stream",
     "text": [
      "6838 Epoch: 0001 cost =  0.807879311 val =  0.720532\n",
      "6838 Epoch: 0002 cost =  0.609263219 val =  0.752852\n",
      "6838 Epoch: 0003 cost =  0.537968423 val =  0.763674\n",
      "6838 Epoch: 0004 cost =  0.505633178 val =  0.772156\n",
      "6838 Epoch: 0005 cost =  0.483982612 val =  0.778005\n",
      "6838 Epoch: 0006 cost =  0.466894661 val =  0.782100\n",
      "6838 Epoch: 0007 cost =  0.453041912 val =  0.788973\n",
      "6838 Epoch: 0008 cost =  0.439156479 val =  0.795554\n",
      "6838 Epoch: 0009 cost =  0.426243735 val =  0.800965\n",
      "6838 Epoch: 0010 cost =  0.413748059 val =  0.803598\n",
      "6838 Epoch: 0011 cost =  0.401782933 val =  0.806815\n",
      "6838 Epoch: 0012 cost =  0.390024238 val =  0.810617\n",
      "6838 Epoch: 0013 cost =  0.378153687 val =  0.810910\n",
      "6838 Epoch: 0014 cost =  0.366793027 val =  0.813688\n",
      "6838 Epoch: 0015 cost =  0.355619176 val =  0.816321\n",
      "6838 Epoch: 0016 cost =  0.343334396 val =  0.819099\n",
      "6838 Epoch: 0017 cost =  0.331528045 val =  0.822024\n",
      "6838 Epoch: 0018 cost =  0.319444293 val =  0.822170\n",
      "6838 Epoch: 0019 cost =  0.308301505 val =  0.824218\n",
      "6838 Epoch: 0020 cost =  0.297217447 val =  0.826704\n",
      "6838 Epoch: 0021 cost =  0.286866325 val =  0.824949\n",
      "6838 Epoch: 0022 cost =  0.276825048 val =  0.826411\n",
      "6838 Epoch: 0023 cost =  0.267434477 val =  0.824803\n",
      "6838 Epoch: 0024 cost =  0.259391315 val =  0.825241\n",
      "6838 Epoch: 0025 cost =  0.251189674 val =  0.824803\n",
      "6838 Epoch: 0026 cost =  0.243761867 val =  0.823633\n",
      "6838 Epoch: 0027 cost =  0.237123428 val =  0.822170\n",
      "6838 Epoch: 0028 cost =  0.231243832 val =  0.820562\n",
      "6838 Epoch: 0029 cost =  0.226726455 val =  0.817344\n",
      "6838 Epoch: 0030 cost =  0.222724002 val =  0.817198\n",
      "6838 Epoch: 0031 cost =  0.219583595 val =  0.816028\n",
      "6838 Epoch: 0032 cost =  0.215124629 val =  0.816613\n",
      "6838 Epoch: 0033 cost =  0.208089734 val =  0.816028\n",
      "6838 Epoch: 0034 cost =  0.202386711 val =  0.820123\n",
      "6838 Epoch: 0035 cost =  0.195579307 val =  0.816321\n",
      "6838 Epoch: 0036 cost =  0.189601320 val =  0.816321\n",
      "6838 Epoch: 0037 cost =  0.183553664 val =  0.816467\n",
      "6838 Epoch: 0038 cost =  0.177952566 val =  0.815736\n",
      "6838 Epoch: 0039 cost =  0.172358165 val =  0.816028\n",
      "6838 Epoch: 0040 cost =  0.166606449 val =  0.817344\n",
      "6838 Epoch: 0041 cost =  0.161334643 val =  0.816906\n",
      "6838 Epoch: 0042 cost =  0.156117602 val =  0.818222\n",
      "6838 Epoch: 0043 cost =  0.151674734 val =  0.819099\n",
      "6838 Epoch: 0044 cost =  0.146953883 val =  0.821293\n",
      "6838 Epoch: 0045 cost =  0.143042410 val =  0.824071\n",
      "6838 Epoch: 0046 cost =  0.139402490 val =  0.827142\n",
      "6838 Epoch: 0047 cost =  0.134771435 val =  0.829921\n",
      "6838 Epoch: 0048 cost =  0.131350750 val =  0.828166\n",
      "6838 Epoch: 0049 cost =  0.127724580 val =  0.829629\n",
      "6838 Epoch: 0050 cost =  0.124600049 val =  0.831383\n",
      "6838 Epoch: 0051 cost =  0.120469322 val =  0.834455\n",
      "6838 Epoch: 0052 cost =  0.116116704 val =  0.837233\n",
      "6838 Epoch: 0053 cost =  0.112110658 val =  0.835771\n",
      "6838 Epoch: 0054 cost =  0.107212259 val =  0.835624\n",
      "6838 Epoch: 0055 cost =  0.103457479 val =  0.833431\n",
      "6838 Epoch: 0056 cost =  0.100374492 val =  0.833870\n",
      "6838 Epoch: 0057 cost =  0.096711998 val =  0.833285\n",
      "6838 Epoch: 0058 cost =  0.092611593 val =  0.836209\n",
      "6838 Epoch: 0059 cost =  0.088458377 val =  0.836794\n",
      "6838 Epoch: 0060 cost =  0.085371545 val =  0.842937\n",
      "6838 Epoch: 0061 cost =  0.081347190 val =  0.843668\n",
      "6838 Epoch: 0062 cost =  0.079873716 val =  0.838257\n",
      "6838 Epoch: 0063 cost =  0.078440422 val =  0.840889\n",
      "6838 Epoch: 0064 cost =  0.077591220 val =  0.832846\n",
      "6838 Epoch: 0065 cost =  0.077467929 val =  0.828897\n",
      "6838 Epoch: 0066 cost =  0.077468437 val =  0.820854\n",
      "6838 Epoch: 0067 cost =  0.079177897 val =  0.819977\n",
      "6838 Epoch: 0068 cost =  0.086253716 val =  0.825973\n",
      "6838 Epoch: 0069 cost =  0.086151208 val =  0.826557\n",
      "6838 Epoch: 0070 cost =  0.083068552 val =  0.829629\n",
      "6838 Epoch: 0071 cost =  0.083494637 val =  0.825388\n",
      "6838 Epoch: 0072 cost =  0.083712272 val =  0.831968\n",
      "6838 Epoch: 0073 cost =  0.083221583 val =  0.833870\n",
      "6838 Epoch: 0074 cost =  0.078988230 val =  0.832700\n",
      "6838 Epoch: 0075 cost =  0.073754843 val =  0.833138\n",
      "6838 Epoch: 0076 cost =  0.066124889 val =  0.836941\n",
      "6838 Epoch: 0077 cost =  0.059649963 val =  0.837087\n",
      "6838 Epoch: 0078 cost =  0.053570147 val =  0.838549\n",
      "6838 Epoch: 0079 cost =  0.048482730 val =  0.839280\n",
      "6838 Epoch: 0080 cost =  0.044093300 val =  0.837964\n",
      "6838 Epoch: 0081 cost =  0.040249400 val =  0.840304\n",
      "6838 Epoch: 0082 cost =  0.036825404 val =  0.839280\n",
      "6838 Epoch: 0083 cost =  0.034036156 val =  0.839865\n",
      "6838 Epoch: 0084 cost =  0.032151602 val =  0.838696\n",
      "6838 Epoch: 0085 cost =  0.034112238 val =  0.840743\n",
      "6838 Epoch: 0086 cost =  0.037433767 val =  0.841913\n",
      "6838 Epoch: 0087 cost =  0.033921177 val =  0.842644\n",
      "6838 Epoch: 0088 cost =  0.031148819 val =  0.836209\n",
      "6838 Epoch: 0089 cost =  0.028961718 val =  0.839427\n",
      "6838 Epoch: 0090 cost =  0.028156961 val =  0.840304\n",
      "6838 Epoch: 0091 cost =  0.026767423 val =  0.842352\n",
      "6838 Epoch: 0092 cost =  0.028416577 val =  0.843229\n",
      "6838 Epoch: 0093 cost =  0.029340053 val =  0.841620\n",
      "6838 Epoch: 0094 cost =  0.031386969 val =  0.838257\n",
      "6838 Epoch: 0095 cost =  0.029541637 val =  0.828312\n",
      "6838 Epoch: 0096 cost =  0.035119510 val =  0.831383\n",
      "6838 Epoch: 0097 cost =  0.034228888 val =  0.818660\n",
      "6838 Epoch: 0098 cost =  0.034214358 val =  0.825388\n",
      "6838 Epoch: 0099 cost =  0.040697644 val =  0.826557\n",
      "6838 Epoch: 0100 cost =  0.040668954 val =  0.823633\n"
     ]
    },
    {
     "data": {
      "text/plain": [
       "'./cnnmodel'"
      ]
     },
     "execution_count": 23,
     "metadata": {},
     "output_type": "execute_result"
    }
   ],
   "source": [
    "###########################\n",
    "batch_size = 64\n",
    "cost_history = np.empty(shape=[1], dtype=float)\n",
    "\n",
    "for epoch in range(training_epochs):#training epoch 500 / batch_size 128 --> acc 90%\n",
    "    avg_cost = 0\n",
    "    val_avg_cost =0\n",
    "    total_batch = int(y_train.shape[0] / batch_size)\n",
    "    for i in range(0, y_train.shape[0], batch_size):\n",
    "        feed_dict={X:X_train2[i:i+batch_size,:,:,:], Y:y_train[i:i+batch_size,:]}\n",
    "        c, _ = sess.run([cost, optimizer], feed_dict=feed_dict)\n",
    "        cost_history = np.append(cost_history,cost)\n",
    "        avg_cost += c/total_batch \n",
    "    \n",
    "    y_pred = sess.run(logits, feed_dict={X:X_val2})\n",
    "    y_pred = sess.run(tf.argmax(y_pred,1))\n",
    "    y_true = y_val\n",
    "        \n",
    "    y_true = sess.run(tf.argmax(y_true,1))\n",
    "    print(len(y_pred),end=' ')\n",
    "    print('Epoch:', '%04d' % (epoch+1), 'cost = ', '{:.9f}'.format(avg_cost), 'val = ','%f' %(accuracy_score(y_true, y_pred)) )\n",
    "saver.save(sess, model_path)"
   ]
  },
  {
   "cell_type": "code",
   "execution_count": 24,
   "metadata": {},
   "outputs": [],
   "source": [
    "y_pred = sess.run(tf.argmax(logits,1),feed_dict={X: X_test2})\n",
    "y_true = sess.run(tf.argmax(y_test,1))"
   ]
  },
  {
   "cell_type": "code",
   "execution_count": 25,
   "metadata": {},
   "outputs": [
    {
     "name": "stdout",
     "output_type": "stream",
     "text": [
      "F-Score: 0.831\n",
      "Accuracy:  0.8314225549836219\n",
      "             precision    recall  f1-score   support\n",
      "\n",
      "          0       0.94      0.84      0.89      3141\n",
      "          1       0.84      0.79      0.81      2975\n",
      "          2       0.72      0.87      0.79      2432\n",
      "\n",
      "avg / total       0.84      0.83      0.83      8548\n",
      "\n",
      "[[2654  197  290]\n",
      " [ 104 2337  534]\n",
      " [  67  249 2116]]\n"
     ]
    }
   ],
   "source": [
    "from sklearn.metrics import precision_recall_fscore_support\n",
    "p,r,f,s = precision_recall_fscore_support(y_true, y_pred, average='micro')\n",
    "print(\"F-Score:\", round(f,3))\n",
    "from sklearn.metrics import accuracy_score\n",
    "print(\"Accuracy: \", accuracy_score(y_true, y_pred))\n",
    "\n",
    "from sklearn.metrics import classification_report\n",
    "print(classification_report(y_true, y_pred))\n",
    "from sklearn.metrics import confusion_matrix\n",
    "print(confusion_matrix(y_true, y_pred))"
   ]
  },
  {
   "cell_type": "code",
   "execution_count": 40,
   "metadata": {},
   "outputs": [
    {
     "ename": "SyntaxError",
     "evalue": "invalid syntax (<ipython-input-40-a46e5f13d009>, line 1)",
     "output_type": "error",
     "traceback": [
      "\u001b[0;36m  File \u001b[0;32m\"<ipython-input-40-a46e5f13d009>\"\u001b[0;36m, line \u001b[0;32m1\u001b[0m\n\u001b[0;31m    learning rate 0.01\u001b[0m\n\u001b[0m                ^\u001b[0m\n\u001b[0;31mSyntaxError\u001b[0m\u001b[0;31m:\u001b[0m invalid syntax\n"
     ]
    }
   ],
   "source": [
    "'''learning rate 0.01\n",
    "batch size 64\n",
    "epoch 100\n",
    "-> 78%'''\n",
    "'''learning rate 0.01\n",
    "batch size 128\n",
    "epoch 100\n",
    "-> 77%'''\n",
    "'''learning rate 0.0002\n",
    "batch size 64\n",
    "epoch 100\n",
    "-> 85%'''\n",
    "'''learning rate 0.0002\n",
    "batch size 64\n",
    "epoch 50\n",
    "-> 85%'''\n",
    "'''learning rate 0.0002\n",
    "batch size 32\n",
    "epoch 100\n",
    "-> 90%'''\n",
    "#########################\n",
    "'''\n",
    "batch size 32\n",
    "epoch 100\n",
    "83%\n",
    "'''\n",
    "'''\n",
    "batch size 64\n",
    "epoch 100\n",
    "83%\n",
    "'''"
   ]
  }
 ],
 "metadata": {
  "kernelspec": {
   "display_name": "Python 3",
   "language": "python",
   "name": "python3"
  },
  "language_info": {
   "codemirror_mode": {
    "name": "ipython",
    "version": 3
   },
   "file_extension": ".py",
   "mimetype": "text/x-python",
   "name": "python",
   "nbconvert_exporter": "python",
   "pygments_lexer": "ipython3",
   "version": "3.6.6"
  }
 },
 "nbformat": 4,
 "nbformat_minor": 2
}
