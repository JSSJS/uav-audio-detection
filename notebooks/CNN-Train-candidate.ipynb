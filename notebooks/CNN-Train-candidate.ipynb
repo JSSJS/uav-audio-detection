{
 "cells": [
  {
   "cell_type": "code",
   "execution_count": 1,
   "metadata": {
    "scrolled": true
   },
   "outputs": [],
   "source": [
    "import matplotlib.pyplot as plt\n",
    "%matplotlib inline\n",
    "import IPython.display\n",
    "import librosa.display\n",
    "import numpy as np\n",
    "import librosa\n",
    "import tensorflow as tf\n",
    "import glob"
   ]
  },
  {
   "cell_type": "code",
   "execution_count": 2,
   "metadata": {},
   "outputs": [],
   "source": [
    "#uav_path = 'C:/Users/Jaesung/Desktop/코딩/Python실습/K-SW-PJT/RW_AUDIO_DATA_2018_Update/RW_AUDIO_DATA_2018_Update/JUNE_01_PHANTOMS/*.wav'\n",
    "#none_path = 'C:/Users/Jaesung/Desktop/코딩/Python실습/K-SW-PJT/RW_AUDIO_DATA_2018_Update/RW_AUDIO_DATA_2018_Update/JUNE_02_BACKGROUND/background_0*.wav'\n",
    "\n",
    "uav_path = '../../../new/Unloaded/*.wav'\n",
    "loaded_path = '../../../new/Loaded/*.wav'\n",
    "none_path = '../../../new/Background/*.wav'\n",
    "\n",
    "uav_files = glob.glob(uav_path)\n",
    "loaded_files = glob.glob(loaded_path)\n",
    "none_files = glob.glob(none_path)"
   ]
  },
  {
   "cell_type": "code",
   "execution_count": 3,
   "metadata": {},
   "outputs": [],
   "source": [
    "CHUNK_SIZE = 8192\n",
    "SR = 44100\n",
    "N_MFCC = 16"
   ]
  },
  {
   "cell_type": "code",
   "execution_count": 4,
   "metadata": {},
   "outputs": [],
   "source": [
    "def load(files, sr=44100):\n",
    "    [raw, sr] = librosa.load(files[0], sr=sr)\n",
    "    for f in files[1:]:\n",
    "        [array, sr] = librosa.load(f, sr=sr)\n",
    "        raw = np.hstack((raw, array))\n",
    "    print(raw.shape)\n",
    "    return raw"
   ]
  },
  {
   "cell_type": "code",
   "execution_count": 5,
   "metadata": {},
   "outputs": [
    {
     "name": "stdout",
     "output_type": "stream",
     "text": [
      "(33611763,)\n",
      "(16057370,)\n",
      "(80501215,)\n"
     ]
    }
   ],
   "source": [
    "uav_raw = load(uav_files)\n",
    "loaded_raw = load(loaded_files)\n",
    "none_raw = load(none_files)"
   ]
  },
  {
   "cell_type": "markdown",
   "metadata": {},
   "source": [
    "# Data Processing"
   ]
  },
  {
   "cell_type": "code",
   "execution_count": 6,
   "metadata": {},
   "outputs": [],
   "source": [
    "def mfcc4(raw, label, chunk_size=8192, window_size=4096, sr=44100, n_mfcc=16, n_frame=16):\n",
    "    mfcc = np.empty((0, n_mfcc, n_frame))\n",
    "    y = []\n",
    "    print(raw.shape)\n",
    "    for i in range(0, len(raw), chunk_size//2):\n",
    "        mfcc_slice = librosa.feature.mfcc(raw[i:i+chunk_size], sr=sr, n_mfcc=n_mfcc) #n_mfcc,17\n",
    "        if mfcc_slice.shape[1] < 17:\n",
    "            print(\"small end:\", mfcc_slice.shape)\n",
    "            continue\n",
    "        mfcc_slice = mfcc_slice[:,:-1]\n",
    "        mfcc_slice = mfcc_slice.reshape((1, mfcc_slice.shape[0], mfcc_slice.shape[1]))\n",
    "        mfcc = np.vstack((mfcc, mfcc_slice))\n",
    "        y.append(label)\n",
    "    y = np.array(y)\n",
    "    return mfcc, y"
   ]
  },
  {
   "cell_type": "code",
   "execution_count": 7,
   "metadata": {},
   "outputs": [
    {
     "name": "stdout",
     "output_type": "stream",
     "text": [
      "(16057370,)\n",
      "small end: (16, 11)\n",
      "small end: (16, 3)\n",
      "(33611763,)\n",
      "small end: (16, 16)\n",
      "small end: (16, 8)\n",
      "(80501215,)\n",
      "small end: (16, 13)\n",
      "small end: (16, 5)\n",
      "(8204, 16, 16) (8204,)\n",
      "(3919, 16, 16) (3919,)\n",
      "(19652, 16, 16) (19652,)\n"
     ]
    }
   ],
   "source": [
    "mfcc_loaded, y_loaded = mfcc4(loaded_raw, 2)\n",
    "mfcc_uav, y_uav = mfcc4(uav_raw, 1)\n",
    "mfcc_none, y_none = mfcc4(none_raw, 0)\n",
    "\n",
    "print(mfcc_uav.shape, y_uav.shape)\n",
    "print(mfcc_loaded.shape, y_loaded.shape)\n",
    "print(mfcc_none.shape, y_none.shape)"
   ]
  },
  {
   "cell_type": "code",
   "execution_count": 8,
   "metadata": {},
   "outputs": [
    {
     "name": "stdout",
     "output_type": "stream",
     "text": [
      "(31775, 16, 16) (31775,)\n"
     ]
    }
   ],
   "source": [
    "X = np.concatenate((mfcc_loaded, mfcc_uav, mfcc_none), axis=0)\n",
    "y = np.hstack((y_loaded, y_uav, y_none))\n",
    "print(X.shape, y.shape)"
   ]
  },
  {
   "cell_type": "code",
   "execution_count": 9,
   "metadata": {},
   "outputs": [
    {
     "name": "stdout",
     "output_type": "stream",
     "text": [
      "(31775, 3)\n"
     ]
    }
   ],
   "source": [
    "n_labels = y.shape[0]\n",
    "n_unique_labels = 3\n",
    "y_encoded = np.zeros((n_labels, n_unique_labels))\n",
    "y_encoded[np.arange(n_labels), y] = 1\n",
    "print(y_encoded.shape)"
   ]
  },
  {
   "cell_type": "code",
   "execution_count": 10,
   "metadata": {},
   "outputs": [],
   "source": [
    "from sklearn import model_selection\n",
    "X_train, X_test, y_train, y_test = model_selection.train_test_split(X, y_encoded, test_size=0.2, random_state=42)"
   ]
  },
  {
   "cell_type": "code",
   "execution_count": 11,
   "metadata": {},
   "outputs": [],
   "source": [
    "X_train, X_val, y_train, y_val = model_selection.train_test_split(X_train, y_train, test_size=0.2, random_state=42)"
   ]
  },
  {
   "cell_type": "code",
   "execution_count": 12,
   "metadata": {},
   "outputs": [
    {
     "name": "stdout",
     "output_type": "stream",
     "text": [
      "(20336, 16, 16) (6355, 16, 16)\n",
      "(5084, 16, 16) (5084, 3)\n",
      "(20336, 3) (6355, 3)\n"
     ]
    }
   ],
   "source": [
    "print(X_train.shape, X_test.shape)\n",
    "print(X_val.shape, y_val.shape)\n",
    "print(y_train.shape, y_test.shape)"
   ]
  },
  {
   "cell_type": "code",
   "execution_count": 13,
   "metadata": {},
   "outputs": [],
   "source": [
    "### path selection between jaesung & gunhoo ###\n",
    "#np.save('C:/Users/Jaesung/Desktop/코딩/Python실습/K-SW-PJT/RW_AUDIO_DATA_2018_Update/RW_AUDIO_DATA_2018_Update/Xy/X_train_chunk_3d', X_train)\n",
    "#np.save('C:/Users/Jaesung/Desktop/코딩/Python실습/K-SW-PJT/RW_AUDIO_DATA_2018_Update/RW_AUDIO_DATA_2018_Update/Xy/X_test_chunk_3d', X_test)\n",
    "#np.save('C:/Users/Jaesung/Desktop/코딩/Python실습/K-SW-PJT/RW_AUDIO_DATA_2018_Update/RW_AUDIO_DATA_2018_Update/Xy/y_train_chunk_3d', y_train)\n",
    "#np.save('C:/Users/Jaesung/Desktop/코딩/Python실습/K-SW-PJT/RW_AUDIO_DATA_2018_Update/RW_AUDIO_DATA_2018_Update/Xy/y_test_chunk_3d', y_test)\n",
    "np.save('../../../RW_AUDIO_DATA_2018_Update/Xy/X_train_chunk_3d', X_train)\n",
    "np.save('../../../RW_AUDIO_DATA_2018_Update/Xy/X_test_chunk_3d', X_test)\n",
    "np.save('../../../RW_AUDIO_DATA_2018_Update/Xy/X_val_chunk_3d', X_val)\n",
    "np.save('../../../RW_AUDIO_DATA_2018_Update/Xy/y_val_chunk_3d', y_val)\n",
    "np.save('../../../RW_AUDIO_DATA_2018_Update/Xy/y_train_chunk_3d', y_train)\n",
    "np.save('../../../RW_AUDIO_DATA_2018_Update/Xy/y_test_chunk_3d', y_test)"
   ]
  },
  {
   "cell_type": "code",
   "execution_count": 14,
   "metadata": {},
   "outputs": [],
   "source": [
    "### path selection between jaesung & gunhoo ###\n",
    "#X_train = np.load('C:/Users/Jaesung/Desktop/코딩/Python실습/K-SW-PJT/RW_AUDIO_DATA_2018_Update/RW_AUDIO_DATA_2018_Update/Xy/X_train_chunk_3d.npy')\n",
    "#X_test = np.load('C:/Users/Jaesung/Desktop/코딩/Python실습/K-SW-PJT/RW_AUDIO_DATA_2018_Update/RW_AUDIO_DATA_2018_Update/Xy/X_test_chunk_3d.npy')\n",
    "#y_train = np.load('C:/Users/Jaesung/Desktop/코딩/Python실습/K-SW-PJT/RW_AUDIO_DATA_2018_Update/RW_AUDIO_DATA_2018_Update/Xy/y_train_chunk_3d.npy')\n",
    "#y_test = np.load('C:/Users/Jaesung/Desktop/코딩/Python실습/K-SW-PJT/RW_AUDIO_DATA_2018_Update/RW_AUDIO_DATA_2018_Update/Xy/y_test_chunk_3d.npy')\n",
    "X_train = np.load('../../../RW_AUDIO_DATA_2018_Update/Xy/X_train_chunk_3d.npy')\n",
    "X_test = np.load('../../../RW_AUDIO_DATA_2018_Update/Xy/X_test_chunk_3d.npy')\n",
    "X_val = np.load('../../../RW_AUDIO_DATA_2018_Update/Xy/X_val_chunk_3d.npy')\n",
    "y_val = np.load('../../../RW_AUDIO_DATA_2018_Update/Xy/y_val_chunk_3d.npy')\n",
    "y_train = np.load('../../../RW_AUDIO_DATA_2018_Update/Xy/y_train_chunk_3d.npy')\n",
    "y_test = np.load('../../../RW_AUDIO_DATA_2018_Update/Xy/y_test_chunk_3d.npy')"
   ]
  },
  {
   "cell_type": "markdown",
   "metadata": {},
   "source": [
    "# Experiment 3 - One convolutional layer /w no dropout"
   ]
  },
  {
   "cell_type": "markdown",
   "metadata": {},
   "source": [
    "##Experiment 3-2\n",
    "- learning rate 0.005\n",
    "- pooling stride 1x1\n",
    "- #filter 1\n",
    "- best result among every other settings\n",
    "- cost kept fluctuated during training. (0.8 -> 1.3) -- why is that?"
   ]
  },
  {
   "cell_type": "code",
   "execution_count": 15,
   "metadata": {},
   "outputs": [],
   "source": [
    "tf.reset_default_graph()"
   ]
  },
  {
   "cell_type": "code",
   "execution_count": 16,
   "metadata": {},
   "outputs": [],
   "source": [
    "n_mfcc = 16\n",
    "n_frame = 16\n",
    "n_classes = 3\n",
    "n_channels = 1\n",
    "\n",
    "stride = 1\n",
    "pad = \"SAME\"\n",
    "\n",
    "learning_rate = 0.0002  # 0.005\n",
    "#0.0002 \n",
    "training_epochs = 100"
   ]
  },
  {
   "cell_type": "markdown",
   "metadata": {},
   "source": [
    "# Layer 1 "
   ]
  },
  {
   "cell_type": "code",
   "execution_count": 17,
   "metadata": {},
   "outputs": [],
   "source": [
    "X = tf.placeholder(tf.float32, shape=[None,n_mfcc*n_frame*n_channels])\n",
    "X = tf.reshape(X, [-1, n_mfcc, n_frame, n_channels])\n",
    "Y = tf.placeholder(tf.float32, shape=[None,n_classes])\n",
    "\n",
    "\n",
    "conv1 = tf.layers.conv2d(inputs=X, filters=1, kernel_size=[9, 9],\n",
    "                         padding=\"SAME\", activation=tf.nn.relu)\n",
    "pool1 = tf.layers.max_pooling2d(inputs=conv1, pool_size=[4, 4],\n",
    "                                padding=\"SAME\", strides=1)\n",
    "\n",
    "conv2 = tf.layers.conv2d(inputs=pool1, filters=1, kernel_size=[9, 9],\n",
    "                         padding=\"SAME\", activation=tf.nn.relu)\n",
    "pool2 = tf.layers.max_pooling2d(inputs=conv2, pool_size=[4, 4],\n",
    "                                padding=\"SAME\", strides=1)\n",
    "#dropout1 = tf.layers.dropout(inputs=pool1, rate=0.7, training=True)\n",
    "\n",
    "flat = tf.reshape(pool2, [-1, 16*16*1])"
   ]
  },
  {
   "cell_type": "code",
   "execution_count": 18,
   "metadata": {},
   "outputs": [],
   "source": [
    "dense2 = tf.layers.dense(inputs=flat, units=625, activation=tf.nn.relu)\n",
    "#dropout2 = tf.layers.dropout(inputs=dense2, rate=0.5, training=True)\n",
    "logits = tf.layers.dense(inputs=dense2, units=3)\n",
    "\n",
    "cost = tf.reduce_mean(tf.nn.softmax_cross_entropy_with_logits_v2(logits=logits, labels=Y))\n",
    "optimizer = tf.train.AdamOptimizer(learning_rate=learning_rate).minimize(cost)\n",
    "\n",
    "Y_pred = tf.contrib.layers.fully_connected(logits,n_classes,activation_fn = None)"
   ]
  },
  {
   "cell_type": "code",
   "execution_count": 19,
   "metadata": {},
   "outputs": [],
   "source": [
    "sess = tf.Session()\n",
    "sess.run(tf.global_variables_initializer())"
   ]
  },
  {
   "cell_type": "code",
   "execution_count": 20,
   "metadata": {},
   "outputs": [],
   "source": [
    "X_train2 = X_train.reshape(X_train.shape[0], X_train.shape[1], X_train.shape[2], 1)\n",
    "X_test2 = X_test.reshape(X_test.shape[0], X_test.shape[1], X_test.shape[2], 1)\n",
    "X_val2 = X_val.reshape(X_val.shape[0], X_val.shape[1], X_val.shape[2], 1)"
   ]
  },
  {
   "cell_type": "code",
   "execution_count": 21,
   "metadata": {},
   "outputs": [],
   "source": [
    "#model_path = 'C:/Users/Jaesung/Desktop/코딩/Python실습/K-SW-PJT/GIt/uav-audio-detection/models/CNN/my_test_model_cnn'\n",
    "model_path = '../models/CNN/my_test_model_cnn'\n",
    "saver = tf.train.Saver()"
   ]
  },
  {
   "cell_type": "code",
   "execution_count": 22,
   "metadata": {},
   "outputs": [],
   "source": [
    "from sklearn.metrics import precision_recall_fscore_support\n",
    "from sklearn.metrics import accuracy_score\n",
    "from sklearn.metrics import classification_report\n",
    "from sklearn.metrics import confusion_matrix\n",
    "\n",
    "import itertools as it"
   ]
  },
  {
   "cell_type": "code",
   "execution_count": 23,
   "metadata": {
    "scrolled": false
   },
   "outputs": [
    {
     "name": "stdout",
     "output_type": "stream",
     "text": [
      "5084 Epoch: 0001 cost =  1.593692330 val =  0.731511\n",
      "5084 Epoch: 0002 cost =  0.662845734 val =  0.753934\n",
      "5084 Epoch: 0003 cost =  0.556872560 val =  0.783635\n",
      "5084 Epoch: 0004 cost =  0.520104294 val =  0.792093\n",
      "5084 Epoch: 0005 cost =  0.464906356 val =  0.805271\n",
      "5084 Epoch: 0006 cost =  0.439844847 val =  0.810976\n",
      "5084 Epoch: 0007 cost =  0.425669779 val =  0.822187\n",
      "5084 Epoch: 0008 cost =  0.411870416 val =  0.823761\n",
      "5084 Epoch: 0009 cost =  0.401784462 val =  0.826908\n",
      "5084 Epoch: 0010 cost =  0.388349481 val =  0.829858\n",
      "5084 Epoch: 0011 cost =  0.376698248 val =  0.832415\n",
      "5084 Epoch: 0012 cost =  0.368689218 val =  0.835366\n",
      "5084 Epoch: 0013 cost =  0.361230424 val =  0.840480\n",
      "5084 Epoch: 0014 cost =  0.355987112 val =  0.843824\n",
      "5084 Epoch: 0015 cost =  0.349547872 val =  0.846774\n",
      "5084 Epoch: 0016 cost =  0.345410508 val =  0.849725\n",
      "5084 Epoch: 0017 cost =  0.339537629 val =  0.855625\n",
      "5084 Epoch: 0018 cost =  0.333396372 val =  0.854249\n",
      "5084 Epoch: 0019 cost =  0.329796555 val =  0.852872\n",
      "5084 Epoch: 0020 cost =  0.327108328 val =  0.858773\n",
      "5084 Epoch: 0021 cost =  0.321669114 val =  0.864673\n",
      "5084 Epoch: 0022 cost =  0.313538949 val =  0.869394\n",
      "5084 Epoch: 0023 cost =  0.306709844 val =  0.872935\n",
      "5084 Epoch: 0024 cost =  0.303405678 val =  0.875492\n",
      "5084 Epoch: 0025 cost =  0.295990265 val =  0.875492\n",
      "5084 Epoch: 0026 cost =  0.290623810 val =  0.879032\n",
      "5084 Epoch: 0027 cost =  0.285576369 val =  0.878245\n",
      "5084 Epoch: 0028 cost =  0.281416560 val =  0.878442\n",
      "5084 Epoch: 0029 cost =  0.277273977 val =  0.882769\n",
      "5084 Epoch: 0030 cost =  0.272309495 val =  0.882966\n",
      "5084 Epoch: 0031 cost =  0.267561448 val =  0.882179\n",
      "5084 Epoch: 0032 cost =  0.264123263 val =  0.883753\n",
      "5084 Epoch: 0033 cost =  0.260923111 val =  0.884933\n",
      "5084 Epoch: 0034 cost =  0.256392912 val =  0.885917\n",
      "5084 Epoch: 0035 cost =  0.252972794 val =  0.886113\n",
      "5084 Epoch: 0036 cost =  0.249122913 val =  0.889064\n",
      "5084 Epoch: 0037 cost =  0.246419944 val =  0.886507\n",
      "5084 Epoch: 0038 cost =  0.243394103 val =  0.889457\n",
      "5084 Epoch: 0039 cost =  0.242013689 val =  0.889654\n",
      "5084 Epoch: 0040 cost =  0.239156864 val =  0.889654\n",
      "5084 Epoch: 0041 cost =  0.237764980 val =  0.890834\n",
      "5084 Epoch: 0042 cost =  0.233240845 val =  0.888474\n",
      "5084 Epoch: 0043 cost =  0.230560227 val =  0.888277\n",
      "5084 Epoch: 0044 cost =  0.226742334 val =  0.888867\n",
      "5084 Epoch: 0045 cost =  0.222015368 val =  0.889064\n",
      "5084 Epoch: 0046 cost =  0.221652456 val =  0.888277\n",
      "5084 Epoch: 0047 cost =  0.216276694 val =  0.890047\n",
      "5084 Epoch: 0048 cost =  0.214713485 val =  0.890441\n",
      "5084 Epoch: 0049 cost =  0.212134192 val =  0.885327\n",
      "5084 Epoch: 0050 cost =  0.208728728 val =  0.886310\n",
      "5084 Epoch: 0051 cost =  0.206336849 val =  0.885720\n",
      "5084 Epoch: 0052 cost =  0.201945320 val =  0.887097\n",
      "5084 Epoch: 0053 cost =  0.199271952 val =  0.883753\n",
      "5084 Epoch: 0054 cost =  0.198699301 val =  0.886703\n",
      "5084 Epoch: 0055 cost =  0.196522061 val =  0.884540\n",
      "5084 Epoch: 0056 cost =  0.194369986 val =  0.886113\n",
      "5084 Epoch: 0057 cost =  0.192945867 val =  0.884146\n",
      "5084 Epoch: 0058 cost =  0.191177856 val =  0.881786\n",
      "5084 Epoch: 0059 cost =  0.190725171 val =  0.883556\n",
      "5084 Epoch: 0060 cost =  0.188334652 val =  0.886507\n",
      "5084 Epoch: 0061 cost =  0.187840541 val =  0.887097\n",
      "5084 Epoch: 0062 cost =  0.187571339 val =  0.886703\n",
      "5084 Epoch: 0063 cost =  0.185481436 val =  0.890047\n",
      "5084 Epoch: 0064 cost =  0.184386118 val =  0.888277\n",
      "5084 Epoch: 0065 cost =  0.182114718 val =  0.890834\n",
      "5084 Epoch: 0066 cost =  0.178520054 val =  0.885130\n",
      "5084 Epoch: 0067 cost =  0.179274481 val =  0.890637\n",
      "5084 Epoch: 0068 cost =  0.178107566 val =  0.889457\n",
      "5084 Epoch: 0069 cost =  0.177058911 val =  0.886507\n",
      "5084 Epoch: 0070 cost =  0.173247352 val =  0.887097\n",
      "5084 Epoch: 0071 cost =  0.173201974 val =  0.889457\n",
      "5084 Epoch: 0072 cost =  0.170329208 val =  0.890637\n",
      "5084 Epoch: 0073 cost =  0.170890508 val =  0.890047\n",
      "5084 Epoch: 0074 cost =  0.169480412 val =  0.888080\n",
      "5084 Epoch: 0075 cost =  0.167929756 val =  0.885720\n",
      "5084 Epoch: 0076 cost =  0.165459245 val =  0.885327\n",
      "5084 Epoch: 0077 cost =  0.164114736 val =  0.886113\n",
      "5084 Epoch: 0078 cost =  0.162608290 val =  0.885327\n",
      "5084 Epoch: 0079 cost =  0.160122561 val =  0.885327\n",
      "5084 Epoch: 0080 cost =  0.157544329 val =  0.885327\n",
      "5084 Epoch: 0081 cost =  0.155253416 val =  0.887490\n",
      "5084 Epoch: 0082 cost =  0.155234643 val =  0.884540\n",
      "5084 Epoch: 0083 cost =  0.151834677 val =  0.881393\n",
      "5084 Epoch: 0084 cost =  0.149694327 val =  0.885917\n",
      "5084 Epoch: 0085 cost =  0.149900790 val =  0.886900\n",
      "5084 Epoch: 0086 cost =  0.149235422 val =  0.886703\n",
      "5084 Epoch: 0087 cost =  0.150179197 val =  0.884343\n",
      "5084 Epoch: 0088 cost =  0.150110627 val =  0.885130\n",
      "5084 Epoch: 0089 cost =  0.147098625 val =  0.882769\n",
      "5084 Epoch: 0090 cost =  0.145296057 val =  0.883360\n",
      "5084 Epoch: 0091 cost =  0.144843024 val =  0.886507\n",
      "5084 Epoch: 0092 cost =  0.143420162 val =  0.884540\n",
      "5084 Epoch: 0093 cost =  0.140946045 val =  0.888867\n",
      "5084 Epoch: 0094 cost =  0.139242513 val =  0.889457\n",
      "5084 Epoch: 0095 cost =  0.137880175 val =  0.887687\n",
      "5084 Epoch: 0096 cost =  0.137447300 val =  0.885917\n",
      "5084 Epoch: 0097 cost =  0.134552662 val =  0.886703\n",
      "5084 Epoch: 0098 cost =  0.134317518 val =  0.885130\n",
      "5084 Epoch: 0099 cost =  0.134261994 val =  0.885130\n",
      "5084 Epoch: 0100 cost =  0.136175212 val =  0.878639\n"
     ]
    },
    {
     "data": {
      "text/plain": [
       "'../models/CNN/my_test_model_cnn'"
      ]
     },
     "execution_count": 23,
     "metadata": {},
     "output_type": "execute_result"
    }
   ],
   "source": [
    "###########################\n",
    "batch_size = 64\n",
    "cost_history = np.empty(shape=[1], dtype=float)\n",
    "\n",
    "for epoch in range(training_epochs):\n",
    "    avg_cost = 0\n",
    "    val_avg_cost =0\n",
    "    total_batch = int(y_train.shape[0] / batch_size)\n",
    "    for i in range(0, y_train.shape[0], batch_size):\n",
    "        feed_dict={X:X_train2[i:i+batch_size,:,:,:], Y:y_train[i:i+batch_size,:]}   # keep_prob 삭제  \n",
    "        c, _ = sess.run([cost, optimizer], feed_dict=feed_dict)\n",
    "        cost_history = np.append(cost_history,cost)\n",
    "        avg_cost += c/total_batch \n",
    "    \n",
    "    y_pred = sess.run(logits, feed_dict={X:X_val2})\n",
    "    y_pred = sess.run(tf.argmax(y_pred,1))\n",
    "    y_true = y_val\n",
    "        \n",
    "    y_true = sess.run(tf.argmax(y_true,1))\n",
    "    print(len(y_pred),end=' ')\n",
    "    print('Epoch:', '%04d' % (epoch+1), 'cost = ', '{:.9f}'.format(avg_cost), 'val = ','%f' %(accuracy_score(y_true, y_pred)) )\n",
    "saver.save(sess, model_path)"
   ]
  },
  {
   "cell_type": "code",
   "execution_count": 24,
   "metadata": {},
   "outputs": [],
   "source": [
    "y_pred = sess.run(tf.argmax(logits,1),feed_dict={X: X_test2}) # keep_prob 삭제  \n",
    "y_true = sess.run(tf.argmax(y_test,1))"
   ]
  },
  {
   "cell_type": "code",
   "execution_count": 25,
   "metadata": {},
   "outputs": [
    {
     "name": "stdout",
     "output_type": "stream",
     "text": [
      "F-Score: 0.886\n",
      "Accuracy:  0.8860739575137687\n",
      "             precision    recall  f1-score   support\n",
      "\n",
      "          0       0.95      0.91      0.93      3908\n",
      "          1       0.82      0.90      0.86      1677\n",
      "          2       0.74      0.75      0.74       770\n",
      "\n",
      "avg / total       0.89      0.89      0.89      6355\n",
      "\n",
      "[[3545  225  138]\n",
      " [  99 1508   70]\n",
      " [  89  103  578]]\n"
     ]
    }
   ],
   "source": [
    "from sklearn.metrics import precision_recall_fscore_support\n",
    "p,r,f,s = precision_recall_fscore_support(y_true, y_pred, average='micro')\n",
    "print(\"F-Score:\", round(f,3))\n",
    "from sklearn.metrics import accuracy_score\n",
    "print(\"Accuracy: \", accuracy_score(y_true, y_pred))\n",
    "\n",
    "from sklearn.metrics import classification_report\n",
    "print(classification_report(y_true, y_pred))\n",
    "from sklearn.metrics import confusion_matrix\n",
    "print(confusion_matrix(y_true, y_pred))"
   ]
  },
  {
   "cell_type": "code",
   "execution_count": 26,
   "metadata": {},
   "outputs": [
    {
     "ename": "SyntaxError",
     "evalue": "invalid syntax (<ipython-input-26-7e5f5b988ca5>, line 1)",
     "output_type": "error",
     "traceback": [
      "\u001b[0;36m  File \u001b[0;32m\"<ipython-input-26-7e5f5b988ca5>\"\u001b[0;36m, line \u001b[0;32m1\u001b[0m\n\u001b[0;31m    88.8? epoch 40 9&4\u001b[0m\n\u001b[0m        ^\u001b[0m\n\u001b[0;31mSyntaxError\u001b[0m\u001b[0;31m:\u001b[0m invalid syntax\n"
     ]
    }
   ],
   "source": [
    "88.8? epoch 40 9&4"
   ]
  },
  {
   "cell_type": "code",
   "execution_count": null,
   "metadata": {},
   "outputs": [],
   "source": []
  }
 ],
 "metadata": {
  "kernelspec": {
   "display_name": "Python 3",
   "language": "python",
   "name": "python3"
  },
  "language_info": {
   "codemirror_mode": {
    "name": "ipython",
    "version": 3
   },
   "file_extension": ".py",
   "mimetype": "text/x-python",
   "name": "python",
   "nbconvert_exporter": "python",
   "pygments_lexer": "ipython3",
   "version": "3.6.6"
  }
 },
 "nbformat": 4,
 "nbformat_minor": 2
}
