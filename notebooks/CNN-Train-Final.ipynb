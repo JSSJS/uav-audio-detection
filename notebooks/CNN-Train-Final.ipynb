{
 "cells": [
  {
   "cell_type": "code",
   "execution_count": 1,
   "metadata": {
    "scrolled": true
   },
   "outputs": [],
   "source": [
    "import matplotlib.pyplot as plt\n",
    "%matplotlib inline\n",
    "import IPython.display\n",
    "import librosa.display\n",
    "import numpy as np\n",
    "import librosa\n",
    "import tensorflow as tf\n",
    "import glob"
   ]
  },
  {
   "cell_type": "code",
   "execution_count": 2,
   "metadata": {},
   "outputs": [],
   "source": [
    "#uav_path = 'C:/Users/Jaesung/Desktop/코딩/Python실습/K-SW-PJT/RW_AUDIO_DATA_2018_Update/RW_AUDIO_DATA_2018_Update/JUNE_01_PHANTOMS/*.wav'\n",
    "#none_path = 'C:/Users/Jaesung/Desktop/코딩/Python실습/K-SW-PJT/RW_AUDIO_DATA_2018_Update/RW_AUDIO_DATA_2018_Update/JUNE_02_BACKGROUND/background_0*.wav'\n",
    "\n",
    "uav_path = './Purdue/new/Unloaded/*.wav'\n",
    "loaded_path = './Purdue/new/Loaded/*.wav'\n",
    "none_path = './Purdue/new/Background/*.wav'\n",
    "\n",
    "uav_files = glob.glob(uav_path)\n",
    "loaded_files = glob.glob(loaded_path)\n",
    "none_files = glob.glob(none_path)"
   ]
  },
  {
   "cell_type": "code",
   "execution_count": 3,
   "metadata": {},
   "outputs": [],
   "source": [
    "CHUNK_SIZE = 8192\n",
    "SR = 44100\n",
    "N_MFCC = 16"
   ]
  },
  {
   "cell_type": "code",
   "execution_count": 4,
   "metadata": {},
   "outputs": [],
   "source": [
    "def load(files, sr=44100):\n",
    "    [raw, sr] = librosa.load(files[0], sr=sr)\n",
    "    for f in files[1:]:\n",
    "        [array, sr] = librosa.load(f, sr=sr)\n",
    "        raw = np.hstack((raw, array))\n",
    "    print(raw.shape)\n",
    "    return raw"
   ]
  },
  {
   "cell_type": "code",
   "execution_count": 5,
   "metadata": {},
   "outputs": [
    {
     "name": "stdout",
     "output_type": "stream",
     "text": [
      "(33611763,)\n",
      "(16057370,)\n",
      "(80501215,)\n"
     ]
    }
   ],
   "source": [
    "uav_raw = load(uav_files)\n",
    "loaded_raw = load(loaded_files)\n",
    "none_raw = load(none_files)"
   ]
  },
  {
   "cell_type": "markdown",
   "metadata": {},
   "source": [
    "# Data Processing"
   ]
  },
  {
   "cell_type": "code",
   "execution_count": 6,
   "metadata": {},
   "outputs": [],
   "source": [
    "def mfcc4(raw, label, chunk_size=8192, window_size=4096, sr=44100, n_mfcc=16, n_frame=16):\n",
    "    mfcc = np.empty((0, n_mfcc, n_frame))\n",
    "    y = []\n",
    "    print(raw.shape)\n",
    "    for i in range(0, len(raw), chunk_size//2):\n",
    "        mfcc_slice = librosa.feature.mfcc(raw[i:i+chunk_size], sr=sr, n_mfcc=n_mfcc) #n_mfcc,17\n",
    "        if mfcc_slice.shape[1] < 17:\n",
    "            print(\"small end:\", mfcc_slice.shape)\n",
    "            continue\n",
    "        mfcc_slice = mfcc_slice[:,:-1]\n",
    "        mfcc_slice = mfcc_slice.reshape((1, mfcc_slice.shape[0], mfcc_slice.shape[1]))\n",
    "        mfcc = np.vstack((mfcc, mfcc_slice))\n",
    "        y.append(label)\n",
    "    y = np.array(y)\n",
    "    return mfcc, y"
   ]
  },
  {
   "cell_type": "code",
   "execution_count": 7,
   "metadata": {},
   "outputs": [
    {
     "name": "stdout",
     "output_type": "stream",
     "text": [
      "(16057370,)\n",
      "small end: (16, 11)\n",
      "small end: (16, 3)\n",
      "(33611763,)\n",
      "small end: (16, 16)\n",
      "small end: (16, 8)\n",
      "(80501215,)\n",
      "small end: (16, 13)\n",
      "small end: (16, 5)\n",
      "(8204, 16, 16) (8204,)\n",
      "(3919, 16, 16) (3919,)\n",
      "(19652, 16, 16) (19652,)\n"
     ]
    }
   ],
   "source": [
    "mfcc_loaded, y_loaded = mfcc4(loaded_raw, 2)\n",
    "mfcc_uav, y_uav = mfcc4(uav_raw, 1)\n",
    "mfcc_none, y_none = mfcc4(none_raw, 0)\n",
    "\n",
    "print(mfcc_uav.shape, y_uav.shape)\n",
    "print(mfcc_loaded.shape, y_loaded.shape)\n",
    "print(mfcc_none.shape, y_none.shape)"
   ]
  },
  {
   "cell_type": "code",
   "execution_count": 8,
   "metadata": {},
   "outputs": [
    {
     "name": "stdout",
     "output_type": "stream",
     "text": [
      "(31775, 16, 16) (31775,)\n"
     ]
    }
   ],
   "source": [
    "X = np.concatenate((mfcc_loaded, mfcc_uav, mfcc_none), axis=0)\n",
    "y = np.hstack((y_loaded, y_uav, y_none))\n",
    "print(X.shape, y.shape)"
   ]
  },
  {
   "cell_type": "code",
   "execution_count": 9,
   "metadata": {},
   "outputs": [
    {
     "name": "stdout",
     "output_type": "stream",
     "text": [
      "(31775, 3)\n"
     ]
    }
   ],
   "source": [
    "n_labels = y.shape[0]\n",
    "n_unique_labels = 3\n",
    "y_encoded = np.zeros((n_labels, n_unique_labels))\n",
    "y_encoded[np.arange(n_labels), y] = 1\n",
    "print(y_encoded.shape)"
   ]
  },
  {
   "cell_type": "code",
   "execution_count": 10,
   "metadata": {},
   "outputs": [],
   "source": [
    "from sklearn import model_selection\n",
    "X_train, X_test, y_train, y_test = model_selection.train_test_split(X, y_encoded, test_size=0.2, random_state=42)"
   ]
  },
  {
   "cell_type": "code",
   "execution_count": 11,
   "metadata": {},
   "outputs": [],
   "source": [
    "X_train, X_val, y_train, y_val = model_selection.train_test_split(X_train, y_train, test_size=0.2, random_state=42)"
   ]
  },
  {
   "cell_type": "code",
   "execution_count": 12,
   "metadata": {},
   "outputs": [
    {
     "name": "stdout",
     "output_type": "stream",
     "text": [
      "(20336, 16, 16) (6355, 16, 16)\n",
      "(5084, 16, 16) (5084, 3)\n",
      "(20336, 3) (6355, 3)\n"
     ]
    }
   ],
   "source": [
    "print(X_train.shape, X_test.shape)\n",
    "print(X_val.shape, y_val.shape)\n",
    "print(y_train.shape, y_test.shape)"
   ]
  },
  {
   "cell_type": "code",
   "execution_count": 14,
   "metadata": {},
   "outputs": [],
   "source": [
    "### path selection between jaesung & gunhoo ###\n",
    "#np.save('C:/Users/Jaesung/Desktop/코딩/Python실습/K-SW-PJT/RW_AUDIO_DATA_2018_Update/RW_AUDIO_DATA_2018_Update/Xy/X_train_chunk_3d', X_train)\n",
    "#np.save('C:/Users/Jaesung/Desktop/코딩/Python실습/K-SW-PJT/RW_AUDIO_DATA_2018_Update/RW_AUDIO_DATA_2018_Update/Xy/X_test_chunk_3d', X_test)\n",
    "#np.save('C:/Users/Jaesung/Desktop/코딩/Python실습/K-SW-PJT/RW_AUDIO_DATA_2018_Update/RW_AUDIO_DATA_2018_Update/Xy/y_train_chunk_3d', y_train)\n",
    "#np.save('C:/Users/Jaesung/Desktop/코딩/Python실습/K-SW-PJT/RW_AUDIO_DATA_2018_Update/RW_AUDIO_DATA_2018_Update/Xy/y_test_chunk_3d', y_test)\n",
    "np.save('./X_train_chunk_3d', X_train)\n",
    "np.save('./X_test_chunk_3d', X_test)\n",
    "np.save('./X_val_chunk_3d', X_val)\n",
    "np.save('./y_val_chunk_3d', y_val)\n",
    "np.save('./y_train_chunk_3d', y_train)\n",
    "np.save('./y_test_chunk_3d', y_test)"
   ]
  },
  {
   "cell_type": "code",
   "execution_count": 15,
   "metadata": {},
   "outputs": [],
   "source": [
    "### path selection between jaesung & gunhoo ###\n",
    "#X_train = np.load('C:/Users/Jaesung/Desktop/코딩/Python실습/K-SW-PJT/RW_AUDIO_DATA_2018_Update/RW_AUDIO_DATA_2018_Update/Xy/X_train_chunk_3d.npy')\n",
    "#X_test = np.load('C:/Users/Jaesung/Desktop/코딩/Python실습/K-SW-PJT/RW_AUDIO_DATA_2018_Update/RW_AUDIO_DATA_2018_Update/Xy/X_test_chunk_3d.npy')\n",
    "#y_train = np.load('C:/Users/Jaesung/Desktop/코딩/Python실습/K-SW-PJT/RW_AUDIO_DATA_2018_Update/RW_AUDIO_DATA_2018_Update/Xy/y_train_chunk_3d.npy')\n",
    "#y_test = np.load('C:/Users/Jaesung/Desktop/코딩/Python실습/K-SW-PJT/RW_AUDIO_DATA_2018_Update/RW_AUDIO_DATA_2018_Update/Xy/y_test_chunk_3d.npy')\n",
    "X_train = np.load('./X_train_chunk_3d.npy')\n",
    "X_test = np.load('./X_test_chunk_3d.npy')\n",
    "X_val = np.load('./X_val_chunk_3d.npy')\n",
    "y_val = np.load('./y_val_chunk_3d.npy')\n",
    "y_train = np.load('./y_train_chunk_3d.npy')\n",
    "y_test = np.load('./y_test_chunk_3d.npy')"
   ]
  },
  {
   "cell_type": "markdown",
   "metadata": {},
   "source": [
    "# Experiment 3 - One convolutional layer /w no dropout"
   ]
  },
  {
   "cell_type": "markdown",
   "metadata": {},
   "source": [
    "##Experiment 3-2\n",
    "- learning rate 0.005\n",
    "- pooling stride 1x1\n",
    "- #filter 1\n",
    "- best result among every other settings\n",
    "- cost kept fluctuated during training. (0.8 -> 1.3) -- why is that?"
   ]
  },
  {
   "cell_type": "code",
   "execution_count": 16,
   "metadata": {},
   "outputs": [],
   "source": [
    "tf.reset_default_graph()"
   ]
  },
  {
   "cell_type": "code",
   "execution_count": 28,
   "metadata": {},
   "outputs": [],
   "source": [
    "n_mfcc = 16\n",
    "n_frame = 16\n",
    "n_classes = 3\n",
    "n_channels = 1\n",
    "\n",
    "learning_rate = 0.0002  # 0.005\n",
    "#0.0002 \n",
    "training_epochs = 60"
   ]
  },
  {
   "cell_type": "markdown",
   "metadata": {},
   "source": [
    "# Layer 1 "
   ]
  },
  {
   "cell_type": "code",
   "execution_count": 29,
   "metadata": {},
   "outputs": [],
   "source": [
    "X = tf.placeholder(tf.float32, shape=[None,n_mfcc*n_frame*n_channels])\n",
    "X = tf.reshape(X, [-1, n_mfcc, n_frame, n_channels])\n",
    "Y = tf.placeholder(tf.float32, shape=[None,n_classes])\n",
    "\n",
    "\n",
    "conv1 = tf.layers.conv2d(inputs=X, filters=1, kernel_size=[3, 3],\n",
    "                         padding=\"SAME\", activation=tf.nn.relu)\n",
    "pool1 = tf.layers.max_pooling2d(inputs=conv1, pool_size=[2, 2],\n",
    "                                padding=\"SAME\", strides=1)\n",
    "\n",
    "conv2 = tf.layers.conv2d(inputs=pool1, filters=1, kernel_size=[3, 3],\n",
    "                         padding=\"SAME\", activation=tf.nn.relu)\n",
    "pool2 = tf.layers.max_pooling2d(inputs=conv2, pool_size=[2, 2],\n",
    "                                padding=\"SAME\", strides=1)\n",
    "#dropout1 = tf.layers.dropout(inputs=pool1, rate=0.7, training=True)\n",
    "\n",
    "flat = tf.reshape(pool2, [-1, 16*16*1])"
   ]
  },
  {
   "cell_type": "code",
   "execution_count": 30,
   "metadata": {},
   "outputs": [],
   "source": [
    "dense2 = tf.layers.dense(inputs=flat, units=625, activation=tf.nn.relu)\n",
    "#dropout2 = tf.layers.dropout(inputs=dense2, rate=0.5, training=True)\n",
    "logits = tf.layers.dense(inputs=dense2, units=3)\n",
    "\n",
    "cost = tf.reduce_mean(tf.nn.softmax_cross_entropy_with_logits_v2(logits=logits, labels=Y))\n",
    "optimizer = tf.train.AdamOptimizer(learning_rate=learning_rate).minimize(cost)\n",
    "\n",
    "Y_pred = tf.contrib.layers.fully_connected(logits,n_classes,activation_fn = None)"
   ]
  },
  {
   "cell_type": "code",
   "execution_count": 31,
   "metadata": {},
   "outputs": [],
   "source": [
    "sess = tf.Session()\n",
    "sess.run(tf.global_variables_initializer())"
   ]
  },
  {
   "cell_type": "code",
   "execution_count": 32,
   "metadata": {},
   "outputs": [],
   "source": [
    "X_train2 = X_train.reshape(X_train.shape[0], X_train.shape[1], X_train.shape[2], 1)\n",
    "X_test2 = X_test.reshape(X_test.shape[0], X_test.shape[1], X_test.shape[2], 1)\n",
    "X_val2 = X_val.reshape(X_val.shape[0], X_val.shape[1], X_val.shape[2], 1)"
   ]
  },
  {
   "cell_type": "code",
   "execution_count": 33,
   "metadata": {},
   "outputs": [],
   "source": [
    "#model_path = 'C:/Users/Jaesung/Desktop/코딩/Python실습/K-SW-PJT/GIt/uav-audio-detection/models/CNN/my_test_model_cnn'\n",
    "model_path = './cnnmodel'\n",
    "saver = tf.train.Saver()"
   ]
  },
  {
   "cell_type": "code",
   "execution_count": 34,
   "metadata": {},
   "outputs": [],
   "source": [
    "from sklearn.metrics import precision_recall_fscore_support\n",
    "from sklearn.metrics import accuracy_score\n",
    "from sklearn.metrics import classification_report\n",
    "from sklearn.metrics import confusion_matrix\n",
    "\n",
    "import itertools as it"
   ]
  },
  {
   "cell_type": "code",
   "execution_count": 35,
   "metadata": {
    "scrolled": false
   },
   "outputs": [
    {
     "name": "stdout",
     "output_type": "stream",
     "text": [
      "5084 Epoch: 0001 cost =  0.608692444 val =  0.777537\n",
      "5084 Epoch: 0002 cost =  0.471090549 val =  0.802714\n",
      "5084 Epoch: 0003 cost =  0.434684866 val =  0.815303\n",
      "5084 Epoch: 0004 cost =  0.413225817 val =  0.822187\n",
      "5084 Epoch: 0005 cost =  0.394014478 val =  0.827301\n",
      "5084 Epoch: 0006 cost =  0.377060104 val =  0.831432\n",
      "5084 Epoch: 0007 cost =  0.362278951 val =  0.834972\n",
      "5084 Epoch: 0008 cost =  0.348527832 val =  0.839300\n",
      "5084 Epoch: 0009 cost =  0.335695457 val =  0.842250\n",
      "5084 Epoch: 0010 cost =  0.324850054 val =  0.845397\n",
      "5084 Epoch: 0011 cost =  0.313526077 val =  0.846381\n",
      "5084 Epoch: 0012 cost =  0.304213579 val =  0.846184\n",
      "5084 Epoch: 0013 cost =  0.294394726 val =  0.848741\n",
      "5084 Epoch: 0014 cost =  0.284503427 val =  0.849725\n",
      "5084 Epoch: 0015 cost =  0.276663905 val =  0.852085\n",
      "5084 Epoch: 0016 cost =  0.267196201 val =  0.852085\n",
      "5084 Epoch: 0017 cost =  0.259618292 val =  0.852085\n",
      "5084 Epoch: 0018 cost =  0.251813372 val =  0.853265\n",
      "5084 Epoch: 0019 cost =  0.244488218 val =  0.855625\n",
      "5084 Epoch: 0020 cost =  0.238186818 val =  0.857396\n",
      "5084 Epoch: 0021 cost =  0.230487251 val =  0.857199\n",
      "5084 Epoch: 0022 cost =  0.223926267 val =  0.859953\n",
      "5084 Epoch: 0023 cost =  0.219173888 val =  0.859559\n",
      "5084 Epoch: 0024 cost =  0.210767849 val =  0.858969\n",
      "5084 Epoch: 0025 cost =  0.201879989 val =  0.858576\n",
      "5084 Epoch: 0026 cost =  0.196216957 val =  0.857986\n",
      "5084 Epoch: 0027 cost =  0.188071703 val =  0.857002\n",
      "5084 Epoch: 0028 cost =  0.182867017 val =  0.853265\n",
      "5084 Epoch: 0029 cost =  0.177704575 val =  0.852675\n",
      "5084 Epoch: 0030 cost =  0.173002033 val =  0.847758\n",
      "5084 Epoch: 0031 cost =  0.168657085 val =  0.842250\n",
      "5084 Epoch: 0032 cost =  0.165605034 val =  0.831825\n",
      "5084 Epoch: 0033 cost =  0.164220677 val =  0.824154\n",
      "5084 Epoch: 0034 cost =  0.159562241 val =  0.824351\n",
      "5084 Epoch: 0035 cost =  0.150790147 val =  0.827105\n",
      "5084 Epoch: 0036 cost =  0.141981755 val =  0.831432\n",
      "5084 Epoch: 0037 cost =  0.135241994 val =  0.830645\n",
      "5084 Epoch: 0038 cost =  0.126532492 val =  0.836349\n",
      "5084 Epoch: 0039 cost =  0.120818159 val =  0.837136\n",
      "5084 Epoch: 0040 cost =  0.112408935 val =  0.830645\n",
      "5084 Epoch: 0041 cost =  0.109825771 val =  0.841857\n",
      "5084 Epoch: 0042 cost =  0.104318266 val =  0.839496\n",
      "5084 Epoch: 0043 cost =  0.099781008 val =  0.840283\n",
      "5084 Epoch: 0044 cost =  0.096015211 val =  0.839496\n",
      "5084 Epoch: 0045 cost =  0.091506349 val =  0.836939\n",
      "5084 Epoch: 0046 cost =  0.089323600 val =  0.843824\n",
      "5084 Epoch: 0047 cost =  0.089678260 val =  0.848544\n",
      "5084 Epoch: 0048 cost =  0.091430178 val =  0.846184\n",
      "5084 Epoch: 0049 cost =  0.095944204 val =  0.853265\n",
      "5084 Epoch: 0050 cost =  0.107230441 val =  0.857789\n",
      "5084 Epoch: 0051 cost =  0.106367520 val =  0.855625\n",
      "5084 Epoch: 0052 cost =  0.106920978 val =  0.846381\n",
      "5084 Epoch: 0053 cost =  0.108164076 val =  0.845791\n",
      "5084 Epoch: 0054 cost =  0.111386498 val =  0.862510\n",
      "5084 Epoch: 0055 cost =  0.105637789 val =  0.868214\n",
      "5084 Epoch: 0056 cost =  0.084951287 val =  0.863493\n",
      "5084 Epoch: 0057 cost =  0.076857963 val =  0.867427\n",
      "5084 Epoch: 0058 cost =  0.061033162 val =  0.863690\n",
      "5084 Epoch: 0059 cost =  0.052867724 val =  0.865460\n",
      "5084 Epoch: 0060 cost =  0.046826126 val =  0.864280\n"
     ]
    },
    {
     "data": {
      "text/plain": [
       "'./cnnmodel'"
      ]
     },
     "execution_count": 35,
     "metadata": {},
     "output_type": "execute_result"
    }
   ],
   "source": [
    "###########################\n",
    "batch_size = 64\n",
    "cost_history = np.empty(shape=[1], dtype=float)\n",
    "\n",
    "for epoch in range(training_epochs):\n",
    "    avg_cost = 0\n",
    "    val_avg_cost =0\n",
    "    total_batch = int(y_train.shape[0] / batch_size)\n",
    "    for i in range(0, y_train.shape[0], batch_size):\n",
    "        feed_dict={X:X_train2[i:i+batch_size,:,:,:], Y:y_train[i:i+batch_size,:]}   # keep_prob 삭제  \n",
    "        c, _ = sess.run([cost, optimizer], feed_dict=feed_dict)\n",
    "        cost_history = np.append(cost_history,cost)\n",
    "        avg_cost += c/total_batch \n",
    "    \n",
    "    y_pred = sess.run(logits, feed_dict={X:X_val2})\n",
    "    y_pred = sess.run(tf.argmax(y_pred,1))\n",
    "    y_true = y_val\n",
    "        \n",
    "    y_true = sess.run(tf.argmax(y_true,1))\n",
    "    print(len(y_pred),end=' ')\n",
    "    print('Epoch:', '%04d' % (epoch+1), 'cost = ', '{:.9f}'.format(avg_cost), 'val = ','%f' %(accuracy_score(y_true, y_pred)) )\n",
    "saver.save(sess, model_path)"
   ]
  },
  {
   "cell_type": "code",
   "execution_count": 36,
   "metadata": {},
   "outputs": [],
   "source": [
    "y_pred = sess.run(tf.argmax(logits,1),feed_dict={X: X_test2}) # keep_prob 삭제  \n",
    "y_true = sess.run(tf.argmax(y_test,1))"
   ]
  },
  {
   "cell_type": "code",
   "execution_count": 37,
   "metadata": {},
   "outputs": [
    {
     "name": "stdout",
     "output_type": "stream",
     "text": [
      "F-Score: 0.872\n",
      "Accuracy:  0.8717545239968528\n",
      "             precision    recall  f1-score   support\n",
      "\n",
      "          0       0.90      0.93      0.92      3908\n",
      "          1       0.84      0.83      0.83      1677\n",
      "          2       0.78      0.66      0.71       770\n",
      "\n",
      "avg / total       0.87      0.87      0.87      6355\n",
      "\n",
      "[[3646  179   83]\n",
      " [ 228 1388   61]\n",
      " [ 172   92  506]]\n"
     ]
    }
   ],
   "source": [
    "from sklearn.metrics import precision_recall_fscore_support\n",
    "p,r,f,s = precision_recall_fscore_support(y_true, y_pred, average='micro')\n",
    "print(\"F-Score:\", round(f,3))\n",
    "from sklearn.metrics import accuracy_score\n",
    "print(\"Accuracy: \", accuracy_score(y_true, y_pred))\n",
    "\n",
    "from sklearn.metrics import classification_report\n",
    "print(classification_report(y_true, y_pred))\n",
    "from sklearn.metrics import confusion_matrix\n",
    "print(confusion_matrix(y_true, y_pred))"
   ]
  },
  {
   "cell_type": "code",
   "execution_count": null,
   "metadata": {},
   "outputs": [],
   "source": []
  }
 ],
 "metadata": {
  "kernelspec": {
   "display_name": "Python 3",
   "language": "python",
   "name": "python3"
  },
  "language_info": {
   "codemirror_mode": {
    "name": "ipython",
    "version": 3
   },
   "file_extension": ".py",
   "mimetype": "text/x-python",
   "name": "python",
   "nbconvert_exporter": "python",
   "pygments_lexer": "ipython3",
   "version": "3.6.6"
  }
 },
 "nbformat": 4,
 "nbformat_minor": 2
}
